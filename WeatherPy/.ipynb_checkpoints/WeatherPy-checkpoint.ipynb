{
 "cells": [
  {
   "cell_type": "markdown",
   "metadata": {},
   "source": [
    "# WeatherPy\n",
    "----\n",
    "\n",
    "#### Note\n",
    "* Instructions have been included for each segment. You do not have to follow them exactly, but they are included to help you think through the steps."
   ]
  },
  {
   "cell_type": "code",
   "execution_count": 2,
   "metadata": {
    "scrolled": true
   },
   "outputs": [],
   "source": [
    "#kmr weatherpy workbook\n",
    "# Dependencies and Setup\n",
    "import matplotlib.pyplot as plt\n",
    "import pandas as pd\n",
    "import numpy as np\n",
    "import requests\n",
    "import time\n",
    "import scipy.stats as st\n",
    "from scipy.stats import linregress\n",
    "import json\n",
    "\n",
    "# Import API key\n",
    "from config import api_key\n",
    "\n",
    "# Incorporated citipy to determine city based on latitude and longitude\n",
    "from citipy import citipy\n",
    "\n",
    "# Output File (CSV)\n",
    "output_data_file = \"output_data/cities.csv\"\n",
    "\n",
    "# Range of latitudes and longitudes\n",
    "lat_range = (-90, 90)\n",
    "lng_range = (-180, 180)"
   ]
  },
  {
   "cell_type": "code",
   "execution_count": 3,
   "metadata": {},
   "outputs": [
    {
     "name": "stdout",
     "output_type": "stream",
     "text": [
      "The weather API responded with: 291.6.\n",
      "~~~~~~~~~~~~~~~~~~~~~~~~~~~~~~~~~~~~~~~~~~~~~~~~~\n"
     ]
    }
   ],
   "source": [
    "# Test to determine if the API key and url are working before gettign too far down the road\n",
    "# Build query URL and request your results in Celsius\n",
    "url = \"http://api.openweathermap.org/data/2.5/weather?\"\n",
    "town = \"Burundi\"\n",
    "# Get weather data\n",
    "xquery_url = url + \"appid=\" + api_key + \"&q=\" + town\n",
    "# Get temperature from JSON response\n",
    "weather_response = requests.get(xquery_url).json()\n",
    "weather_json = weather_response['main']['temp']\n",
    "# Report temperature\n",
    "print(f\"The weather API responded with: {weather_json}.\")\n",
    "print(\"~~~~~~~~~~~~~~~~~~~~~~~~~~~~~~~~~~~~~~~~~~~~~~~~~\")"
   ]
  },
  {
   "cell_type": "markdown",
   "metadata": {},
   "source": [
    "## Generate Cities List"
   ]
  },
  {
   "cell_type": "code",
   "execution_count": 4,
   "metadata": {},
   "outputs": [
    {
     "name": "stdout",
     "output_type": "stream",
     "text": [
      "The number of randomly generated cities in the project scope\n",
      "629\n"
     ]
    }
   ],
   "source": [
    "# List for holding lat_lngs and cities\n",
    "lat_lngs = []\n",
    "cities = []\n",
    "\n",
    "# Create a set of random lat and lng combinations\n",
    "lats = np.random.uniform(lat_range[0], lat_range[1], size=1500)\n",
    "lngs = np.random.uniform(lng_range[0], lng_range[1], size=1500)\n",
    "lat_lngs = zip(lats, lngs)\n",
    "\n",
    "# Identify nearest city for each lat, lng combination\n",
    "for lat_lng in lat_lngs:\n",
    "    city = citipy.nearest_city(lat_lng[0], lat_lng[1]).city_name\n",
    "    \n",
    "    # If the city is unique, then add it to a our cities list\n",
    "    if city not in cities:\n",
    "        cities.append(city)\n",
    "\n",
    "# Print the city count to confirm sufficient count\n",
    "#len(cities)\n",
    "fullset = len(cities)\n",
    "print(\"The number of randomly generated cities in the project scope\")\n",
    "print(fullset)\n",
    "#print(cities)"
   ]
  },
  {
   "cell_type": "code",
   "execution_count": 5,
   "metadata": {},
   "outputs": [
    {
     "name": "stdout",
     "output_type": "stream",
     "text": [
      "Exhibit 1a: Cities in the project with a place to capture weather data\n"
     ]
    },
    {
     "data": {
      "text/html": [
       "<div>\n",
       "<style scoped>\n",
       "    .dataframe tbody tr th:only-of-type {\n",
       "        vertical-align: middle;\n",
       "    }\n",
       "\n",
       "    .dataframe tbody tr th {\n",
       "        vertical-align: top;\n",
       "    }\n",
       "\n",
       "    .dataframe thead th {\n",
       "        text-align: right;\n",
       "    }\n",
       "</style>\n",
       "<table border=\"1\" class=\"dataframe\">\n",
       "  <thead>\n",
       "    <tr style=\"text-align: right;\">\n",
       "      <th></th>\n",
       "      <th>City</th>\n",
       "      <th>Lat</th>\n",
       "      <th>Lng</th>\n",
       "      <th>Temp Max</th>\n",
       "      <th>Humidity</th>\n",
       "      <th>Cloudiness</th>\n",
       "      <th>Wind Speed</th>\n",
       "      <th>Country</th>\n",
       "      <th>Date</th>\n",
       "    </tr>\n",
       "  </thead>\n",
       "  <tbody>\n",
       "    <tr>\n",
       "      <th>0</th>\n",
       "      <td>omsukchan</td>\n",
       "      <td></td>\n",
       "      <td></td>\n",
       "      <td></td>\n",
       "      <td></td>\n",
       "      <td></td>\n",
       "      <td></td>\n",
       "      <td></td>\n",
       "      <td></td>\n",
       "    </tr>\n",
       "    <tr>\n",
       "      <th>1</th>\n",
       "      <td>rikitea</td>\n",
       "      <td></td>\n",
       "      <td></td>\n",
       "      <td></td>\n",
       "      <td></td>\n",
       "      <td></td>\n",
       "      <td></td>\n",
       "      <td></td>\n",
       "      <td></td>\n",
       "    </tr>\n",
       "    <tr>\n",
       "      <th>2</th>\n",
       "      <td>illoqqortoormiut</td>\n",
       "      <td></td>\n",
       "      <td></td>\n",
       "      <td></td>\n",
       "      <td></td>\n",
       "      <td></td>\n",
       "      <td></td>\n",
       "      <td></td>\n",
       "      <td></td>\n",
       "    </tr>\n",
       "    <tr>\n",
       "      <th>3</th>\n",
       "      <td>sao filipe</td>\n",
       "      <td></td>\n",
       "      <td></td>\n",
       "      <td></td>\n",
       "      <td></td>\n",
       "      <td></td>\n",
       "      <td></td>\n",
       "      <td></td>\n",
       "      <td></td>\n",
       "    </tr>\n",
       "    <tr>\n",
       "      <th>4</th>\n",
       "      <td>santa isabel do rio negro</td>\n",
       "      <td></td>\n",
       "      <td></td>\n",
       "      <td></td>\n",
       "      <td></td>\n",
       "      <td></td>\n",
       "      <td></td>\n",
       "      <td></td>\n",
       "      <td></td>\n",
       "    </tr>\n",
       "  </tbody>\n",
       "</table>\n",
       "</div>"
      ],
      "text/plain": [
       "                        City Lat Lng Temp Max Humidity Cloudiness Wind Speed  \\\n",
       "0                  omsukchan                                                   \n",
       "1                    rikitea                                                   \n",
       "2           illoqqortoormiut                                                   \n",
       "3                 sao filipe                                                   \n",
       "4  santa isabel do rio negro                                                   \n",
       "\n",
       "  Country Date  \n",
       "0               \n",
       "1               \n",
       "2               \n",
       "3               \n",
       "4               "
      ]
     },
     "execution_count": 5,
     "metadata": {},
     "output_type": "execute_result"
    }
   ],
   "source": [
    "# Build a data frame to capture each cities weather information\n",
    "cities_df = {\n",
    "    \"City\": cities,\n",
    "}\n",
    "cities_df = pd.DataFrame(cities_df)\n",
    "print(\"Exhibit 1a: Cities in the project with a place to capture weather data\")\n",
    "\n",
    "# set up additional columns to hold information\n",
    "cities_df['Lat'] = \"\"\n",
    "cities_df['Lng'] = \"\"\n",
    "cities_df['Temp Max'] = \"\"\n",
    "cities_df['Humidity'] = \"\"\n",
    "cities_df['Cloudiness'] = \"\"\n",
    "cities_df['Wind Speed'] = \"\"\n",
    "cities_df['Country'] = \"\"\n",
    "cities_df['Date'] = \"\"\n",
    "cities_df.head()"
   ]
  },
  {
   "cell_type": "markdown",
   "metadata": {},
   "source": [
    "### Perform API Calls\n",
    "* Perform a weather check on each city using a series of successive API calls.\n",
    "* Include a print log of each city as it'sbeing processed (with the city number and city name).\n"
   ]
  },
  {
   "cell_type": "code",
   "execution_count": 6,
   "metadata": {
    "scrolled": true
   },
   "outputs": [
    {
     "name": "stdout",
     "output_type": "stream",
     "text": [
      "Checkpoint: Confirmation listing of cities processed through OpenWeather Site\n",
      "Processing Record 1 of 629. City = omsukchan\n",
      "Processing Record 2 of 629. City = rikitea\n",
      "Processing Record 3 of 629. City = illoqqortoormiut\n",
      "... skipped over  illoqqortoormiut  because it lacked sufficient information\n",
      "Processing Record 4 of 629. City = sao filipe\n",
      "Processing Record 5 of 629. City = santa isabel do rio negro\n",
      "Processing Record 6 of 629. City = barrow\n",
      "Processing Record 7 of 629. City = qaanaaq\n",
      "Processing Record 8 of 629. City = nikolskoye\n",
      "Processing Record 9 of 629. City = bubaque\n",
      "Processing Record 10 of 629. City = new norfolk\n",
      "Processing Record 11 of 629. City = kodiak\n",
      "Processing Record 12 of 629. City = bunawan\n",
      "Processing Record 13 of 629. City = tahta\n",
      "Processing Record 14 of 629. City = olafsvik\n",
      "Processing Record 15 of 629. City = grand river south east\n",
      "... skipped over  grand river south east  because it lacked sufficient information\n",
      "Processing Record 16 of 629. City = georgetown\n",
      "Processing Record 17 of 629. City = tateyama\n",
      "Processing Record 18 of 629. City = bredasdorp\n",
      "Processing Record 19 of 629. City = tuktoyaktuk\n",
      "Processing Record 20 of 629. City = ushuaia\n",
      "Processing Record 21 of 629. City = barentsburg\n",
      "... skipped over  barentsburg  because it lacked sufficient information\n",
      "Processing Record 22 of 629. City = bengkulu\n",
      "Processing Record 23 of 629. City = nelson bay\n",
      "Processing Record 24 of 629. City = saskylakh\n",
      "Processing Record 25 of 629. City = kawana waters\n",
      "... skipped over  kawana waters  because it lacked sufficient information\n",
      "Processing Record 26 of 629. City = tlacoyalco\n",
      "... skipped over  tlacoyalco  because it lacked sufficient information\n",
      "Processing Record 27 of 629. City = alofi\n",
      "Processing Record 28 of 629. City = acajutla\n",
      "Processing Record 29 of 629. City = san patricio\n",
      "Processing Record 30 of 629. City = ponta do sol\n",
      "Processing Record 31 of 629. City = port-gentil\n",
      "Processing Record 32 of 629. City = ilulissat\n",
      "Processing Record 33 of 629. City = mataura\n",
      "Processing Record 34 of 629. City = novooleksiyivka\n",
      "Processing Record 35 of 629. City = sangin\n",
      "Processing Record 36 of 629. City = kirakira\n",
      "Processing Record 37 of 629. City = bluff\n",
      "Processing Record 38 of 629. City = kapaa\n",
      "Processing Record 39 of 629. City = port elizabeth\n",
      "Processing Record 40 of 629. City = busselton\n",
      "Processing Record 41 of 629. City = ribeira grande\n",
      "Processing Record 42 of 629. City = meyungs\n",
      "... skipped over  meyungs  because it lacked sufficient information\n",
      "Processing Record 43 of 629. City = sao jose da coroa grande\n",
      "Processing Record 44 of 629. City = port blair\n",
      "Processing Record 45 of 629. City = abdanan\n",
      "Processing Record 46 of 629. City = wanning\n",
      "Processing Record 47 of 629. City = severo-kurilsk\n",
      "Processing Record 48 of 629. City = victoria\n",
      "Processing Record 49 of 629. City = hithadhoo\n",
      "Processing Record 50 of 629. City = yumen\n",
      "Processing Record 51 of 629. City = luderitz\n",
      "Processing Record 52 of 629. City = tasiilaq\n",
      "Processing Record 53 of 629. City = ixtapa\n",
      "Processing Record 54 of 629. City = puerto penasco\n",
      "Processing Record 55 of 629. City = tumannyy\n",
      "... skipped over  tumannyy  because it lacked sufficient information\n",
      "Processing Record 56 of 629. City = ingham\n",
      "Processing Record 57 of 629. City = taltal\n",
      "Processing Record 58 of 629. City = portland\n",
      "Processing Record 59 of 629. City = punta arenas\n",
      "Processing Record 60 of 629. City = tuatapere\n",
      "**Done running the first batch**\n"
     ]
    }
   ],
   "source": [
    "# Save config information.\n",
    "url = \"http://api.openweathermap.org/data/2.5/weather?\"\n",
    "units = \"metric\"\n",
    "\n",
    "# Build partial query URL\n",
    "query_url = f\"{url}appid={api_key}&units={units}&q=\"\n",
    "\n",
    "counter = 0\n",
    "\n",
    "# Loop through the list of cities and perform a request for data on each\n",
    "print(\"Checkpoint: Confirmation listing of cities processed through OpenWeather Site\")\n",
    "\n",
    "for index, row in cities_df.iterrows():\n",
    "    cityname = row['City']\n",
    "    counter = counter + 1\n",
    "    \n",
    "    if counter >= 61:\n",
    "        print(\"**Done running the first batch**\")\n",
    "        break\n",
    "    \n",
    "    if counter <= 60:\n",
    "        time.sleep(1)\n",
    "        print(f\"Processing Record {counter} of {fullset}. City = {cityname}\")\n",
    "        \n",
    "        try:\n",
    "            response = requests.get(query_url + cityname).json()   \n",
    "            cities_df.loc[index, 'Lat'] = response['coord']['lat']\n",
    "            cities_df.loc[index, 'Lng'] = response['coord']['lon']\n",
    "            cities_df.loc[index, 'Temp Max'] = response['main']['temp_max']\n",
    "            cities_df.loc[index, 'Humidity'] = response['main']['humidity']\n",
    "            cities_df.loc[index, 'Cloudiness'] = response['clouds']['all']\n",
    "            cities_df.loc[index, 'Wind Speed'] = response['wind']['speed']\n",
    "            cities_df.loc[index, 'Country'] = response['sys']['country']\n",
    "            cities_df.loc[index, 'Date'] = response['dt']\n",
    "         \n",
    "        except (KeyError, IndexError, ValueError):\n",
    "            print(f\"... skipped over  \" + cityname + \"  because it lacked sufficient information\")\n",
    "            #cities_df.remove(cityname)\n",
    "            pass\n",
    "\n",
    "# First attempt structure going to lists instead of dataframes\n",
    "# Create lists to capture date for use in data frame\n",
    "#cities = ['London', 'xxToronto','nanortalik', 'haines junction', 'ancud', 'mikkeli', 'daru', 'vaini', 'bethel', 'vostok']\n",
    "#cities = cities\n",
    "# lat = []\n",
    "# lng = []\n",
    "# temp_max = []\n",
    "# humidity = []\n",
    "# cloudiness = []\n",
    "# wind_speed = []\n",
    "# country = []\n",
    "# date = []\n",
    "#for city in cities:\n",
    "#             lat.append(response['coord']['lat'])\n",
    "#             lng.append(response['coord']['lon'])\n",
    "#             temp_max.append(response['main']['temp_max'])\n",
    "#             humidity.append(response['main']['humidity'])\n",
    "#             cloudiness.append(response['clouds']['all'])\n",
    "#             wind_speed.append(response['wind']['speed'])\n",
    "#             country.append(response['sys']['country'])\n",
    "#             date.append(response['dt'])\n"
   ]
  },
  {
   "cell_type": "code",
   "execution_count": 8,
   "metadata": {},
   "outputs": [
    {
     "name": "stdout",
     "output_type": "stream",
     "text": [
      "Exhibit 1b: Cities in the project with a place to capture weather data\n"
     ]
    },
    {
     "data": {
      "text/html": [
       "<div>\n",
       "<style scoped>\n",
       "    .dataframe tbody tr th:only-of-type {\n",
       "        vertical-align: middle;\n",
       "    }\n",
       "\n",
       "    .dataframe tbody tr th {\n",
       "        vertical-align: top;\n",
       "    }\n",
       "\n",
       "    .dataframe thead th {\n",
       "        text-align: right;\n",
       "    }\n",
       "</style>\n",
       "<table border=\"1\" class=\"dataframe\">\n",
       "  <thead>\n",
       "    <tr style=\"text-align: right;\">\n",
       "      <th></th>\n",
       "      <th>City</th>\n",
       "      <th>Lat</th>\n",
       "      <th>Lng</th>\n",
       "      <th>Temp Max</th>\n",
       "      <th>Humidity</th>\n",
       "      <th>Cloudiness</th>\n",
       "      <th>Wind Speed</th>\n",
       "      <th>Country</th>\n",
       "      <th>Date</th>\n",
       "    </tr>\n",
       "  </thead>\n",
       "  <tbody>\n",
       "    <tr>\n",
       "      <th>0</th>\n",
       "      <td>omsukchan</td>\n",
       "      <td>62.53</td>\n",
       "      <td>155.8</td>\n",
       "      <td>-11.88</td>\n",
       "      <td>89.0</td>\n",
       "      <td>0</td>\n",
       "      <td>2.68</td>\n",
       "      <td>RU</td>\n",
       "      <td>1603306757</td>\n",
       "    </tr>\n",
       "    <tr>\n",
       "      <th>1</th>\n",
       "      <td>rikitea</td>\n",
       "      <td>-23.12</td>\n",
       "      <td>-134.97</td>\n",
       "      <td>23.26</td>\n",
       "      <td>66.0</td>\n",
       "      <td>5</td>\n",
       "      <td>3.81</td>\n",
       "      <td>PF</td>\n",
       "      <td>1603306758</td>\n",
       "    </tr>\n",
       "    <tr>\n",
       "      <th>3</th>\n",
       "      <td>sao filipe</td>\n",
       "      <td>14.9</td>\n",
       "      <td>-24.5</td>\n",
       "      <td>28.76</td>\n",
       "      <td>62.0</td>\n",
       "      <td>79</td>\n",
       "      <td>2.19</td>\n",
       "      <td>CV</td>\n",
       "      <td>1603306761</td>\n",
       "    </tr>\n",
       "    <tr>\n",
       "      <th>4</th>\n",
       "      <td>santa isabel do rio negro</td>\n",
       "      <td>-0.41</td>\n",
       "      <td>-65.02</td>\n",
       "      <td>33.77</td>\n",
       "      <td>47.0</td>\n",
       "      <td>88</td>\n",
       "      <td>1.75</td>\n",
       "      <td>BR</td>\n",
       "      <td>1603306762</td>\n",
       "    </tr>\n",
       "    <tr>\n",
       "      <th>5</th>\n",
       "      <td>barrow</td>\n",
       "      <td>71.29</td>\n",
       "      <td>-156.79</td>\n",
       "      <td>1.00</td>\n",
       "      <td>98.0</td>\n",
       "      <td>90</td>\n",
       "      <td>7.2</td>\n",
       "      <td>US</td>\n",
       "      <td>1603306763</td>\n",
       "    </tr>\n",
       "  </tbody>\n",
       "</table>\n",
       "</div>"
      ],
      "text/plain": [
       "                        City    Lat     Lng  Temp Max  Humidity Cloudiness  \\\n",
       "0                  omsukchan  62.53   155.8    -11.88      89.0          0   \n",
       "1                    rikitea -23.12 -134.97     23.26      66.0          5   \n",
       "3                 sao filipe   14.9   -24.5     28.76      62.0         79   \n",
       "4  santa isabel do rio negro  -0.41  -65.02     33.77      47.0         88   \n",
       "5                     barrow  71.29 -156.79      1.00      98.0         90   \n",
       "\n",
       "  Wind Speed Country        Date  \n",
       "0       2.68      RU  1603306757  \n",
       "1       3.81      PF  1603306758  \n",
       "3       2.19      CV  1603306761  \n",
       "4       1.75      BR  1603306762  \n",
       "5        7.2      US  1603306763  "
      ]
     },
     "execution_count": 8,
     "metadata": {},
     "output_type": "execute_result"
    }
   ],
   "source": [
    "cities_df = cities_df.dropna(how='any')\n",
    "cities_df[\"Humidity\"]= pd.to_numeric(cities_df[\"Humidity\"])\n",
    "cities_df[\"Temp Max\"]= pd.to_numeric(cities_df[\"Temp Max\"])\n",
    "print(\"Exhibit 1b: Cities in the project with a place to capture weather data\")\n",
    "cities_df.head()"
   ]
  },
  {
   "cell_type": "markdown",
   "metadata": {},
   "source": [
    "### Convert Raw Data to DataFrame\n",
    "* Export the city data into a .csv.\n",
    "* Display the DataFrame"
   ]
  },
  {
   "cell_type": "code",
   "execution_count": 9,
   "metadata": {},
   "outputs": [],
   "source": [
    "# #Export the randomly generated list of cities to to a csv file\n",
    "cities_df.to_csv(\"output_data/1bex_citiesroster.csv\", index=False, header=True)\n",
    "\n",
    "# Create a data frame from the response lists\n",
    "\n",
    "# dictionary = {\n",
    "#     \"City\": cities,\n",
    "#     \"Lat\": lat,\n",
    "#     \"Lng\": lng,\n",
    "#     \"Temp Max\": temp_max,\n",
    "#     \"Humidity\": humidity,\n",
    "#     \"Cloudiness\": cloudiness,\n",
    "#     \"Wind Speed\": wind_speed,\n",
    "#     \"Country\": country,\n",
    "#     \"Date\": date\n",
    "# }\n",
    "# dictionary = pd.DataFrame(dictionary)\n",
    "# print(\"Exhibit 2: Table with in scope cities and their weather data\")\n",
    "# dictionary.head()"
   ]
  },
  {
   "cell_type": "markdown",
   "metadata": {},
   "source": [
    "## Inspect the data and remove the cities where the humidity > 100%.\n",
    "----\n",
    "Skip this step if there are no cities that have humidity > 100%. "
   ]
  },
  {
   "cell_type": "code",
   "execution_count": 10,
   "metadata": {},
   "outputs": [
    {
     "name": "stdout",
     "output_type": "stream",
     "text": [
      "Exhibit 2: Table with in scope cities and their weather data. (Note: Cities with humidity >100% removed)\n"
     ]
    },
    {
     "data": {
      "text/html": [
       "<div>\n",
       "<style scoped>\n",
       "    .dataframe tbody tr th:only-of-type {\n",
       "        vertical-align: middle;\n",
       "    }\n",
       "\n",
       "    .dataframe tbody tr th {\n",
       "        vertical-align: top;\n",
       "    }\n",
       "\n",
       "    .dataframe thead th {\n",
       "        text-align: right;\n",
       "    }\n",
       "</style>\n",
       "<table border=\"1\" class=\"dataframe\">\n",
       "  <thead>\n",
       "    <tr style=\"text-align: right;\">\n",
       "      <th></th>\n",
       "      <th>City</th>\n",
       "      <th>Lat</th>\n",
       "      <th>Lng</th>\n",
       "      <th>Temp Max</th>\n",
       "      <th>Humidity</th>\n",
       "      <th>Cloudiness</th>\n",
       "      <th>Wind Speed</th>\n",
       "      <th>Country</th>\n",
       "      <th>Date</th>\n",
       "    </tr>\n",
       "  </thead>\n",
       "  <tbody>\n",
       "    <tr>\n",
       "      <th>0</th>\n",
       "      <td>omsukchan</td>\n",
       "      <td>62.53</td>\n",
       "      <td>155.8</td>\n",
       "      <td>-11.88</td>\n",
       "      <td>89.0</td>\n",
       "      <td>0</td>\n",
       "      <td>2.68</td>\n",
       "      <td>RU</td>\n",
       "      <td>1603306757</td>\n",
       "    </tr>\n",
       "    <tr>\n",
       "      <th>1</th>\n",
       "      <td>rikitea</td>\n",
       "      <td>-23.12</td>\n",
       "      <td>-134.97</td>\n",
       "      <td>23.26</td>\n",
       "      <td>66.0</td>\n",
       "      <td>5</td>\n",
       "      <td>3.81</td>\n",
       "      <td>PF</td>\n",
       "      <td>1603306758</td>\n",
       "    </tr>\n",
       "    <tr>\n",
       "      <th>3</th>\n",
       "      <td>sao filipe</td>\n",
       "      <td>14.9</td>\n",
       "      <td>-24.5</td>\n",
       "      <td>28.76</td>\n",
       "      <td>62.0</td>\n",
       "      <td>79</td>\n",
       "      <td>2.19</td>\n",
       "      <td>CV</td>\n",
       "      <td>1603306761</td>\n",
       "    </tr>\n",
       "    <tr>\n",
       "      <th>4</th>\n",
       "      <td>santa isabel do rio negro</td>\n",
       "      <td>-0.41</td>\n",
       "      <td>-65.02</td>\n",
       "      <td>33.77</td>\n",
       "      <td>47.0</td>\n",
       "      <td>88</td>\n",
       "      <td>1.75</td>\n",
       "      <td>BR</td>\n",
       "      <td>1603306762</td>\n",
       "    </tr>\n",
       "    <tr>\n",
       "      <th>5</th>\n",
       "      <td>barrow</td>\n",
       "      <td>71.29</td>\n",
       "      <td>-156.79</td>\n",
       "      <td>1.00</td>\n",
       "      <td>98.0</td>\n",
       "      <td>90</td>\n",
       "      <td>7.2</td>\n",
       "      <td>US</td>\n",
       "      <td>1603306763</td>\n",
       "    </tr>\n",
       "  </tbody>\n",
       "</table>\n",
       "</div>"
      ],
      "text/plain": [
       "                        City    Lat     Lng  Temp Max  Humidity Cloudiness  \\\n",
       "0                  omsukchan  62.53   155.8    -11.88      89.0          0   \n",
       "1                    rikitea -23.12 -134.97     23.26      66.0          5   \n",
       "3                 sao filipe   14.9   -24.5     28.76      62.0         79   \n",
       "4  santa isabel do rio negro  -0.41  -65.02     33.77      47.0         88   \n",
       "5                     barrow  71.29 -156.79      1.00      98.0         90   \n",
       "\n",
       "  Wind Speed Country        Date  \n",
       "0       2.68      RU  1603306757  \n",
       "1       3.81      PF  1603306758  \n",
       "3       2.19      CV  1603306761  \n",
       "4       1.75      BR  1603306762  \n",
       "5        7.2      US  1603306763  "
      ]
     },
     "execution_count": 10,
     "metadata": {},
     "output_type": "execute_result"
    }
   ],
   "source": [
    "# Inspect and remove cities with humidity greater than 100%\n",
    "print(\"Exhibit 2: Table with in scope cities and their weather data. (Note: Cities with humidity >100% removed)\")\n",
    "#cities_df[\"Humidity\"]= pd.to_numeric(cities_df[\"Humidity\"])\n",
    "dehumidified = cities_df.loc[cities_df[\"Humidity\"] <= 100]\n",
    "dehumidified.head()"
   ]
  },
  {
   "cell_type": "code",
   "execution_count": 11,
   "metadata": {},
   "outputs": [
    {
     "name": "stdout",
     "output_type": "stream",
     "text": [
      "Exhibit 3: List of cities removed from project because humidity was greater than 100% (blank if none)\n"
     ]
    },
    {
     "data": {
      "text/html": [
       "<div>\n",
       "<style scoped>\n",
       "    .dataframe tbody tr th:only-of-type {\n",
       "        vertical-align: middle;\n",
       "    }\n",
       "\n",
       "    .dataframe tbody tr th {\n",
       "        vertical-align: top;\n",
       "    }\n",
       "\n",
       "    .dataframe thead th {\n",
       "        text-align: right;\n",
       "    }\n",
       "</style>\n",
       "<table border=\"1\" class=\"dataframe\">\n",
       "  <thead>\n",
       "    <tr style=\"text-align: right;\">\n",
       "      <th></th>\n",
       "      <th>City</th>\n",
       "      <th>Lat</th>\n",
       "      <th>Lng</th>\n",
       "      <th>Temp Max</th>\n",
       "      <th>Humidity</th>\n",
       "      <th>Cloudiness</th>\n",
       "      <th>Wind Speed</th>\n",
       "      <th>Country</th>\n",
       "      <th>Date</th>\n",
       "    </tr>\n",
       "  </thead>\n",
       "  <tbody>\n",
       "  </tbody>\n",
       "</table>\n",
       "</div>"
      ],
      "text/plain": [
       "Empty DataFrame\n",
       "Columns: [City, Lat, Lng, Temp Max, Humidity, Cloudiness, Wind Speed, Country, Date]\n",
       "Index: []"
      ]
     },
     "execution_count": 11,
     "metadata": {},
     "output_type": "execute_result"
    }
   ],
   "source": [
    "print(\"Exhibit 3: List of cities removed from project because humidity was greater than 100% (blank if none)\")\n",
    "humidoutliers = cities_df.loc[cities_df[\"Humidity\"] > 100]\n",
    "humidoutliers.head()"
   ]
  },
  {
   "cell_type": "code",
   "execution_count": 22,
   "metadata": {},
   "outputs": [],
   "source": [
    "# Export the data frame to a csv file\n",
    "dehumidified.to_csv(\"output_data/2ex_cleancitydata.csv\", index=False, header=True)\n",
    "humidoutliers.to_csv(\"output_data/3ex_citieswithtoomuchhumidity.csv\", index=False, header=True)"
   ]
  },
  {
   "cell_type": "markdown",
   "metadata": {},
   "source": [
    "## Plotting the Data\n",
    "* Use proper labeling of the plots using plot titles (including date of analysis) and axes labels.\n",
    "* Save the plotted figures as .pngs."
   ]
  },
  {
   "cell_type": "markdown",
   "metadata": {},
   "source": [
    "## Latitude vs. Temperature Plot"
   ]
  },
  {
   "cell_type": "code",
   "execution_count": 23,
   "metadata": {
    "scrolled": true
   },
   "outputs": [
    {
     "data": {
      "image/png": "[encoded data removed]",
      "text/plain": [
       "<Figure size 432x288 with 1 Axes>"
      ]
     },
     "metadata": {
      "needs_background": "light"
     },
     "output_type": "display_data"
    }
   ],
   "source": [
    "# Compare latitude to temperature\n",
    "x_axis = dehumidified[\"Lat\"]\n",
    "y_axis = dehumidified[\"Temp Max\"]\n",
    "   \n",
    "plt.title(\"Ex. 4: Relationship Between Lattitude and Maximum Temperature\")\n",
    "plt.xlabel(\"Latitude\")\n",
    "plt.ylabel(\"Maximum Temperature\")\n",
    "\n",
    "plt.scatter(x_axis, y_axis, marker=\"o\", color=\"blue\")\n",
    "\n",
    "#(slope, intercept, rvalue, pvalue, stderr) = linregress(x_axis, y_axis)\n",
    "#regress_values = x_axis * slope + intercept\n",
    "#line_eq = \"y = \" + str(round(slope,2)) + \"x + \" + str(round(intercept,2))\n",
    "#plt.plot(x_axis,regress_values,\"r-\")\n",
    "#plt.annotate(line_eq,(0,50),fontsize=15,color=\"red\")\n",
    "\n",
    "plt.savefig(\"output_data/4chart_lat2temp.png\")\n",
    "plt.show()\n",
    "# print(f\"The correlation coefficient is {round(st.pearsonr(x_axis,y_axis)[0],2)}\")\n",
    "# print(f\"The line equation is as follows:  {line_eq}\")"
   ]
  },
  {
   "cell_type": "markdown",
   "metadata": {},
   "source": [
    "## Latitude vs. Humidity Plot"
   ]
  },
  {
   "cell_type": "code",
   "execution_count": 24,
   "metadata": {},
   "outputs": [
    {
     "data": {
      "image/png": "[encoded data removed]",
      "text/plain": [
       "<Figure size 432x288 with 1 Axes>"
      ]
     },
     "metadata": {
      "needs_background": "light"
     },
     "output_type": "display_data"
    }
   ],
   "source": [
    "# Compare latitude to humidity\n",
    "x_axis = dehumidified[\"Lat\"]\n",
    "y_axis = dehumidified[\"Humidity\"]\n",
    "   \n",
    "plt.title(\"Ex. 5: Relationship Between Lattitude and Humidity\")\n",
    "plt.xlabel(\"Latitude\")\n",
    "plt.ylabel(\"Humidity\")\n",
    "\n",
    "plt.scatter(x_axis, y_axis, marker=\"o\", color=\"blue\")\n",
    "\n",
    "#(slope, intercept, rvalue, pvalue, stderr) = linregress(x_axis, y_axis)\n",
    "#regress_values = x_axis * slope + intercept\n",
    "#line_eq = \"y = \" + str(round(slope,2)) + \"x + \" + str(round(intercept,2))\n",
    "#plt.plot(x_axis,regress_values,\"r-\")\n",
    "#plt.annotate(line_eq,(0,50),fontsize=15,color=\"red\")\n",
    "\n",
    "plt.savefig(\"output_data/5chart_lat2humidity.png\")\n",
    "plt.show()\n",
    "# print(f\"The correlation coefficient is {round(st.pearsonr(x_axis,y_axis)[0],2)}\")\n",
    "# print(f\"The line equation is as follows:  {line_eq}\")"
   ]
  },
  {
   "cell_type": "markdown",
   "metadata": {},
   "source": [
    "## Latitude vs. Cloudiness Plot"
   ]
  },
  {
   "cell_type": "code",
   "execution_count": 25,
   "metadata": {},
   "outputs": [
    {
     "data": {
      "image/png": "[encoded data removed]",
      "text/plain": [
       "<Figure size 432x288 with 1 Axes>"
      ]
     },
     "metadata": {
      "needs_background": "light"
     },
     "output_type": "display_data"
    }
   ],
   "source": [
    "# Compare latitude to cloudiness\n",
    "x_axis = dehumidified[\"Lat\"]\n",
    "y_axis = dehumidified[\"Cloudiness\"]\n",
    "   \n",
    "plt.title(\"Ex. 6: Relationship Between Lattitude and Cloudiness\")\n",
    "plt.xlabel(\"Latitude\")\n",
    "plt.ylabel(\"Cloudiness\")\n",
    "\n",
    "plt.scatter(x_axis, y_axis, marker=\"o\", color=\"blue\")\n",
    "\n",
    "# (slope, intercept, rvalue, pvalue, stderr) = linregress(x_axis, y_axis)\n",
    "# regress_values = x_axis * slope + intercept\n",
    "# line_eq = \"y = \" + str(round(slope,2)) + \"x + \" + str(round(intercept,2))\n",
    "# plt.plot(x_axis,regress_values,\"r-\")\n",
    "# plt.annotate(line_eq,(0,50),fontsize=15,color=\"red\")\n",
    "\n",
    "plt.savefig(\"output_data/6chart_lat2cloudiness.png\")\n",
    "plt.show()\n",
    "# print(f\"The correlation coefficient is {round(st.pearsonr(x_axis,y_axis)[0],2)}\")\n",
    "# print(f\"The line equation is as follows:  {line_eq}\")"
   ]
  },
  {
   "cell_type": "markdown",
   "metadata": {},
   "source": [
    "## Latitude vs. Wind Speed Plot"
   ]
  },
  {
   "cell_type": "code",
   "execution_count": 26,
   "metadata": {},
   "outputs": [
    {
     "data": {
      "image/png": "[encoded data removed]",
      "text/plain": [
       "<Figure size 432x288 with 1 Axes>"
      ]
     },
     "metadata": {
      "needs_background": "light"
     },
     "output_type": "display_data"
    }
   ],
   "source": [
    "# Compare latitude to wind speed\n",
    "x_axis = dehumidified[\"Lat\"]\n",
    "y_axis = dehumidified[\"Wind Speed\"]\n",
    "   \n",
    "plt.title(\"Ex. 7: Relationship Between Lattitude and Wind Speed\")\n",
    "plt.xlabel(\"Latitude\")\n",
    "plt.ylabel(\"Wind Speed\")\n",
    "\n",
    "plt.scatter(x_axis, y_axis, marker=\"o\", color=\"blue\")\n",
    "\n",
    "# (slope, intercept, rvalue, pvalue, stderr) = linregress(x_axis, y_axis)\n",
    "# regress_values = x_axis * slope + intercept\n",
    "# line_eq = \"y = \" + str(round(slope,2)) + \"x + \" + str(round(intercept,2))\n",
    "# plt.plot(x_axis,regress_values,\"r-\")\n",
    "# plt.annotate(line_eq,(0,50),fontsize=15,color=\"red\")\n",
    "\n",
    "plt.savefig(\"output_data/7chart_lat2windspeed.png\")\n",
    "plt.show()\n",
    "# print(f\"The correlation coefficient is {round(st.pearsonr(x_axis,y_axis)[0],2)}\")\n",
    "# print(f\"The line equation is as follows:  {line_eq}\")"
   ]
  },
  {
   "cell_type": "markdown",
   "metadata": {},
   "source": [
    "## Linear Regression"
   ]
  },
  {
   "cell_type": "code",
   "execution_count": 27,
   "metadata": {},
   "outputs": [],
   "source": [
    "# See above"
   ]
  },
  {
   "cell_type": "code",
   "execution_count": 30,
   "metadata": {},
   "outputs": [
    {
     "name": "stdout",
     "output_type": "stream",
     "text": [
      "Exhibit 8: Table of cities at or north of equator. (Note: Cities with humidity >100% removed)\n"
     ]
    },
    {
     "data": {
      "text/html": [
       "<div>\n",
       "<style scoped>\n",
       "    .dataframe tbody tr th:only-of-type {\n",
       "        vertical-align: middle;\n",
       "    }\n",
       "\n",
       "    .dataframe tbody tr th {\n",
       "        vertical-align: top;\n",
       "    }\n",
       "\n",
       "    .dataframe thead th {\n",
       "        text-align: right;\n",
       "    }\n",
       "</style>\n",
       "<table border=\"1\" class=\"dataframe\">\n",
       "  <thead>\n",
       "    <tr style=\"text-align: right;\">\n",
       "      <th></th>\n",
       "      <th>City</th>\n",
       "      <th>Lat</th>\n",
       "      <th>Lng</th>\n",
       "      <th>Temp Max</th>\n",
       "      <th>Humidity</th>\n",
       "      <th>Cloudiness</th>\n",
       "      <th>Wind Speed</th>\n",
       "      <th>Country</th>\n",
       "      <th>Date</th>\n",
       "    </tr>\n",
       "  </thead>\n",
       "  <tbody>\n",
       "    <tr>\n",
       "      <th>0</th>\n",
       "      <td>omsukchan</td>\n",
       "      <td>62.53</td>\n",
       "      <td>155.8</td>\n",
       "      <td>-11.88</td>\n",
       "      <td>89.0</td>\n",
       "      <td>0</td>\n",
       "      <td>2.68</td>\n",
       "      <td>RU</td>\n",
       "      <td>1603306757</td>\n",
       "    </tr>\n",
       "    <tr>\n",
       "      <th>3</th>\n",
       "      <td>sao filipe</td>\n",
       "      <td>14.9</td>\n",
       "      <td>-24.5</td>\n",
       "      <td>28.76</td>\n",
       "      <td>62.0</td>\n",
       "      <td>79</td>\n",
       "      <td>2.19</td>\n",
       "      <td>CV</td>\n",
       "      <td>1603306761</td>\n",
       "    </tr>\n",
       "    <tr>\n",
       "      <th>5</th>\n",
       "      <td>barrow</td>\n",
       "      <td>71.29</td>\n",
       "      <td>-156.79</td>\n",
       "      <td>1.00</td>\n",
       "      <td>98.0</td>\n",
       "      <td>90</td>\n",
       "      <td>7.2</td>\n",
       "      <td>US</td>\n",
       "      <td>1603306763</td>\n",
       "    </tr>\n",
       "    <tr>\n",
       "      <th>6</th>\n",
       "      <td>qaanaaq</td>\n",
       "      <td>77.48</td>\n",
       "      <td>-69.36</td>\n",
       "      <td>-7.44</td>\n",
       "      <td>81.0</td>\n",
       "      <td>100</td>\n",
       "      <td>2.92</td>\n",
       "      <td>GL</td>\n",
       "      <td>1603306764</td>\n",
       "    </tr>\n",
       "    <tr>\n",
       "      <th>7</th>\n",
       "      <td>nikolskoye</td>\n",
       "      <td>59.7</td>\n",
       "      <td>30.79</td>\n",
       "      <td>3.00</td>\n",
       "      <td>86.0</td>\n",
       "      <td>90</td>\n",
       "      <td>3</td>\n",
       "      <td>RU</td>\n",
       "      <td>1603306532</td>\n",
       "    </tr>\n",
       "  </tbody>\n",
       "</table>\n",
       "</div>"
      ],
      "text/plain": [
       "         City    Lat     Lng  Temp Max  Humidity Cloudiness Wind Speed  \\\n",
       "0   omsukchan  62.53   155.8    -11.88      89.0          0       2.68   \n",
       "3  sao filipe   14.9   -24.5     28.76      62.0         79       2.19   \n",
       "5      barrow  71.29 -156.79      1.00      98.0         90        7.2   \n",
       "6     qaanaaq  77.48  -69.36     -7.44      81.0        100       2.92   \n",
       "7  nikolskoye   59.7   30.79      3.00      86.0         90          3   \n",
       "\n",
       "  Country        Date  \n",
       "0      RU  1603306757  \n",
       "3      CV  1603306761  \n",
       "5      US  1603306763  \n",
       "6      GL  1603306764  \n",
       "7      RU  1603306532  "
      ]
     },
     "execution_count": 30,
     "metadata": {},
     "output_type": "execute_result"
    }
   ],
   "source": [
    "# Build a northern hemisphere data frame\n",
    "northern = dehumidified.loc[dehumidified[\"Lat\"] >= 0]\n",
    "print(\"Exhibit 8: Table of cities at or north of equator. (Note: Cities with humidity >100% removed)\")\n",
    "northern.to_csv(\"output_data/8ex_northernhemisphere.csv\", index=False, header=True)\n",
    "northern.head()"
   ]
  },
  {
   "cell_type": "code",
   "execution_count": 31,
   "metadata": {},
   "outputs": [
    {
     "name": "stdout",
     "output_type": "stream",
     "text": [
      "Exhibit 9: Table of cities south of equator. (Note: Cities with humidity >100% removed)\n"
     ]
    },
    {
     "data": {
      "text/html": [
       "<div>\n",
       "<style scoped>\n",
       "    .dataframe tbody tr th:only-of-type {\n",
       "        vertical-align: middle;\n",
       "    }\n",
       "\n",
       "    .dataframe tbody tr th {\n",
       "        vertical-align: top;\n",
       "    }\n",
       "\n",
       "    .dataframe thead th {\n",
       "        text-align: right;\n",
       "    }\n",
       "</style>\n",
       "<table border=\"1\" class=\"dataframe\">\n",
       "  <thead>\n",
       "    <tr style=\"text-align: right;\">\n",
       "      <th></th>\n",
       "      <th>City</th>\n",
       "      <th>Lat</th>\n",
       "      <th>Lng</th>\n",
       "      <th>Temp Max</th>\n",
       "      <th>Humidity</th>\n",
       "      <th>Cloudiness</th>\n",
       "      <th>Wind Speed</th>\n",
       "      <th>Country</th>\n",
       "      <th>Date</th>\n",
       "    </tr>\n",
       "  </thead>\n",
       "  <tbody>\n",
       "    <tr>\n",
       "      <th>1</th>\n",
       "      <td>rikitea</td>\n",
       "      <td>-23.12</td>\n",
       "      <td>-134.97</td>\n",
       "      <td>23.26</td>\n",
       "      <td>66.0</td>\n",
       "      <td>5</td>\n",
       "      <td>3.81</td>\n",
       "      <td>PF</td>\n",
       "      <td>1603306758</td>\n",
       "    </tr>\n",
       "    <tr>\n",
       "      <th>4</th>\n",
       "      <td>santa isabel do rio negro</td>\n",
       "      <td>-0.41</td>\n",
       "      <td>-65.02</td>\n",
       "      <td>33.77</td>\n",
       "      <td>47.0</td>\n",
       "      <td>88</td>\n",
       "      <td>1.75</td>\n",
       "      <td>BR</td>\n",
       "      <td>1603306762</td>\n",
       "    </tr>\n",
       "    <tr>\n",
       "      <th>9</th>\n",
       "      <td>new norfolk</td>\n",
       "      <td>-42.78</td>\n",
       "      <td>147.06</td>\n",
       "      <td>11.00</td>\n",
       "      <td>93.0</td>\n",
       "      <td>90</td>\n",
       "      <td>1.04</td>\n",
       "      <td>AU</td>\n",
       "      <td>1603306768</td>\n",
       "    </tr>\n",
       "    <tr>\n",
       "      <th>17</th>\n",
       "      <td>bredasdorp</td>\n",
       "      <td>-34.53</td>\n",
       "      <td>20.04</td>\n",
       "      <td>13.00</td>\n",
       "      <td>87.0</td>\n",
       "      <td>0</td>\n",
       "      <td>1.5</td>\n",
       "      <td>ZA</td>\n",
       "      <td>1603306778</td>\n",
       "    </tr>\n",
       "    <tr>\n",
       "      <th>19</th>\n",
       "      <td>ushuaia</td>\n",
       "      <td>-54.8</td>\n",
       "      <td>-68.3</td>\n",
       "      <td>13.00</td>\n",
       "      <td>43.0</td>\n",
       "      <td>75</td>\n",
       "      <td>7.2</td>\n",
       "      <td>AR</td>\n",
       "      <td>1603306709</td>\n",
       "    </tr>\n",
       "  </tbody>\n",
       "</table>\n",
       "</div>"
      ],
      "text/plain": [
       "                         City    Lat     Lng  Temp Max  Humidity Cloudiness  \\\n",
       "1                     rikitea -23.12 -134.97     23.26      66.0          5   \n",
       "4   santa isabel do rio negro  -0.41  -65.02     33.77      47.0         88   \n",
       "9                 new norfolk -42.78  147.06     11.00      93.0         90   \n",
       "17                 bredasdorp -34.53   20.04     13.00      87.0          0   \n",
       "19                    ushuaia  -54.8   -68.3     13.00      43.0         75   \n",
       "\n",
       "   Wind Speed Country        Date  \n",
       "1        3.81      PF  1603306758  \n",
       "4        1.75      BR  1603306762  \n",
       "9        1.04      AU  1603306768  \n",
       "17        1.5      ZA  1603306778  \n",
       "19        7.2      AR  1603306709  "
      ]
     },
     "execution_count": 31,
     "metadata": {},
     "output_type": "execute_result"
    }
   ],
   "source": [
    "# Build a southern hemisphere data frame\n",
    "southern = dehumidified.loc[dehumidified[\"Lat\"] < 0]\n",
    "print(\"Exhibit 9: Table of cities south of equator. (Note: Cities with humidity >100% removed)\")\n",
    "southern.to_csv(\"output_data/9ex_southernhemisphere.csv\", index=False, header=True)\n",
    "southern.head()"
   ]
  },
  {
   "cell_type": "markdown",
   "metadata": {},
   "source": [
    "####  Northern Hemisphere - Max Temp vs. Latitude Linear Regression"
   ]
  },
  {
   "cell_type": "code",
   "execution_count": 37,
   "metadata": {},
   "outputs": [
    {
     "data": {
      "image/png": "[encoded data removed]",
      "text/plain": [
       "<Figure size 432x288 with 1 Axes>"
      ]
     },
     "metadata": {
      "needs_background": "light"
     },
     "output_type": "display_data"
    }
   ],
   "source": [
    "#Compare latitude to temperature\n",
    "\n",
    "x_axis = northern[\"Lat\"]\n",
    "y_axis = northern[\"Temp Max\"]\n",
    "   \n",
    "plt.title(\"Ex. 10: Northern Hemisphere / Relationship Between Lattitude and Maximum Temperature\")\n",
    "plt.xlabel(\"Latitude\")\n",
    "plt.ylabel(\"Maximum Temperature\")\n",
    "\n",
    "plt.scatter(x_axis, y_axis, marker=\"o\", color=\"blue\")\n",
    "\n",
    "# unable to perform regression because slope does not have a value ... 'float' object has not attribute 'shape'\n",
    "#(slope, intercept, rvalue, pvalue, stderr) = linregress(x_axis, y_axis)\n",
    "#regress_values = x_axis * slope + intercept\n",
    "#line_eq = \"y = \" + str(round(slope,2)) + \"x + \" + str(round(intercept,2))\n",
    "#plt.plot(x_axis,regress_values,\"r-\")\n",
    "#plt.annotate(line_eq,(0,50),fontsize=15,color=\"red\")\n",
    "\n",
    "plt.savefig(\"output_data/10chart_northlat2temp.png\")\n",
    "plt.show()\n",
    "# print(f\"The correlation coefficient is {round(st.pearsonr(x_axis,y_axis)[0],2)}\")\n",
    "# print(f\"The line equation is as follows:  {line_eq}\")"
   ]
  },
  {
   "cell_type": "markdown",
   "metadata": {},
   "source": [
    "####  Southern Hemisphere - Max Temp vs. Latitude Linear Regression"
   ]
  },
  {
   "cell_type": "code",
   "execution_count": 41,
   "metadata": {},
   "outputs": [
    {
     "data": {
      "image/png": "[encoded data removed]",
      "text/plain": [
       "<Figure size 432x288 with 1 Axes>"
      ]
     },
     "metadata": {
      "needs_background": "light"
     },
     "output_type": "display_data"
    }
   ],
   "source": [
    "# Compare latitude to temperature\n",
    "\n",
    "x_axis = southern[\"Lat\"]\n",
    "y_axis = southern[\"Temp Max\"]\n",
    "   \n",
    "plt.title(\"Ex. 11: Southern Hemisphere / Relationship Between Lattitude and Maximum Temperature\")\n",
    "plt.xlabel(\"Latitude\")\n",
    "plt.ylabel(\"Maximum Temperature\")\n",
    "\n",
    "plt.scatter(x_axis, y_axis, marker=\"o\", color=\"blue\")\n",
    "\n",
    "# unable to perform regression because slope does not have a value ... 'float' object has not attribute 'shape'\n",
    "#(slope, intercept, rvalue, pvalue, stderr) = linregress(x_axis, y_axis)\n",
    "# regress_values = x_axis * slope + intercept\n",
    "# line_eq = \"y = \" + str(round(slope,2)) + \"x + \" + str(round(intercept,2))\n",
    "# plt.plot(x_axis,regress_values,\"r-\")\n",
    "# plt.annotate(line_eq,(0,50),fontsize=15,color=\"red\")\n",
    "plt.savefig(\"output_data/11chart_southlat2temp.png\")\n",
    "plt.show()\n",
    "\n",
    "# print(f\"The correlation coefficient is {round(st.pearsonr(x_axis,y_axis)[0],2)}\")\n",
    "# print(f\"The line equation is as follows:  {line_eq}\")"
   ]
  },
  {
   "cell_type": "markdown",
   "metadata": {},
   "source": [
    "####  Northern Hemisphere - Humidity (%) vs. Latitude Linear Regression"
   ]
  },
  {
   "cell_type": "code",
   "execution_count": null,
   "metadata": {},
   "outputs": [],
   "source": []
  },
  {
   "cell_type": "markdown",
   "metadata": {},
   "source": [
    "####  Southern Hemisphere - Humidity (%) vs. Latitude Linear Regression"
   ]
  },
  {
   "cell_type": "code",
   "execution_count": null,
   "metadata": {},
   "outputs": [],
   "source": []
  },
  {
   "cell_type": "markdown",
   "metadata": {},
   "source": [
    "####  Northern Hemisphere - Cloudiness (%) vs. Latitude Linear Regression"
   ]
  },
  {
   "cell_type": "code",
   "execution_count": null,
   "metadata": {},
   "outputs": [],
   "source": []
  },
  {
   "cell_type": "markdown",
   "metadata": {},
   "source": [
    "####  Southern Hemisphere - Cloudiness (%) vs. Latitude Linear Regression"
   ]
  },
  {
   "cell_type": "code",
   "execution_count": null,
   "metadata": {},
   "outputs": [],
   "source": []
  },
  {
   "cell_type": "markdown",
   "metadata": {},
   "source": [
    "####  Northern Hemisphere - Wind Speed (mph) vs. Latitude Linear Regression"
   ]
  },
  {
   "cell_type": "code",
   "execution_count": null,
   "metadata": {},
   "outputs": [],
   "source": []
  },
  {
   "cell_type": "markdown",
   "metadata": {},
   "source": [
    "####  Southern Hemisphere - Wind Speed (mph) vs. Latitude Linear Regression"
   ]
  },
  {
   "cell_type": "code",
   "execution_count": null,
   "metadata": {},
   "outputs": [],
   "source": []
  },
  {
   "cell_type": "code",
   "execution_count": null,
   "metadata": {},
   "outputs": [],
   "source": []
  }
 ],
 "metadata": {
  "anaconda-cloud": {},
  "kernel_info": {
   "name": "python3"
  },
  "kernelspec": {
   "display_name": "Python [conda env:PythonData] *",
   "language": "python",
   "name": "conda-env-PythonData-py"
  },
  "language_info": {
   "codemirror_mode": {
    "name": "ipython",
    "version": 3
   },
   "file_extension": ".py",
   "mimetype": "text/x-python",
   "name": "python",
   "nbconvert_exporter": "python",
   "pygments_lexer": "ipython3",
   "version": "3.7.1"
  },
  "latex_envs": {
   "LaTeX_envs_menu_present": true,
   "autoclose": false,
   "autocomplete": true,
   "bibliofile": "biblio.bib",
   "cite_by": "apalike",
   "current_citInitial": 1,
   "eqLabelWithNumbers": true,
   "eqNumInitial": 1,
   "hotkeys": {
    "equation": "Ctrl-E",
    "itemize": "Ctrl-I"
   },
   "labels_anchors": false,
   "latex_user_defs": false,
   "report_style_numbering": false,
   "user_envs_cfg": false
  },
  "nteract": {
   "version": "0.12.3"
  }
 },
 "nbformat": 4,
 "nbformat_minor": 2
}
