{
 "cells": [
  {
   "cell_type": "markdown",
   "metadata": {},
   "source": [
    "# WeatherPy\n",
    "----\n",
    "\n",
    "#### Note\n",
    "* Instructions have been included for each segment. You do not have to follow them exactly, but they are included to help you think through the steps."
   ]
  },
  {
   "cell_type": "code",
   "execution_count": 1,
   "metadata": {
    "scrolled": true
   },
   "outputs": [],
   "source": [
    "#kmr weatherpy workbook\n",
    "\n",
    "# Dependencies and Setup\n",
    "import matplotlib.pyplot as plt\n",
    "import pandas as pd\n",
    "import numpy as np\n",
    "import requests\n",
    "import time\n",
    "import scipy.stats as st\n",
    "from scipy.stats import linregress\n",
    "import json\n",
    "\n",
    "\n",
    "# Import API key\n",
    "from config import api_key\n",
    "\n",
    "# Incorporated citipy to determine city based on latitude and longitude\n",
    "from citipy import citipy\n",
    "\n",
    "# Output File (CSV)\n",
    "output_data_file = \"output_data/cities.csv\"\n",
    "\n",
    "# Range of latitudes and longitudes\n",
    "lat_range = (-90, 90)\n",
    "lng_range = (-180, 180)"
   ]
  },
  {
   "cell_type": "code",
   "execution_count": 2,
   "metadata": {},
   "outputs": [
    {
     "name": "stdout",
     "output_type": "stream",
     "text": [
      "The weather API responded with: 293.41.\n",
      "~~~~~~~~~~~~~~~~~~~~~~~~~~~~~~~~~~~~~~~~~~~~~~~~~\n"
     ]
    }
   ],
   "source": [
    "# Test to determine if the API key and url are working before gettign too far down the road\n",
    "# ... for some reason this will not run when I am outside the Python 3 kernel\n",
    "\n",
    "# Build query URL and request your results in Celsius\n",
    "url = \"http://api.openweathermap.org/data/2.5/weather?\"\n",
    "town = \"Burundi\"\n",
    "\n",
    "# Get weather data\n",
    "xquery_url = url + \"appid=\" + api_key + \"&q=\" + town\n",
    "\n",
    "# Get temperature from JSON response\n",
    "weather_response = requests.get(xquery_url).json()\n",
    "weather_json = weather_response['main']['temp']\n",
    "\n",
    "# Report temperature\n",
    "print(f\"The weather API responded with: {weather_json}.\")\n",
    "print(\"~~~~~~~~~~~~~~~~~~~~~~~~~~~~~~~~~~~~~~~~~~~~~~~~~\")\n",
    "\n",
    "# Function to make the json format accessible for script writing\n",
    "#print(json.dumps(weather_response, indent=4, sort_keys=True))"
   ]
  },
  {
   "cell_type": "markdown",
   "metadata": {},
   "source": [
    "## Generate Cities List"
   ]
  },
  {
   "cell_type": "code",
   "execution_count": 3,
   "metadata": {},
   "outputs": [
    {
     "name": "stdout",
     "output_type": "stream",
     "text": [
      "The number of randomly generated cities in the project scope\n",
      "624\n",
      "['ambon', 'bad sankt leonhard', 'busselton', 'balimo', 'cienfuegos', 'tallahassee', 'marzuq', 'taksimo', 'chokurdakh', 'esso', 'ouadda', 'maraba', 'rikitea', 'punta arenas', 'belushya guba', 'hobart', 'college', 'carnarvon', 'ushuaia', 'taolanaro', 'asau', 'lebu', 'teguldet', 'port elizabeth', 'mar del plata', 'illoqqortoormiut', 'abonnema', 'kavieng', 'nikolskoye', 'tessalit', 'nanortalik', 'bindi', 'castro', 'cape town', 'gorontalo', 'dikson', 'hermanus', 'severo-kurilsk', 'burnie', 'kapaa', 'vaini', 'la cruz', 'crixas', 'avarua', 'bluff', 'saldanha', 'kijang', 'cidreira', 'albany', 'singleton', 'port hawkesbury', 'airai', 'luderitz', 'morant bay', 'bredasdorp', 'leningradskiy', 'ponta do sol', 'kargil', 'cadillac', 'atuona', 'ust-tarka', 'port alfred', 'pinos', 'attawapiskat', 'marcona', 'saint-max', 'san patricio', 'tasiilaq', 'mahebourg', 'port blair', 'saint-pierre', 'bara', 'padang', 'fairbanks', 'comodoro rivadavia', 'barrow', 'thompson', 'mataura', 'dunedin', 'vestmanna', 'coruripe', 'uvalde', 'iralaya', 'bubaque', 'havre', 'gat', 'challapata', 'huron', 'vila do maio', 'saint george', 'siverek', 'tsihombe', 'requena', 'uruzgan', 'murray', 'tuatapere', 'kibala', 'colonial park', 'tuktoyaktuk', 'yellowknife', 'radha kund', 'zilair', 'amderma', 'upernavik', 'kozluk', 'dwarka', 'talnakh', 'bethel', 'grand gaube', 'zhireken', 'fortuna', 'sur', 'maketu', 'concordia', 'faanui', 'khatanga', 'ilulissat', 'nampula', 'roma', 'lexington', 'olinda', 'georgetown', 'wardha', 'tura', 'lompoc', 'geraldton', 'arraial do cabo', 'sataua', 'palmerston', 'kloulklubed', 'atar', 'phalombe', 'posse', 'frederico westphalen', 'nuevitas', 'nara', 'saskylakh', 'ulladulla', 'puerto ayora', 'greenville', 'rovaniemi', 'sorrento', 'barawe', 'iqaluit', 'vrangel', 'mogadishu', 'lagoa', 'beyneu', 'tufeni', 'sombrio', 'alofi', 'rudbar', 'aleksandrov gay', 'codrington', 'cayenne', 'mahibadhoo', 'ternate', 'sistranda', 'touros', 'north bend', 'kununurra', 'butaritari', 'kamenskoye', 'utiroa', 'cabo san lucas', 'wanning', 'kuche', 'grand-santi', 'slave lake', 'kahului', 'yerbogachen', 'bambanglipuro', 'ferrenafe', 'pingliang', 'poum', 'longyearbyen', 'portland', 'kaa-khem', 'east london', 'penhold', 'nizhneyansk', 'arlit', 'kurilsk', 'ratnagiri', 'tommot', 'malanje', 'jamestown', 'petropavlovsk-kamchatskiy', 'kulu', 'mys shmidta', 'provideniya', 'xuddur', 'bengkulu', 'swan hill', 'altay', 'erzin', 'itanhaem', 'morden', 'dustlik', 'barentsburg', 'hithadhoo', 'pathein', 'puerto del rosario', 'pevek', 'manbij', 'bandarbeyla', 'bend', 'samarai', 'chuy', 'front royal', 'gizo', 'nishihara', 'nanchang', 'kavaratti', 'vila', 'new norfolk', 'aklavik', 'lolua', 'rocha', 'vanavara', 'kaeo', 'serebryansk', 'murgab', 'tumannyy', 'thunder bay', 'the valley', 'broken hill', 'torrington', 'nedjo', 'gazanjyk', 'lebedinyy', 'tsirguliina', 'baiyin', 'hilo', 'smithers', 'lorengau', 'rosarito', 'raudeberg', 'sola', 'singkang', 'acari', 'lunino', 'fuling', 'godda', 'bayji', 'egvekinot', 'okhotsk', 'tecoanapa', 'vysokogornyy', 'lagonoy', 'yulara', 'grand centre', 'ovalle', 'saint-philippe', 'porto belo', 'fez', 'terme', 'mecca', 'palana', 'quba', 'phalaborwa', 'kirkenaer', 'brae', 'kieta', 'ambulu', 'rincon de romos', 'anzio', 'half moon bay', 'imeni telmana', 'sulangan', 'khani', 'ambilobe', 'izyum', 'gulshat', 'esperance', 'saint-francois', 'ola', 'huangmei', 'ocho rios', 'kaitangata', 'bolungarvik', 'klaksvik', 'lavrentiya', 'hofn', 'qaqortoq', 'duz', 'los llanos de aridane', 'weligama', 'mudyuga', 'vestmannaeyjar', 'alta floresta', 'tiksi', 'jizan', 'okha', 'nome', 'narsaq', 'shihezi', 'koungheul', 'tazovskiy', 'uchiza', 'ancud', 'mill valley', 'amahai', 'zhanatas', 'pedernales', 'saleaula', 'san quintin', 'kiruna', 'warud', 'boke', 'norman wells', 'gravelbourg', 'zurrieq', 'krumbach', 'mount isa', 'dubbo', 'bambous virieux', 'camabatela', 'vazante', 'meaux', 'anadyr', 'nemuro', 'vila franca do campo', 'axim', 'ahipara', 'morondava', 'faya', 'ayorou', 'shache', 'almaznyy', 'hami', 'constitucion', 'salinas', 'beringovskiy', 'boende', 'nesbyen', 'ronneby', 'galgani', 'carpentras', 'waingapu', 'qaanaaq', 'katsuura', 'hasaki', 'sambava', 'yantal', 'solnechnyy', 'qianan', 'kodiak', 'souillac', 'deputatskiy', 'cherskiy', 'araouane', 'lata', 'umzimvubu', 'ostrovnoy', 'maba', 'banda aceh', 'mount gambier', 'khash', 'guerrero negro', 'vanimo', 'hulan ergi', 'korla', 'taunggyi', 'sergeyevka', 'mwinilunga', 'kimbe', 'pimentel', 'zaykovo', 'whitianga', 'luanda', 'vardo', 'victoria', 'vaitupu', 'saint-denis', 'ust-tsilma', 'port lincoln', 'whakatane', 'progreso', 'namibe', 'tanout', 'derzhavinsk', 'taoudenni', 'ucluelet', 'toliary', 'batagay-alyta', 'muisne', 'polovinnoye', 'labuhan', 'richards bay', 'krasnoarmeyskiy', 'sinnamary', 'zapolyarnyy', 'tetiz', 'novyy urengoy', 'fairfield', 'grand river south east', 'denpasar', 'sakakah', 'quelimane', 'broome', 'moree', 'lima', 'kabompo', 'shakawe', 'along', 'zhigansk', 'coripata', 'grindavik', 'vanderhoof', 'arona', 'hounde', 'la rioja', 'kruisfontein', 'ribeira grande', 'clyde river', 'parkes', 'paamiut', 'la palma', 'redlands', 'semnan', 'basco', 'hambantota', 'berlevag', 'kearney', 'manadhoo', 'palmeirais', 'sao filipe', 'nanakuli', 'sterling', 'perth', 'salinopolis', 'ginir', 'luoyang', 'melito di porto salvo', 'makat', 'mporokoso', 'aflu', 'batsfjord', 'dandong', 'huilong', 'pascagoula', 'teguise', 'bismarck', 'zalesovo', 'adrar', 'nizwa', 'muros', 'itarema', 'jacareacanga', 'iskateley', 'cap malheureux', 'shimoda', 'monduli', 'san vicente', 'diglur', 'changtu', 'russell', 'brigantine', 'zhezkazgan', 'hanmer springs', 'kiama', 'neepawa', 'kharsawan', 'craig', 'lazaro cardenas', 'christchurch', 'avera', 'naze', 'salzwedel', 'cantanhede', 'itoman', 'salalah', 'severo-yeniseyskiy', 'udachnyy', 'hihifo', 'lagos', 'iwaki', 'port macquarie', 'victoria point', 'klyuchi', 'tonj', 'vila velha', 'waddan', 'enumclaw', 'mutsamudu', 'nouakchott', 'hashtrud', 'sorland', 'blind river', 'mikumi', 'mudgee', 'saint anthony', 'athabasca', 'kamakhyanagar', 'terra santa', 'tigzirt', 'bathsheba', 'port hardy', 'rae bareli', 'byron bay', 'san miguelito', 'khonuu', 'schriesheim', 'deep river', 'houma', 'quatre cocos', 'calvinia', 'isla vista', 'copala', 'goderich', 'mandurah', 'karatau', 'mangochi', 'krasnokamensk', 'sentyabrskiy', 'moroni', 'prince rupert', 'tadine', 'celestun', 'shizuishan', 'fevralsk', 'kralendijk', 'belle fourche', 'boguchany', 'loralai', 'timra', 'bilma', 'phayakkhaphum phisai', 'devonport', 'warqla', 'cabedelo', 'isangel', 'mantua', 'kachiry', 'komsomolskiy', 'aripuana', 'sitka', 'omsukchan', 'sal rei', 'belen', 'pannonhalma', 'srednekolymsk', 'hualmay', 'staryy oskol', 'khalkhal', 'cody', 'asyut', 'sao joao da barra', 'khandyga', 'pringsewu', 'arkhangelsk', 'cachoeiras de macacu', 'weymouth', 'yanan', 'suntar', 'manokwari', 'margate', 'tlapa', 'ribeirao do pinhal', 'malwan', 'jabiru', 'carauari', 'yeniseysk', 'sanchazi', 'eydhafushi', 'neyshabur', 'capao da canoa', 'mudanjiang', 'ayan', 'adre', 'ponferrada', 'rio grande', 'yeppoon', 'kanye', 'xiongzhou', 'trikerion', 'toora-khem', 'cave spring', 'ust-kan', 'williston', 'batagay', 'fort nelson', 'moranbah', 'sogod', 'karakendzha', 'safaga', 'neryungri', 'porgera', 'hlinsko', 'matagami', 'bluefield', 'yirol', 'zaria', 'bonavista', 'linares', 'alghero', 'mabaruma', 'belyy yar', 'joensuu', 'boa vista', 'monte plata', 'buraydah', 'promyshlennovskiy', 'elko', 'dafeng', 'sindand', 'phuket', 'karanja', 'lodwar', 'canela', 'noyabrsk', 'pierre', 'samusu', 'port hedland', 'naftah', 'pionerskiy', 'nambucca heads', 'agadez', 'pisco', 'kitimat', 'puerto leguizamo', 'yako', 'ullerslev']\n"
     ]
    }
   ],
   "source": [
    "# List for holding lat_lngs and cities\n",
    "lat_lngs = []\n",
    "cities = []\n",
    "\n",
    "# Create a set of random lat and lng combinations\n",
    "lats = np.random.uniform(lat_range[0], lat_range[1], size=1500)\n",
    "lngs = np.random.uniform(lng_range[0], lng_range[1], size=1500)\n",
    "lat_lngs = zip(lats, lngs)\n",
    "\n",
    "# Identify nearest city for each lat, lng combination\n",
    "for lat_lng in lat_lngs:\n",
    "    city = citipy.nearest_city(lat_lng[0], lat_lng[1]).city_name\n",
    "    \n",
    "    # If the city is unique, then add it to a our cities list\n",
    "    if city not in cities:\n",
    "        cities.append(city)\n",
    "\n",
    "# Print the city count to confirm sufficient count\n",
    "#len(cities)\n",
    "fullset = len(cities)\n",
    "print(\"The number of randomly generated cities in the project scope\")\n",
    "print(fullset)\n",
    "print(cities)"
   ]
  },
  {
   "cell_type": "markdown",
   "metadata": {},
   "source": [
    "### Perform API Calls\n",
    "* Perform a weather check on each city using a series of successive API calls.\n",
    "* Include a print log of each city as it'sbeing processed (with the city number and city name).\n"
   ]
  },
  {
   "cell_type": "code",
   "execution_count": 28,
   "metadata": {
    "scrolled": true
   },
   "outputs": [
    {
     "name": "stdout",
     "output_type": "stream",
     "text": [
      "Exhibit 1: Confirmation listing of cities included or dropped from the project scope\n",
      "Processing Record 1 of 624. City = London\n",
      "Processing Record 2 of 624. City = Toronto\n",
      "Processing Record 3 of 624. City = nanortalik\n",
      "Processing Record 4 of 624. City = haines junction\n",
      "Processing Record 5 of 624. City = ancud\n",
      "Processing Record 6 of 624. City = mikkeli\n",
      "Done running the first batch\n"
     ]
    }
   ],
   "source": [
    "# Save config information.\n",
    "url = \"http://api.openweathermap.org/data/2.5/weather?\"\n",
    "units = \"metric\"\n",
    "\n",
    "# Build partial query URL\n",
    "query_url = f\"{url}appid={api_key}&units={units}&q=\"\n",
    "\n",
    "# Create lists to capture date for use in data frame\n",
    "#cities = ['London', 'Toronto','nanortalik', 'haines junction', 'ancud', 'mikkeli', 'daru', 'vaini', 'bethel', 'vostok']\n",
    "cities = cities\n",
    "lat = []\n",
    "lng = []\n",
    "temp_max = []\n",
    "humidity = []\n",
    "cloudiness = []\n",
    "wind_speed = []\n",
    "country = []\n",
    "date = []\n",
    "counter = 0\n",
    "\n",
    "# Loop through the list of cities and perform a request for data on each\n",
    "print(\"Exhibit 1: Confirmation listing of cities included or dropped from the project scope\")\n",
    "for city in cities:\n",
    "    if counter >= 121:\n",
    "        print(\"**Done running the first batch**\")\n",
    "        break\n",
    "    if counter <= 120:\n",
    "        time.sleep(1)\n",
    "        response = requests.get(query_url + city).json()\n",
    "        print(f\"Processing Record {counter + 1} of {fullset}. City = {city}\")\n",
    "        counter = counter + 1\n",
    "    \n",
    "        try:\n",
    "            lat.append(response['coord']['lat'])\n",
    "            lng.append(response['coord']['lon'])\n",
    "            temp_max.append(response['main']['temp_max'])\n",
    "            humidity.append(response['main']['humidity'])\n",
    "            cloudiness.append(response['clouds']['all'])\n",
    "            wind_speed.append(response['wind']['speed'])\n",
    "            country.append(response['sys']['country'])\n",
    "            date.append(response['dt'])\n",
    "        \n",
    "        except:\n",
    "            print(\"... dropping  \" + city + \"  because it was not found on the Open Weather site\")\n",
    "            cities.remove(city)\n",
    "            pass\n",
    "    \n"
   ]
  },
  {
   "cell_type": "markdown",
   "metadata": {},
   "source": [
    "### Convert Raw Data to DataFrame\n",
    "* Export the city data into a .csv.\n",
    "* Display the DataFrame"
   ]
  },
  {
   "cell_type": "code",
   "execution_count": 25,
   "metadata": {},
   "outputs": [
    {
     "ename": "AttributeError",
     "evalue": "'list' object has no attribute 'to_csv'",
     "output_type": "error",
     "traceback": [
      "\u001b[1;31m---------------------------------------------------------------------------\u001b[0m",
      "\u001b[1;31mAttributeError\u001b[0m                            Traceback (most recent call last)",
      "\u001b[1;32m<ipython-input-25-47be89f57695>\u001b[0m in \u001b[0;36m<module>\u001b[1;34m\u001b[0m\n\u001b[0;32m      1\u001b[0m \u001b[1;31m#Export the randomly generated list of cities to to a csv file\u001b[0m\u001b[1;33m\u001b[0m\u001b[1;33m\u001b[0m\u001b[1;33m\u001b[0m\u001b[0m\n\u001b[1;32m----> 2\u001b[1;33m \u001b[0mcities\u001b[0m\u001b[1;33m.\u001b[0m\u001b[0mto_csv\u001b[0m\u001b[1;33m(\u001b[0m\u001b[1;34m\"output_data/exhibitone_citiesroster.csv\"\u001b[0m\u001b[1;33m,\u001b[0m \u001b[0mindex\u001b[0m\u001b[1;33m=\u001b[0m\u001b[1;32mFalse\u001b[0m\u001b[1;33m,\u001b[0m \u001b[0mheader\u001b[0m\u001b[1;33m=\u001b[0m\u001b[1;32mTrue\u001b[0m\u001b[1;33m)\u001b[0m\u001b[1;33m\u001b[0m\u001b[1;33m\u001b[0m\u001b[0m\n\u001b[0m\u001b[0;32m      3\u001b[0m \u001b[1;33m\u001b[0m\u001b[0m\n\u001b[0;32m      4\u001b[0m \u001b[1;31m# Create a data frame from the response lists\u001b[0m\u001b[1;33m\u001b[0m\u001b[1;33m\u001b[0m\u001b[1;33m\u001b[0m\u001b[0m\n\u001b[0;32m      5\u001b[0m \u001b[1;33m\u001b[0m\u001b[0m\n",
      "\u001b[1;31mAttributeError\u001b[0m: 'list' object has no attribute 'to_csv'"
     ]
    }
   ],
   "source": [
    "# #Export the randomly generated list of cities to to a csv file\n",
    "# cities.to_csv(\"output_data/exhibitone_citiesroster.csv\", index=False, header=True)\n",
    "\n",
    "# Create a data frame from the response lists\n",
    "\n",
    "dictionary = {\n",
    "    \"City\": cities,\n",
    "    \"Lat\": lat,\n",
    "    \"Lng\": lng,\n",
    "    \"Temp Max\": temp_max,\n",
    "    \"Humidity\": humidity,\n",
    "    \"Cloudiness\": cloudiness,\n",
    "    \"Wind Speed\": wind_speed,\n",
    "    \"Country\": country,\n",
    "    \"Date\": date\n",
    "}\n",
    "dictionary = pd.DataFrame(dictionary)\n",
    "print(\"Exhibit 2: Table with in scope cities and their weather data\")\n",
    "dictionary.head()"
   ]
  },
  {
   "cell_type": "code",
   "execution_count": 6,
   "metadata": {},
   "outputs": [],
   "source": [
    "# Export the data frame to a csv file\n",
    "dictionary.to_csv(\"output_data/exhibittwo_citiesmatchedtoopenweather.csv\", index=False, header=True)"
   ]
  },
  {
   "cell_type": "markdown",
   "metadata": {},
   "source": [
    "## Inspect the data and remove the cities where the humidity > 100%.\n",
    "----\n",
    "Skip this step if there are no cities that have humidity > 100%. "
   ]
  },
  {
   "cell_type": "code",
   "execution_count": 7,
   "metadata": {},
   "outputs": [
    {
     "name": "stdout",
     "output_type": "stream",
     "text": [
      "Exhibit 3: Table with in scope cities and their weather data. Note: humidity confimred at <= 100%\n"
     ]
    },
    {
     "data": {
      "text/html": [
       "<div>\n",
       "<style scoped>\n",
       "    .dataframe tbody tr th:only-of-type {\n",
       "        vertical-align: middle;\n",
       "    }\n",
       "\n",
       "    .dataframe tbody tr th {\n",
       "        vertical-align: top;\n",
       "    }\n",
       "\n",
       "    .dataframe thead th {\n",
       "        text-align: right;\n",
       "    }\n",
       "</style>\n",
       "<table border=\"1\" class=\"dataframe\">\n",
       "  <thead>\n",
       "    <tr style=\"text-align: right;\">\n",
       "      <th></th>\n",
       "      <th>City</th>\n",
       "      <th>Lat</th>\n",
       "      <th>Lng</th>\n",
       "      <th>Temp Max</th>\n",
       "      <th>Humidity</th>\n",
       "      <th>Cloudiness</th>\n",
       "      <th>Wind Speed</th>\n",
       "      <th>Country</th>\n",
       "      <th>Date</th>\n",
       "    </tr>\n",
       "  </thead>\n",
       "  <tbody>\n",
       "    <tr>\n",
       "      <th>0</th>\n",
       "      <td>London</td>\n",
       "      <td>51.51</td>\n",
       "      <td>-0.13</td>\n",
       "      <td>19.00</td>\n",
       "      <td>63</td>\n",
       "      <td>75</td>\n",
       "      <td>6.20</td>\n",
       "      <td>GB</td>\n",
       "      <td>1603202495</td>\n",
       "    </tr>\n",
       "    <tr>\n",
       "      <th>1</th>\n",
       "      <td>Toronto</td>\n",
       "      <td>43.70</td>\n",
       "      <td>-79.42</td>\n",
       "      <td>8.00</td>\n",
       "      <td>81</td>\n",
       "      <td>90</td>\n",
       "      <td>2.10</td>\n",
       "      <td>CA</td>\n",
       "      <td>1603202135</td>\n",
       "    </tr>\n",
       "    <tr>\n",
       "      <th>2</th>\n",
       "      <td>nanortalik</td>\n",
       "      <td>60.14</td>\n",
       "      <td>-45.24</td>\n",
       "      <td>2.94</td>\n",
       "      <td>82</td>\n",
       "      <td>100</td>\n",
       "      <td>1.95</td>\n",
       "      <td>GL</td>\n",
       "      <td>1603202786</td>\n",
       "    </tr>\n",
       "    <tr>\n",
       "      <th>3</th>\n",
       "      <td>haines junction</td>\n",
       "      <td>60.75</td>\n",
       "      <td>-137.51</td>\n",
       "      <td>-3.81</td>\n",
       "      <td>87</td>\n",
       "      <td>100</td>\n",
       "      <td>1.50</td>\n",
       "      <td>CA</td>\n",
       "      <td>1603202787</td>\n",
       "    </tr>\n",
       "    <tr>\n",
       "      <th>4</th>\n",
       "      <td>ancud</td>\n",
       "      <td>-41.87</td>\n",
       "      <td>-73.82</td>\n",
       "      <td>8.00</td>\n",
       "      <td>70</td>\n",
       "      <td>0</td>\n",
       "      <td>5.70</td>\n",
       "      <td>CL</td>\n",
       "      <td>1603202788</td>\n",
       "    </tr>\n",
       "  </tbody>\n",
       "</table>\n",
       "</div>"
      ],
      "text/plain": [
       "              City    Lat     Lng  Temp Max  Humidity  Cloudiness  Wind Speed  \\\n",
       "0           London  51.51   -0.13     19.00        63          75        6.20   \n",
       "1          Toronto  43.70  -79.42      8.00        81          90        2.10   \n",
       "2       nanortalik  60.14  -45.24      2.94        82         100        1.95   \n",
       "3  haines junction  60.75 -137.51     -3.81        87         100        1.50   \n",
       "4            ancud -41.87  -73.82      8.00        70           0        5.70   \n",
       "\n",
       "  Country        Date  \n",
       "0      GB  1603202495  \n",
       "1      CA  1603202135  \n",
       "2      GL  1603202786  \n",
       "3      CA  1603202787  \n",
       "4      CL  1603202788  "
      ]
     },
     "execution_count": 7,
     "metadata": {},
     "output_type": "execute_result"
    }
   ],
   "source": [
    "# Inspect and remove cities with humidity greater than 100%\n",
    "dehumidified = dictionary.loc[dictionary[\"Humidity\"] <= 100]\n",
    "print(\"Exhibit 3: Table with in scope cities and their weather data. Note: humidity confimred at <= 100%\")\n",
    "dehumidified.head()"
   ]
  },
  {
   "cell_type": "code",
   "execution_count": 8,
   "metadata": {},
   "outputs": [
    {
     "name": "stdout",
     "output_type": "stream",
     "text": [
      "Exhibit 4: List of cities removed from project because humidity was greater than 100% ... blank if none\n"
     ]
    },
    {
     "data": {
      "text/html": [
       "<div>\n",
       "<style scoped>\n",
       "    .dataframe tbody tr th:only-of-type {\n",
       "        vertical-align: middle;\n",
       "    }\n",
       "\n",
       "    .dataframe tbody tr th {\n",
       "        vertical-align: top;\n",
       "    }\n",
       "\n",
       "    .dataframe thead th {\n",
       "        text-align: right;\n",
       "    }\n",
       "</style>\n",
       "<table border=\"1\" class=\"dataframe\">\n",
       "  <thead>\n",
       "    <tr style=\"text-align: right;\">\n",
       "      <th></th>\n",
       "      <th>City</th>\n",
       "      <th>Lat</th>\n",
       "      <th>Lng</th>\n",
       "      <th>Temp Max</th>\n",
       "      <th>Humidity</th>\n",
       "      <th>Cloudiness</th>\n",
       "      <th>Wind Speed</th>\n",
       "      <th>Country</th>\n",
       "      <th>Date</th>\n",
       "    </tr>\n",
       "  </thead>\n",
       "  <tbody>\n",
       "  </tbody>\n",
       "</table>\n",
       "</div>"
      ],
      "text/plain": [
       "Empty DataFrame\n",
       "Columns: [City, Lat, Lng, Temp Max, Humidity, Cloudiness, Wind Speed, Country, Date]\n",
       "Index: []"
      ]
     },
     "execution_count": 8,
     "metadata": {},
     "output_type": "execute_result"
    }
   ],
   "source": [
    "print(\"Exhibit 4: List of cities removed from project because humidity was greater than 100% ... blank if none\")\n",
    "humidoutliers = dictionary.loc[dictionary[\"Humidity\"] > 100]\n",
    "humidoutliers.head()"
   ]
  },
  {
   "cell_type": "code",
   "execution_count": 9,
   "metadata": {},
   "outputs": [],
   "source": [
    "# Export the data frame to a csv file\n",
    "dehumidified.to_csv(\"output_data/exhibitthree_cleancitydata.csv\", index=False, header=True)"
   ]
  },
  {
   "cell_type": "markdown",
   "metadata": {},
   "source": [
    "## Plotting the Data\n",
    "* Use proper labeling of the plots using plot titles (including date of analysis) and axes labels.\n",
    "* Save the plotted figures as .pngs."
   ]
  },
  {
   "cell_type": "markdown",
   "metadata": {},
   "source": [
    "## Latitude vs. Temperature Plot"
   ]
  },
  {
   "cell_type": "code",
   "execution_count": 10,
   "metadata": {
    "scrolled": true
   },
   "outputs": [
    {
     "data": {
      "image/png": "[encoded data removed]",
      "text/plain": [
       "<Figure size 432x288 with 1 Axes>"
      ]
     },
     "metadata": {
      "needs_background": "light"
     },
     "output_type": "display_data"
    }
   ],
   "source": [
    "# Compare latitude to temperature\n",
    "\n",
    "x_axis = dehumidified[\"Lat\"]\n",
    "y_axis = dehumidified[\"Temp Max\"]\n",
    "   \n",
    "plt.title(\"Ex. 5: Relationship Between Lattitude and Maximum Temperature\")\n",
    "plt.xlabel(\"Latitude\")\n",
    "plt.ylabel(\"Maximum Temperature\")\n",
    "\n",
    "plt.scatter(x_axis, y_axis, marker=\"o\", color=\"blue\")\n",
    "\n",
    "(slope, intercept, rvalue, pvalue, stderr) = linregress(x_axis, y_axis)\n",
    "regress_values = x_axis * slope + intercept\n",
    "line_eq = \"y = \" + str(round(slope,2)) + \"x + \" + str(round(intercept,2))\n",
    "plt.plot(x_axis,regress_values,\"r-\")\n",
    "plt.annotate(line_eq,(0,50),fontsize=15,color=\"red\")\n",
    "plt.savefig(\"output_data/exhibitfive_lat2temp.png\")\n",
    "plt.show()\n",
    "# print(f\"The correlation coefficient is {round(st.pearsonr(x_axis,y_axis)[0],2)}\")\n",
    "# print(f\"The line equation is as follows:  {line_eq}\")"
   ]
  },
  {
   "cell_type": "markdown",
   "metadata": {},
   "source": [
    "## Latitude vs. Humidity Plot"
   ]
  },
  {
   "cell_type": "code",
   "execution_count": 11,
   "metadata": {},
   "outputs": [
    {
     "data": {
      "image/png": "[encoded data removed]",
      "text/plain": [
       "<Figure size 432x288 with 1 Axes>"
      ]
     },
     "metadata": {
      "needs_background": "light"
     },
     "output_type": "display_data"
    }
   ],
   "source": [
    "# Compare latitude to humidity\n",
    "x_axis = dehumidified[\"Lat\"]\n",
    "y_axis = dehumidified[\"Humidity\"]\n",
    "   \n",
    "plt.title(\"Ex. 6: Relationship Between Lattitude and Humidity\")\n",
    "plt.xlabel(\"Latitude\")\n",
    "plt.ylabel(\"Humidity\")\n",
    "\n",
    "plt.scatter(x_axis, y_axis, marker=\"o\", color=\"blue\")\n",
    "\n",
    "(slope, intercept, rvalue, pvalue, stderr) = linregress(x_axis, y_axis)\n",
    "regress_values = x_axis * slope + intercept\n",
    "line_eq = \"y = \" + str(round(slope,2)) + \"x + \" + str(round(intercept,2))\n",
    "plt.plot(x_axis,regress_values,\"r-\")\n",
    "plt.annotate(line_eq,(0,50),fontsize=15,color=\"red\")\n",
    "plt.savefig(\"output_data/exhibitsix_lat2humidity.png\")\n",
    "plt.show()\n",
    "# print(f\"The correlation coefficient is {round(st.pearsonr(x_axis,y_axis)[0],2)}\")\n",
    "# print(f\"The line equation is as follows:  {line_eq}\")"
   ]
  },
  {
   "cell_type": "markdown",
   "metadata": {},
   "source": [
    "## Latitude vs. Cloudiness Plot"
   ]
  },
  {
   "cell_type": "code",
   "execution_count": 12,
   "metadata": {},
   "outputs": [
    {
     "data": {
      "image/png": "[encoded data removed]",
      "text/plain": [
       "<Figure size 432x288 with 1 Axes>"
      ]
     },
     "metadata": {
      "needs_background": "light"
     },
     "output_type": "display_data"
    }
   ],
   "source": [
    "# Compare latitude to cloudiness\n",
    "x_axis = dehumidified[\"Lat\"]\n",
    "y_axis = dehumidified[\"Cloudiness\"]\n",
    "   \n",
    "plt.title(\"Ex. 7: Relationship Between Lattitude and Cloudiness\")\n",
    "plt.xlabel(\"Latitude\")\n",
    "plt.ylabel(\"Cloudiness\")\n",
    "\n",
    "plt.scatter(x_axis, y_axis, marker=\"o\", color=\"blue\")\n",
    "\n",
    "(slope, intercept, rvalue, pvalue, stderr) = linregress(x_axis, y_axis)\n",
    "regress_values = x_axis * slope + intercept\n",
    "line_eq = \"y = \" + str(round(slope,2)) + \"x + \" + str(round(intercept,2))\n",
    "plt.plot(x_axis,regress_values,\"r-\")\n",
    "plt.annotate(line_eq,(0,50),fontsize=15,color=\"red\")\n",
    "plt.savefig(\"output_data/exhibitseven_lat2cloudiness.png\")\n",
    "plt.show()\n",
    "# print(f\"The correlation coefficient is {round(st.pearsonr(x_axis,y_axis)[0],2)}\")\n",
    "# print(f\"The line equation is as follows:  {line_eq}\")"
   ]
  },
  {
   "cell_type": "markdown",
   "metadata": {},
   "source": [
    "## Latitude vs. Wind Speed Plot"
   ]
  },
  {
   "cell_type": "code",
   "execution_count": 13,
   "metadata": {},
   "outputs": [
    {
     "data": {
      "image/png": "[encoded data removed]",
      "text/plain": [
       "<Figure size 432x288 with 1 Axes>"
      ]
     },
     "metadata": {
      "needs_background": "light"
     },
     "output_type": "display_data"
    }
   ],
   "source": [
    "# Compare latitude to wind speed\n",
    "x_axis = dehumidified[\"Lat\"]\n",
    "y_axis = dehumidified[\"Wind Speed\"]\n",
    "   \n",
    "plt.title(\"Ex. 8: Relationship Between Lattitude and Wind Speed\")\n",
    "plt.xlabel(\"Latitude\")\n",
    "plt.ylabel(\"Wind Speed\")\n",
    "\n",
    "plt.scatter(x_axis, y_axis, marker=\"o\", color=\"blue\")\n",
    "\n",
    "(slope, intercept, rvalue, pvalue, stderr) = linregress(x_axis, y_axis)\n",
    "regress_values = x_axis * slope + intercept\n",
    "line_eq = \"y = \" + str(round(slope,2)) + \"x + \" + str(round(intercept,2))\n",
    "plt.plot(x_axis,regress_values,\"r-\")\n",
    "plt.annotate(line_eq,(0,50),fontsize=15,color=\"red\")\n",
    "plt.savefig(\"output_data/exhibiteight_lat2windspeed.png\")\n",
    "plt.show()\n",
    "# print(f\"The correlation coefficient is {round(st.pearsonr(x_axis,y_axis)[0],2)}\")\n",
    "# print(f\"The line equation is as follows:  {line_eq}\")"
   ]
  },
  {
   "cell_type": "markdown",
   "metadata": {},
   "source": [
    "## Linear Regression"
   ]
  },
  {
   "cell_type": "code",
   "execution_count": 14,
   "metadata": {},
   "outputs": [],
   "source": [
    "# See above"
   ]
  },
  {
   "cell_type": "code",
   "execution_count": 15,
   "metadata": {},
   "outputs": [
    {
     "name": "stdout",
     "output_type": "stream",
     "text": [
      "Exhibit 9: Table of cities at or north of equator. Note: humidity confimred at <= 100%\n"
     ]
    },
    {
     "data": {
      "text/html": [
       "<div>\n",
       "<style scoped>\n",
       "    .dataframe tbody tr th:only-of-type {\n",
       "        vertical-align: middle;\n",
       "    }\n",
       "\n",
       "    .dataframe tbody tr th {\n",
       "        vertical-align: top;\n",
       "    }\n",
       "\n",
       "    .dataframe thead th {\n",
       "        text-align: right;\n",
       "    }\n",
       "</style>\n",
       "<table border=\"1\" class=\"dataframe\">\n",
       "  <thead>\n",
       "    <tr style=\"text-align: right;\">\n",
       "      <th></th>\n",
       "      <th>City</th>\n",
       "      <th>Lat</th>\n",
       "      <th>Lng</th>\n",
       "      <th>Temp Max</th>\n",
       "      <th>Humidity</th>\n",
       "      <th>Cloudiness</th>\n",
       "      <th>Wind Speed</th>\n",
       "      <th>Country</th>\n",
       "      <th>Date</th>\n",
       "    </tr>\n",
       "  </thead>\n",
       "  <tbody>\n",
       "    <tr>\n",
       "      <th>0</th>\n",
       "      <td>London</td>\n",
       "      <td>51.51</td>\n",
       "      <td>-0.13</td>\n",
       "      <td>19.00</td>\n",
       "      <td>63</td>\n",
       "      <td>75</td>\n",
       "      <td>6.20</td>\n",
       "      <td>GB</td>\n",
       "      <td>1603202495</td>\n",
       "    </tr>\n",
       "    <tr>\n",
       "      <th>1</th>\n",
       "      <td>Toronto</td>\n",
       "      <td>43.70</td>\n",
       "      <td>-79.42</td>\n",
       "      <td>8.00</td>\n",
       "      <td>81</td>\n",
       "      <td>90</td>\n",
       "      <td>2.10</td>\n",
       "      <td>CA</td>\n",
       "      <td>1603202135</td>\n",
       "    </tr>\n",
       "    <tr>\n",
       "      <th>2</th>\n",
       "      <td>nanortalik</td>\n",
       "      <td>60.14</td>\n",
       "      <td>-45.24</td>\n",
       "      <td>2.94</td>\n",
       "      <td>82</td>\n",
       "      <td>100</td>\n",
       "      <td>1.95</td>\n",
       "      <td>GL</td>\n",
       "      <td>1603202786</td>\n",
       "    </tr>\n",
       "    <tr>\n",
       "      <th>3</th>\n",
       "      <td>haines junction</td>\n",
       "      <td>60.75</td>\n",
       "      <td>-137.51</td>\n",
       "      <td>-3.81</td>\n",
       "      <td>87</td>\n",
       "      <td>100</td>\n",
       "      <td>1.50</td>\n",
       "      <td>CA</td>\n",
       "      <td>1603202787</td>\n",
       "    </tr>\n",
       "    <tr>\n",
       "      <th>5</th>\n",
       "      <td>mikkeli</td>\n",
       "      <td>61.69</td>\n",
       "      <td>27.27</td>\n",
       "      <td>1.00</td>\n",
       "      <td>80</td>\n",
       "      <td>75</td>\n",
       "      <td>2.10</td>\n",
       "      <td>FI</td>\n",
       "      <td>1603202725</td>\n",
       "    </tr>\n",
       "  </tbody>\n",
       "</table>\n",
       "</div>"
      ],
      "text/plain": [
       "              City    Lat     Lng  Temp Max  Humidity  Cloudiness  Wind Speed  \\\n",
       "0           London  51.51   -0.13     19.00        63          75        6.20   \n",
       "1          Toronto  43.70  -79.42      8.00        81          90        2.10   \n",
       "2       nanortalik  60.14  -45.24      2.94        82         100        1.95   \n",
       "3  haines junction  60.75 -137.51     -3.81        87         100        1.50   \n",
       "5          mikkeli  61.69   27.27      1.00        80          75        2.10   \n",
       "\n",
       "  Country        Date  \n",
       "0      GB  1603202495  \n",
       "1      CA  1603202135  \n",
       "2      GL  1603202786  \n",
       "3      CA  1603202787  \n",
       "5      FI  1603202725  "
      ]
     },
     "execution_count": 15,
     "metadata": {},
     "output_type": "execute_result"
    }
   ],
   "source": [
    "# Build a northern hemisphere data frame\n",
    "northern = dehumidified.loc[dehumidified[\"Lat\"] >= 0]\n",
    "print(\"Exhibit 9: Table of cities at or north of equator. Note: humidity confimred at <= 100%\")\n",
    "northern.head()"
   ]
  },
  {
   "cell_type": "code",
   "execution_count": 16,
   "metadata": {},
   "outputs": [
    {
     "name": "stdout",
     "output_type": "stream",
     "text": [
      "Exhibit 10: Table of cities south of equator. Note: humidity confimred at <= 100%\n"
     ]
    },
    {
     "data": {
      "text/html": [
       "<div>\n",
       "<style scoped>\n",
       "    .dataframe tbody tr th:only-of-type {\n",
       "        vertical-align: middle;\n",
       "    }\n",
       "\n",
       "    .dataframe tbody tr th {\n",
       "        vertical-align: top;\n",
       "    }\n",
       "\n",
       "    .dataframe thead th {\n",
       "        text-align: right;\n",
       "    }\n",
       "</style>\n",
       "<table border=\"1\" class=\"dataframe\">\n",
       "  <thead>\n",
       "    <tr style=\"text-align: right;\">\n",
       "      <th></th>\n",
       "      <th>City</th>\n",
       "      <th>Lat</th>\n",
       "      <th>Lng</th>\n",
       "      <th>Temp Max</th>\n",
       "      <th>Humidity</th>\n",
       "      <th>Cloudiness</th>\n",
       "      <th>Wind Speed</th>\n",
       "      <th>Country</th>\n",
       "      <th>Date</th>\n",
       "    </tr>\n",
       "  </thead>\n",
       "  <tbody>\n",
       "    <tr>\n",
       "      <th>4</th>\n",
       "      <td>ancud</td>\n",
       "      <td>-41.87</td>\n",
       "      <td>-73.82</td>\n",
       "      <td>8.00</td>\n",
       "      <td>70</td>\n",
       "      <td>0</td>\n",
       "      <td>5.70</td>\n",
       "      <td>CL</td>\n",
       "      <td>1603202788</td>\n",
       "    </tr>\n",
       "    <tr>\n",
       "      <th>6</th>\n",
       "      <td>daru</td>\n",
       "      <td>-9.08</td>\n",
       "      <td>143.21</td>\n",
       "      <td>26.55</td>\n",
       "      <td>82</td>\n",
       "      <td>100</td>\n",
       "      <td>5.54</td>\n",
       "      <td>PG</td>\n",
       "      <td>1603202791</td>\n",
       "    </tr>\n",
       "    <tr>\n",
       "      <th>7</th>\n",
       "      <td>vaini</td>\n",
       "      <td>-21.20</td>\n",
       "      <td>-175.20</td>\n",
       "      <td>21.00</td>\n",
       "      <td>77</td>\n",
       "      <td>20</td>\n",
       "      <td>3.10</td>\n",
       "      <td>TO</td>\n",
       "      <td>1603202792</td>\n",
       "    </tr>\n",
       "  </tbody>\n",
       "</table>\n",
       "</div>"
      ],
      "text/plain": [
       "    City    Lat     Lng  Temp Max  Humidity  Cloudiness  Wind Speed Country  \\\n",
       "4  ancud -41.87  -73.82      8.00        70           0        5.70      CL   \n",
       "6   daru  -9.08  143.21     26.55        82         100        5.54      PG   \n",
       "7  vaini -21.20 -175.20     21.00        77          20        3.10      TO   \n",
       "\n",
       "         Date  \n",
       "4  1603202788  \n",
       "6  1603202791  \n",
       "7  1603202792  "
      ]
     },
     "execution_count": 16,
     "metadata": {},
     "output_type": "execute_result"
    }
   ],
   "source": [
    "# Build a southern hemisphere data frame\n",
    "southern = dehumidified.loc[dehumidified[\"Lat\"] < 0]\n",
    "print(\"Exhibit 10: Table of cities south of equator. Note: humidity confimred at <= 100%\")\n",
    "southern.head()"
   ]
  },
  {
   "cell_type": "markdown",
   "metadata": {},
   "source": [
    "####  Northern Hemisphere - Max Temp vs. Latitude Linear Regression"
   ]
  },
  {
   "cell_type": "code",
   "execution_count": 149,
   "metadata": {},
   "outputs": [],
   "source": [
    "# # Compare latitude to temperature\n",
    "\n",
    "# x_axis = northern[\"Lat\"]\n",
    "# y_axis = northern[\"Temp Max\"]\n",
    "   \n",
    "# plt.title(\"Ex. 11: Northern Hemisphere / Relationship Between Lattitude and Maximum Temperature\")\n",
    "# plt.xlabel(\"Latitude\")\n",
    "# plt.ylabel(\"Maximum Temperature\")\n",
    "\n",
    "# plt.scatter(x_axis, y_axis, marker=\"o\", color=\"blue\")\n",
    "\n",
    "# (slope, intercept, rvalue, pvalue, stderr) = linregress(x_axis, y_axis)\n",
    "# regress_values = x_axis * slope + intercept\n",
    "# line_eq = \"y = \" + str(round(slope,2)) + \"x + \" + str(round(intercept,2))\n",
    "# plt.plot(x_axis,regress_values,\"r-\")\n",
    "# plt.annotate(line_eq,(0,50),fontsize=15,color=\"red\")\n",
    "# plt.savefig(\"output_data/exhibiteleven_lat2temp.png\")\n",
    "# plt.show()\n",
    "# print(f\"The correlation coefficient is {round(st.pearsonr(x_axis,y_axis)[0],2)}\")\n",
    "# print(f\"The line equation is as follows:  {line_eq}\")"
   ]
  },
  {
   "cell_type": "markdown",
   "metadata": {},
   "source": [
    "####  Southern Hemisphere - Max Temp vs. Latitude Linear Regression"
   ]
  },
  {
   "cell_type": "code",
   "execution_count": 26,
   "metadata": {},
   "outputs": [
    {
     "name": "stdout",
     "output_type": "stream",
     "text": [
      "The r-value is: 0.6082708688906918\n"
     ]
    },
    {
     "data": {
      "image/png": "[encoded data removed]",
      "text/plain": [
       "<Figure size 432x288 with 1 Axes>"
      ]
     },
     "metadata": {
      "needs_background": "light"
     },
     "output_type": "display_data"
    }
   ],
   "source": [
    "# # Compare latitude to temperature\n",
    "\n",
    "# x_axis = southern[\"Lat\"]\n",
    "# y_axis = southern[\"Temp Max\"]\n",
    "   \n",
    "# plt.title(\"Ex. 12: Southern Hemisphere / Relationship Between Lattitude and Maximum Temperature\")\n",
    "# plt.xlabel(\"Latitude\")\n",
    "# plt.ylabel(\"Maximum Temperature\")\n",
    "\n",
    "# plt.scatter(x_axis, y_axis, marker=\"o\", color=\"blue\")\n",
    "\n",
    "# (slope, intercept, rvalue, pvalue, stderr) = linregress(x_axis, y_axis)\n",
    "# regress_values = x_axis * slope + intercept\n",
    "# line_eq = \"y = \" + str(round(slope,2)) + \"x + \" + str(round(intercept,2))\n",
    "# plt.plot(x_axis,regress_values,\"r-\")\n",
    "# plt.annotate(line_eq,(0,50),fontsize=15,color=\"red\")\n",
    "# plt.savefig(\"output_data/exhibittwelve_lat2temp.png\")\n",
    "# plt.show()\n",
    "# print(f\"The correlation coefficient is {round(st.pearsonr(x_axis,y_axis)[0],2)}\")\n",
    "# print(f\"The line equation is as follows:  {line_eq}\")"
   ]
  },
  {
   "cell_type": "markdown",
   "metadata": {},
   "source": [
    "####  Northern Hemisphere - Humidity (%) vs. Latitude Linear Regression"
   ]
  },
  {
   "cell_type": "code",
   "execution_count": 27,
   "metadata": {},
   "outputs": [
    {
     "name": "stdout",
     "output_type": "stream",
     "text": [
      "The r-value is: 0.000543987878808455\n"
     ]
    },
    {
     "data": {
      "image/png": "[encoded data removed]",
      "text/plain": [
       "<Figure size 432x288 with 1 Axes>"
      ]
     },
     "metadata": {
      "needs_background": "light"
     },
     "output_type": "display_data"
    }
   ],
   "source": []
  },
  {
   "cell_type": "markdown",
   "metadata": {},
   "source": [
    "####  Southern Hemisphere - Humidity (%) vs. Latitude Linear Regression"
   ]
  },
  {
   "cell_type": "code",
   "execution_count": 28,
   "metadata": {},
   "outputs": [
    {
     "name": "stdout",
     "output_type": "stream",
     "text": [
      "The r-value is: 0.014985174297345524\n"
     ]
    },
    {
     "data": {
      "image/png": "[encoded data removed]",
      "text/plain": [
       "<Figure size 432x288 with 1 Axes>"
      ]
     },
     "metadata": {
      "needs_background": "light"
     },
     "output_type": "display_data"
    }
   ],
   "source": []
  },
  {
   "cell_type": "markdown",
   "metadata": {},
   "source": [
    "####  Northern Hemisphere - Cloudiness (%) vs. Latitude Linear Regression"
   ]
  },
  {
   "cell_type": "code",
   "execution_count": 29,
   "metadata": {},
   "outputs": [
    {
     "name": "stdout",
     "output_type": "stream",
     "text": [
      "The r-value is: 0.0020898727664228514\n"
     ]
    },
    {
     "data": {
      "image/png": "[encoded data removed]",
      "text/plain": [
       "<Figure size 432x288 with 1 Axes>"
      ]
     },
     "metadata": {
      "needs_background": "light"
     },
     "output_type": "display_data"
    }
   ],
   "source": []
  },
  {
   "cell_type": "markdown",
   "metadata": {},
   "source": [
    "####  Southern Hemisphere - Cloudiness (%) vs. Latitude Linear Regression"
   ]
  },
  {
   "cell_type": "code",
   "execution_count": 30,
   "metadata": {},
   "outputs": [
    {
     "name": "stdout",
     "output_type": "stream",
     "text": [
      "The r-value is: 0.0035263772085582894\n"
     ]
    },
    {
     "data": {
      "image/png": "[encoded data removed]",
      "text/plain": [
       "<Figure size 432x288 with 1 Axes>"
      ]
     },
     "metadata": {
      "needs_background": "light"
     },
     "output_type": "display_data"
    }
   ],
   "source": []
  },
  {
   "cell_type": "markdown",
   "metadata": {},
   "source": [
    "####  Northern Hemisphere - Wind Speed (mph) vs. Latitude Linear Regression"
   ]
  },
  {
   "cell_type": "code",
   "execution_count": 31,
   "metadata": {},
   "outputs": [
    {
     "name": "stdout",
     "output_type": "stream",
     "text": [
      "The r-value is: 0.04019723576144484\n"
     ]
    },
    {
     "data": {
      "image/png": "[encoded data removed]",
      "text/plain": [
       "<Figure size 432x288 with 1 Axes>"
      ]
     },
     "metadata": {
      "needs_background": "light"
     },
     "output_type": "display_data"
    }
   ],
   "source": []
  },
  {
   "cell_type": "markdown",
   "metadata": {},
   "source": [
    "####  Southern Hemisphere - Wind Speed (mph) vs. Latitude Linear Regression"
   ]
  },
  {
   "cell_type": "code",
   "execution_count": 32,
   "metadata": {},
   "outputs": [
    {
     "name": "stdout",
     "output_type": "stream",
     "text": [
      "The r-value is: 0.017128274759839232\n"
     ]
    },
    {
     "data": {
      "image/png": "[encoded data removed]",
      "text/plain": [
       "<Figure size 432x288 with 1 Axes>"
      ]
     },
     "metadata": {
      "needs_background": "light"
     },
     "output_type": "display_data"
    }
   ],
   "source": []
  },
  {
   "cell_type": "code",
   "execution_count": null,
   "metadata": {},
   "outputs": [],
   "source": []
  }
 ],
 "metadata": {
  "anaconda-cloud": {},
  "kernel_info": {
   "name": "python3"
  },
  "kernelspec": {
   "display_name": "Python [conda env:PythonData] *",
   "language": "python",
   "name": "conda-env-PythonData-py"
  },
  "language_info": {
   "codemirror_mode": {
    "name": "ipython",
    "version": 3
   },
   "file_extension": ".py",
   "mimetype": "text/x-python",
   "name": "python",
   "nbconvert_exporter": "python",
   "pygments_lexer": "ipython3",
   "version": "3.7.1"
  },
  "latex_envs": {
   "LaTeX_envs_menu_present": true,
   "autoclose": false,
   "autocomplete": true,
   "bibliofile": "biblio.bib",
   "cite_by": "apalike",
   "current_citInitial": 1,
   "eqLabelWithNumbers": true,
   "eqNumInitial": 1,
   "hotkeys": {
    "equation": "Ctrl-E",
    "itemize": "Ctrl-I"
   },
   "labels_anchors": false,
   "latex_user_defs": false,
   "report_style_numbering": false,
   "user_envs_cfg": false
  },
  "nteract": {
   "version": "0.12.3"
  }
 },
 "nbformat": 4,
 "nbformat_minor": 2
}
