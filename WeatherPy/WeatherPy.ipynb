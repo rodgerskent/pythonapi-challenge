{
 "cells": [
  {
   "cell_type": "markdown",
   "metadata": {},
   "source": [
    "# WeatherPy\n",
    "----\n",
    "\n",
    "#### Note\n",
    "* Instructions have been included for each segment. You do not have to follow them exactly, but they are included to help you think through the steps."
   ]
  },
  {
   "cell_type": "code",
   "execution_count": 34,
   "metadata": {
    "scrolled": true
   },
   "outputs": [],
   "source": [
    "#kmr weatherpy workbook\n",
    "# Dependencies and Setup\n",
    "import matplotlib.pyplot as plt\n",
    "import pandas as pd\n",
    "import numpy as np\n",
    "import requests\n",
    "import time\n",
    "import scipy.stats as st\n",
    "from scipy.stats import linregress\n",
    "import json\n",
    "\n",
    "# Import API key\n",
    "from config import api_key\n",
    "\n",
    "# Incorporated citipy to determine city based on latitude and longitude\n",
    "from citipy import citipy\n",
    "\n",
    "# Output File (CSV)\n",
    "output_data_file = \"output_data/cities.csv\"\n",
    "\n",
    "# Range of latitudes and longitudes\n",
    "lat_range = (-90, 90)\n",
    "lng_range = (-180, 180)"
   ]
  },
  {
   "cell_type": "code",
   "execution_count": 35,
   "metadata": {},
   "outputs": [
    {
     "name": "stdout",
     "output_type": "stream",
     "text": [
      "The weather API responded with: 290.25.\n",
      "~~~~~~~~~~~~~~~~~~~~~~~~~~~~~~~~~~~~~~~~~~~~~~~~~\n"
     ]
    }
   ],
   "source": [
    "# Test to determine if the API key and url are working before gettign too far down the road\n",
    "# Build query URL and request your results in Celsius\n",
    "url = \"http://api.openweathermap.org/data/2.5/weather?\"\n",
    "town = \"Burundi\"\n",
    "# Get weather data\n",
    "xquery_url = url + \"appid=\" + api_key + \"&q=\" + town\n",
    "# Get temperature from JSON response\n",
    "weather_response = requests.get(xquery_url).json()\n",
    "weather_json = weather_response['main']['temp']\n",
    "# Report temperature\n",
    "print(f\"The weather API responded with: {weather_json}.\")\n",
    "print(\"~~~~~~~~~~~~~~~~~~~~~~~~~~~~~~~~~~~~~~~~~~~~~~~~~\")"
   ]
  },
  {
   "cell_type": "markdown",
   "metadata": {},
   "source": [
    "## Generate Cities List"
   ]
  },
  {
   "cell_type": "code",
   "execution_count": 36,
   "metadata": {},
   "outputs": [
    {
     "name": "stdout",
     "output_type": "stream",
     "text": [
      "The number of randomly generated cities in the project scope\n",
      "613\n"
     ]
    }
   ],
   "source": [
    "# List for holding lat_lngs and cities\n",
    "lat_lngs = []\n",
    "cities = []\n",
    "\n",
    "# Create a set of random lat and lng combinations\n",
    "lats = np.random.uniform(lat_range[0], lat_range[1], size=1500)\n",
    "lngs = np.random.uniform(lng_range[0], lng_range[1], size=1500)\n",
    "lat_lngs = zip(lats, lngs)\n",
    "\n",
    "# Identify nearest city for each lat, lng combination\n",
    "for lat_lng in lat_lngs:\n",
    "    city = citipy.nearest_city(lat_lng[0], lat_lng[1]).city_name\n",
    "    \n",
    "    # If the city is unique, then add it to a our cities list\n",
    "    if city not in cities:\n",
    "        cities.append(city)\n",
    "\n",
    "# Print the city count to confirm sufficient count\n",
    "#len(cities)\n",
    "fullset = len(cities)\n",
    "print(\"The number of randomly generated cities in the project scope\")\n",
    "print(fullset)\n",
    "#print(cities)"
   ]
  },
  {
   "cell_type": "code",
   "execution_count": 37,
   "metadata": {},
   "outputs": [
    {
     "name": "stdout",
     "output_type": "stream",
     "text": [
      "Exhibit 1a: Cities in the project with a place to capture weather data\n"
     ]
    },
    {
     "data": {
      "text/html": [
       "<div>\n",
       "<style scoped>\n",
       "    .dataframe tbody tr th:only-of-type {\n",
       "        vertical-align: middle;\n",
       "    }\n",
       "\n",
       "    .dataframe tbody tr th {\n",
       "        vertical-align: top;\n",
       "    }\n",
       "\n",
       "    .dataframe thead th {\n",
       "        text-align: right;\n",
       "    }\n",
       "</style>\n",
       "<table border=\"1\" class=\"dataframe\">\n",
       "  <thead>\n",
       "    <tr style=\"text-align: right;\">\n",
       "      <th></th>\n",
       "      <th>City</th>\n",
       "      <th>Lat</th>\n",
       "      <th>Lng</th>\n",
       "      <th>Temp Max</th>\n",
       "      <th>Humidity</th>\n",
       "      <th>Cloudiness</th>\n",
       "      <th>Wind Speed</th>\n",
       "      <th>Country</th>\n",
       "      <th>Date</th>\n",
       "    </tr>\n",
       "  </thead>\n",
       "  <tbody>\n",
       "    <tr>\n",
       "      <th>0</th>\n",
       "      <td>punta arenas</td>\n",
       "      <td>0</td>\n",
       "      <td>0</td>\n",
       "      <td>0</td>\n",
       "      <td>0</td>\n",
       "      <td>0</td>\n",
       "      <td>0</td>\n",
       "      <td></td>\n",
       "      <td></td>\n",
       "    </tr>\n",
       "    <tr>\n",
       "      <th>1</th>\n",
       "      <td>bluff</td>\n",
       "      <td>0</td>\n",
       "      <td>0</td>\n",
       "      <td>0</td>\n",
       "      <td>0</td>\n",
       "      <td>0</td>\n",
       "      <td>0</td>\n",
       "      <td></td>\n",
       "      <td></td>\n",
       "    </tr>\n",
       "    <tr>\n",
       "      <th>2</th>\n",
       "      <td>saint-joseph</td>\n",
       "      <td>0</td>\n",
       "      <td>0</td>\n",
       "      <td>0</td>\n",
       "      <td>0</td>\n",
       "      <td>0</td>\n",
       "      <td>0</td>\n",
       "      <td></td>\n",
       "      <td></td>\n",
       "    </tr>\n",
       "    <tr>\n",
       "      <th>3</th>\n",
       "      <td>castro</td>\n",
       "      <td>0</td>\n",
       "      <td>0</td>\n",
       "      <td>0</td>\n",
       "      <td>0</td>\n",
       "      <td>0</td>\n",
       "      <td>0</td>\n",
       "      <td></td>\n",
       "      <td></td>\n",
       "    </tr>\n",
       "    <tr>\n",
       "      <th>4</th>\n",
       "      <td>ribeira grande</td>\n",
       "      <td>0</td>\n",
       "      <td>0</td>\n",
       "      <td>0</td>\n",
       "      <td>0</td>\n",
       "      <td>0</td>\n",
       "      <td>0</td>\n",
       "      <td></td>\n",
       "      <td></td>\n",
       "    </tr>\n",
       "  </tbody>\n",
       "</table>\n",
       "</div>"
      ],
      "text/plain": [
       "             City  Lat  Lng  Temp Max  Humidity  Cloudiness  Wind Speed  \\\n",
       "0    punta arenas    0    0         0         0           0           0   \n",
       "1           bluff    0    0         0         0           0           0   \n",
       "2    saint-joseph    0    0         0         0           0           0   \n",
       "3          castro    0    0         0         0           0           0   \n",
       "4  ribeira grande    0    0         0         0           0           0   \n",
       "\n",
       "  Country Date  \n",
       "0               \n",
       "1               \n",
       "2               \n",
       "3               \n",
       "4               "
      ]
     },
     "execution_count": 37,
     "metadata": {},
     "output_type": "execute_result"
    }
   ],
   "source": [
    "# Build a data frame to capture each cities weather information\n",
    "cities_df = {\n",
    "    \"City\": cities,\n",
    "}\n",
    "cities_df = pd.DataFrame(cities_df)\n",
    "print(\"Exhibit 1a: Cities in the project with a place to capture weather data\")\n",
    "\n",
    "# set up additional columns to hold information\n",
    "cities_df['Lat'] = 0\n",
    "cities_df['Lng'] = 0\n",
    "cities_df['Temp Max'] = 0\n",
    "cities_df['Humidity'] = 0\n",
    "cities_df['Cloudiness'] = 0\n",
    "cities_df['Wind Speed'] = 0\n",
    "cities_df['Country'] = \"\"\n",
    "cities_df['Date'] = \"\"\n",
    "cities_df.head()"
   ]
  },
  {
   "cell_type": "markdown",
   "metadata": {},
   "source": [
    "### Perform API Calls\n",
    "* Perform a weather check on each city using a series of successive API calls.\n",
    "* Include a print log of each city as it'sbeing processed (with the city number and city name).\n"
   ]
  },
  {
   "cell_type": "code",
   "execution_count": 38,
   "metadata": {
    "scrolled": true
   },
   "outputs": [
    {
     "name": "stdout",
     "output_type": "stream",
     "text": [
      "Checkpoint: Confirmation listing of cities processed through OpenWeather Site\n",
      "Processing Record 1 of 613. City = punta arenas\n",
      "Processing Record 2 of 613. City = bluff\n",
      "Processing Record 3 of 613. City = saint-joseph\n",
      "Processing Record 4 of 613. City = castro\n",
      "Processing Record 5 of 613. City = ribeira grande\n",
      "Processing Record 6 of 613. City = ushuaia\n",
      "Processing Record 7 of 613. City = tiksi\n",
      "Processing Record 8 of 613. City = spearfish\n",
      "Processing Record 9 of 613. City = albany\n",
      "Processing Record 10 of 613. City = camacha\n",
      "Processing Record 11 of 613. City = cherskiy\n",
      "Processing Record 12 of 613. City = guerrero negro\n",
      "Processing Record 13 of 613. City = ponta do sol\n",
      "Processing Record 14 of 613. City = port alfred\n",
      "Processing Record 15 of 613. City = roald\n",
      "Processing Record 16 of 613. City = monrovia\n",
      "Processing Record 17 of 613. City = dingle\n",
      "Processing Record 18 of 613. City = avarua\n",
      "Processing Record 19 of 613. City = corrales\n",
      "Processing Record 20 of 613. City = odienne\n",
      "Processing Record 21 of 613. City = carutapera\n",
      "Processing Record 22 of 613. City = port elizabeth\n",
      "Processing Record 23 of 613. City = touros\n",
      "Processing Record 24 of 613. City = lebu\n",
      "Processing Record 25 of 613. City = dois vizinhos\n",
      "Processing Record 26 of 613. City = szentes\n",
      "Processing Record 27 of 613. City = constitucion\n",
      "Processing Record 28 of 613. City = skala\n",
      "Processing Record 29 of 613. City = taolanaro\n",
      "... skipped over  taolanaro  because it lacked sufficient information\n",
      "Processing Record 30 of 613. City = yellowknife\n",
      "Processing Record 31 of 613. City = zyryanka\n",
      "Processing Record 32 of 613. City = bilibino\n",
      "Processing Record 33 of 613. City = viedma\n",
      "Processing Record 34 of 613. City = morondava\n",
      "Processing Record 35 of 613. City = strezhevoy\n",
      "Processing Record 36 of 613. City = seoul\n",
      "Processing Record 37 of 613. City = chuy\n",
      "Processing Record 38 of 613. City = rio grande\n",
      "Processing Record 39 of 613. City = jamestown\n",
      "Processing Record 40 of 613. City = arraial do cabo\n",
      "Processing Record 41 of 613. City = pisco\n",
      "Processing Record 42 of 613. City = willowmore\n",
      "Processing Record 43 of 613. City = saint-philippe\n",
      "Processing Record 44 of 613. City = saleaula\n",
      "... skipped over  saleaula  because it lacked sufficient information\n",
      "Processing Record 45 of 613. City = lasa\n",
      "Processing Record 46 of 613. City = okha\n",
      "Processing Record 47 of 613. City = hilo\n",
      "Processing Record 48 of 613. City = kinsale\n",
      "Processing Record 49 of 613. City = faya\n",
      "Processing Record 50 of 613. City = talnakh\n",
      "Processing Record 51 of 613. City = cap malheureux\n",
      "Processing Record 52 of 613. City = atuona\n",
      "Processing Record 53 of 613. City = neiafu\n",
      "Processing Record 54 of 613. City = belushya guba\n",
      "... skipped over  belushya guba  because it lacked sufficient information\n",
      "Processing Record 55 of 613. City = kaeo\n",
      "Processing Record 56 of 613. City = litoral del san juan\n",
      "... skipped over  litoral del san juan  because it lacked sufficient information\n",
      "Processing Record 57 of 613. City = rikitea\n",
      "Processing Record 58 of 613. City = broome\n",
      "Processing Record 59 of 613. City = vestmanna\n",
      "Processing Record 60 of 613. City = evensk\n",
      "Processing Record 61 of 613. City = boyolangu\n",
      "Processing Record 62 of 613. City = thap than\n",
      "Processing Record 63 of 613. City = cape town\n",
      "Processing Record 64 of 613. City = tottori\n",
      "Processing Record 65 of 613. City = saryshagan\n",
      "... skipped over  saryshagan  because it lacked sufficient information\n",
      "Processing Record 66 of 613. City = fortuna\n",
      "Processing Record 67 of 613. City = karratha\n",
      "Processing Record 68 of 613. City = middelburg\n",
      "Processing Record 69 of 613. City = harper\n",
      "Processing Record 70 of 613. City = presidencia roque saenz pena\n",
      "Processing Record 71 of 613. City = new norfolk\n",
      "Processing Record 72 of 613. City = kalavad\n",
      "Processing Record 73 of 613. City = mataura\n",
      "Processing Record 74 of 613. City = lahaina\n",
      "Processing Record 75 of 613. City = flin flon\n",
      "Processing Record 76 of 613. City = barrow\n",
      "Processing Record 77 of 613. City = tuktoyaktuk\n",
      "Processing Record 78 of 613. City = atambua\n",
      "Processing Record 79 of 613. City = saint-leu\n",
      "Processing Record 80 of 613. City = marcona\n",
      "... skipped over  marcona  because it lacked sufficient information\n",
      "Processing Record 81 of 613. City = qaanaaq\n",
      "Processing Record 82 of 613. City = araxa\n",
      "Processing Record 83 of 613. City = busselton\n",
      "Processing Record 84 of 613. City = sobolevo\n",
      "Processing Record 85 of 613. City = hobart\n",
      "Processing Record 86 of 613. City = bredasdorp\n",
      "Processing Record 87 of 613. City = hithadhoo\n",
      "Processing Record 88 of 613. City = chokurdakh\n",
      "Processing Record 89 of 613. City = ulladulla\n",
      "Processing Record 90 of 613. City = zabinka\n",
      "... skipped over  zabinka  because it lacked sufficient information\n",
      "Processing Record 91 of 613. City = mar del plata\n",
      "Processing Record 92 of 613. City = grindavik\n",
      "Processing Record 93 of 613. City = santa ines\n",
      "Processing Record 94 of 613. City = hermanus\n",
      "Processing Record 95 of 613. City = saldanha\n",
      "Processing Record 96 of 613. City = palabuhanratu\n",
      "... skipped over  palabuhanratu  because it lacked sufficient information\n",
      "Processing Record 97 of 613. City = aksu\n",
      "Processing Record 98 of 613. City = vardo\n",
      "Processing Record 99 of 613. City = hamilton\n",
      "Processing Record 100 of 613. City = nikolskoye\n",
      "Processing Record 101 of 613. City = illoqqortoormiut\n",
      "... skipped over  illoqqortoormiut  because it lacked sufficient information\n",
      "Processing Record 102 of 613. City = tsihombe\n",
      "... skipped over  tsihombe  because it lacked sufficient information\n",
      "Processing Record 103 of 613. City = haines junction\n",
      "Processing Record 104 of 613. City = kattivakkam\n",
      "Processing Record 105 of 613. City = kapaa\n",
      "Processing Record 106 of 613. City = ahipara\n",
      "Processing Record 107 of 613. City = liberal\n",
      "Processing Record 108 of 613. City = badnawar\n",
      "Processing Record 109 of 613. City = lorengau\n",
      "Processing Record 110 of 613. City = porto walter\n",
      "Processing Record 111 of 613. City = vaini\n",
      "Processing Record 112 of 613. City = pantai remis\n",
      "Processing Record 113 of 613. City = faanui\n",
      "Processing Record 114 of 613. City = puerto ayora\n",
      "Processing Record 115 of 613. City = bengkulu\n",
      "Processing Record 116 of 613. City = banda aceh\n",
      "Processing Record 117 of 613. City = mahebourg\n",
      "Processing Record 118 of 613. City = dzerzhinsk\n",
      "Processing Record 119 of 613. City = qostanay\n",
      "Processing Record 120 of 613. City = issenye\n",
      "Processing Record 121 of 613. City = pandan\n",
      "Processing Record 122 of 613. City = myanaung\n",
      "Processing Record 123 of 613. City = geraldton\n",
      "Processing Record 124 of 613. City = pacific grove\n",
      "Processing Record 125 of 613. City = gladstone\n",
      "Processing Record 126 of 613. City = longyearbyen\n",
      "Processing Record 127 of 613. City = bahnea\n",
      "Processing Record 128 of 613. City = ahuimanu\n",
      "Processing Record 129 of 613. City = bisalpur\n",
      "Processing Record 130 of 613. City = tsabong\n",
      "Processing Record 131 of 613. City = cabo san lucas\n",
      "Processing Record 132 of 613. City = mys shmidta\n",
      "... skipped over  mys shmidta  because it lacked sufficient information\n",
      "Processing Record 133 of 613. City = keflavik\n",
      "Processing Record 134 of 613. City = salalah\n",
      "Processing Record 135 of 613. City = tabou\n",
      "Processing Record 136 of 613. City = rocha\n",
      "Processing Record 137 of 613. City = marsabit\n",
      "Processing Record 138 of 613. City = vaitupu\n",
      "... skipped over  vaitupu  because it lacked sufficient information\n",
      "Processing Record 139 of 613. City = mehamn\n",
      "Processing Record 140 of 613. City = port hedland\n",
      "Processing Record 141 of 613. City = salinopolis\n",
      "Processing Record 142 of 613. City = esperance\n",
      "Processing Record 143 of 613. City = trenggalek\n",
      "Processing Record 144 of 613. City = prijepolje\n",
      "Processing Record 145 of 613. City = codrington\n",
      "Processing Record 146 of 613. City = kodiak\n",
      "Processing Record 147 of 613. City = payakumbuh\n",
      "Processing Record 148 of 613. City = conceicao do araguaia\n",
      "Processing Record 149 of 613. City = mathbaria\n",
      "Processing Record 150 of 613. City = tautira\n",
      "Processing Record 151 of 613. City = nizhneyansk\n",
      "... skipped over  nizhneyansk  because it lacked sufficient information\n",
      "Processing Record 152 of 613. City = paamiut\n",
      "Processing Record 153 of 613. City = pangody\n",
      "Processing Record 154 of 613. City = bakchar\n",
      "Processing Record 155 of 613. City = te anau\n",
      "Processing Record 156 of 613. City = winslow\n",
      "Processing Record 157 of 613. City = zykovo\n"
     ]
    },
    {
     "name": "stdout",
     "output_type": "stream",
     "text": [
      "Processing Record 158 of 613. City = narsaq\n",
      "Processing Record 159 of 613. City = severo-kurilsk\n",
      "Processing Record 160 of 613. City = leningradskiy\n",
      "Processing Record 161 of 613. City = husavik\n",
      "Processing Record 162 of 613. City = bandarbeyla\n",
      "Processing Record 163 of 613. City = bose\n",
      "Processing Record 164 of 613. City = jammalamadugu\n",
      "Processing Record 165 of 613. City = kavieng\n",
      "Processing Record 166 of 613. City = mitsamiouli\n",
      "Processing Record 167 of 613. City = trairi\n",
      "Processing Record 168 of 613. City = carnarvon\n",
      "Processing Record 169 of 613. City = nanortalik\n",
      "Processing Record 170 of 613. City = irbil\n",
      "Processing Record 171 of 613. City = urusha\n",
      "Processing Record 172 of 613. City = port hardy\n",
      "Processing Record 173 of 613. City = troy\n",
      "Processing Record 174 of 613. City = fairbanks\n",
      "Processing Record 175 of 613. City = khatanga\n",
      "Processing Record 176 of 613. City = buala\n",
      "Processing Record 177 of 613. City = lintangan\n",
      "Processing Record 178 of 613. City = pecos\n",
      "Processing Record 179 of 613. City = teguldet\n",
      "Processing Record 180 of 613. City = lakefield\n",
      "Processing Record 181 of 613. City = luderitz\n",
      "Processing Record 182 of 613. City = kintampo\n",
      "Processing Record 183 of 613. City = imamoglu\n",
      "Processing Record 184 of 613. City = innisfail\n",
      "Processing Record 185 of 613. City = lemesos\n",
      "... skipped over  lemesos  because it lacked sufficient information\n",
      "Processing Record 186 of 613. City = mahon\n",
      "Processing Record 187 of 613. City = gizo\n",
      "Processing Record 188 of 613. City = kichera\n",
      "Processing Record 189 of 613. City = syracuse\n",
      "Processing Record 190 of 613. City = oneonta\n",
      "Processing Record 191 of 613. City = tomigusuku\n",
      "Processing Record 192 of 613. City = medina\n",
      "Processing Record 193 of 613. City = tumannyy\n",
      "... skipped over  tumannyy  because it lacked sufficient information\n",
      "Processing Record 194 of 613. City = hasaki\n",
      "Processing Record 195 of 613. City = eyrarbakki\n",
      "Processing Record 196 of 613. City = cidreira\n",
      "Processing Record 197 of 613. City = samarai\n",
      "Processing Record 198 of 613. City = beloha\n",
      "Processing Record 199 of 613. City = bethel\n",
      "Processing Record 200 of 613. City = etchojoa\n",
      "Processing Record 201 of 613. City = coruripe\n",
      "Processing Record 202 of 613. City = stokmarknes\n",
      "Processing Record 203 of 613. City = qasigiannguit\n",
      "Processing Record 204 of 613. City = kourou\n",
      "Processing Record 205 of 613. City = gornopravdinsk\n",
      "Processing Record 206 of 613. City = provideniya\n",
      "Processing Record 207 of 613. City = mugla\n",
      "Processing Record 208 of 613. City = pordim\n",
      "Processing Record 209 of 613. City = thompson\n",
      "Processing Record 210 of 613. City = imbituba\n",
      "Processing Record 211 of 613. City = upernavik\n",
      "Processing Record 212 of 613. City = oussouye\n",
      "Processing Record 213 of 613. City = alice springs\n",
      "Processing Record 214 of 613. City = dikson\n",
      "Processing Record 215 of 613. City = talaya\n",
      "Processing Record 216 of 613. City = sur\n",
      "Processing Record 217 of 613. City = grand-lahou\n",
      "Processing Record 218 of 613. City = satipo\n",
      "Processing Record 219 of 613. City = east london\n",
      "Processing Record 220 of 613. City = deputatskiy\n",
      "Processing Record 221 of 613. City = samusu\n",
      "... skipped over  samusu  because it lacked sufficient information\n",
      "Processing Record 222 of 613. City = komsomolskiy\n",
      "Processing Record 223 of 613. City = khunti\n",
      "Processing Record 224 of 613. City = horki\n",
      "Processing Record 225 of 613. City = la libertad\n",
      "Processing Record 226 of 613. City = plettenberg bay\n",
      "Processing Record 227 of 613. City = nuevo progreso\n",
      "Processing Record 228 of 613. City = kristiansund\n",
      "Processing Record 229 of 613. City = rockhampton\n",
      "Processing Record 230 of 613. City = kutum\n",
      "Processing Record 231 of 613. City = hajmasker\n",
      "Processing Record 232 of 613. City = wichita falls\n",
      "Processing Record 233 of 613. City = kilindoni\n",
      "Processing Record 234 of 613. City = clyde river\n",
      "Processing Record 235 of 613. City = saskylakh\n",
      "Processing Record 236 of 613. City = shache\n",
      "Processing Record 237 of 613. City = san juan\n",
      "Processing Record 238 of 613. City = ingolstadt\n",
      "Processing Record 239 of 613. City = nishihara\n",
      "Processing Record 240 of 613. City = rawson\n",
      "Processing Record 241 of 613. City = tokur\n",
      "Processing Record 242 of 613. City = tezu\n",
      "Processing Record 243 of 613. City = salcininkai\n",
      "Processing Record 244 of 613. City = tateyama\n",
      "Processing Record 245 of 613. City = yumen\n",
      "Processing Record 246 of 613. City = mount gambier\n",
      "Processing Record 247 of 613. City = bilma\n",
      "Processing Record 248 of 613. City = cockburn harbour\n",
      "... skipped over  cockburn harbour  because it lacked sufficient information\n",
      "Processing Record 249 of 613. City = georgetown\n",
      "Processing Record 250 of 613. City = corn island\n",
      "Processing Record 251 of 613. City = suntar\n",
      "Processing Record 252 of 613. City = amazar\n",
      "Processing Record 253 of 613. City = paradwip\n",
      "... skipped over  paradwip  because it lacked sufficient information\n",
      "Processing Record 254 of 613. City = obeliai\n",
      "Processing Record 255 of 613. City = amderma\n",
      "... skipped over  amderma  because it lacked sufficient information\n",
      "Processing Record 256 of 613. City = haicheng\n",
      "Processing Record 257 of 613. City = killybegs\n",
      "Processing Record 258 of 613. City = seydisehir\n",
      "Processing Record 259 of 613. City = barentsburg\n",
      "... skipped over  barentsburg  because it lacked sufficient information\n",
      "Processing Record 260 of 613. City = uzumlu\n",
      "... skipped over  uzumlu  because it lacked sufficient information\n",
      "Processing Record 261 of 613. City = san juan bautista\n",
      "Processing Record 262 of 613. City = padang\n",
      "Processing Record 263 of 613. City = portland\n",
      "Processing Record 264 of 613. City = hervey bay\n",
      "Processing Record 265 of 613. City = rio casca\n",
      "Processing Record 266 of 613. City = alta floresta\n",
      "Processing Record 267 of 613. City = valparaiso\n",
      "Processing Record 268 of 613. City = sentyabrskiy\n",
      "... skipped over  sentyabrskiy  because it lacked sufficient information\n",
      "Processing Record 269 of 613. City = tatarbunary\n",
      "Processing Record 270 of 613. City = ninghai\n",
      "Processing Record 271 of 613. City = brae\n",
      "Processing Record 272 of 613. City = norman wells\n",
      "Processing Record 273 of 613. City = tagusao\n",
      "Processing Record 274 of 613. City = shunyi\n",
      "Processing Record 275 of 613. City = bambous virieux\n",
      "Processing Record 276 of 613. City = san javier\n",
      "Processing Record 277 of 613. City = luanda\n",
      "Processing Record 278 of 613. City = storsteinnes\n",
      "Processing Record 279 of 613. City = yerbogachen\n",
      "Processing Record 280 of 613. City = umkomaas\n",
      "Processing Record 281 of 613. City = ilulissat\n",
      "Processing Record 282 of 613. City = kovacica\n",
      "Processing Record 283 of 613. City = batagay\n",
      "Processing Record 284 of 613. City = tasiilaq\n",
      "Processing Record 285 of 613. City = jalu\n",
      "Processing Record 286 of 613. City = mikkeli\n",
      "Processing Record 287 of 613. City = rio gallegos\n",
      "Processing Record 288 of 613. City = nome\n",
      "Processing Record 289 of 613. City = saint-michel-des-saints\n",
      "Processing Record 290 of 613. City = sorochinsk\n",
      "Processing Record 291 of 613. City = umzimvubu\n",
      "... skipped over  umzimvubu  because it lacked sufficient information\n",
      "Processing Record 292 of 613. City = buchanan\n",
      "Processing Record 293 of 613. City = ondjiva\n",
      "Processing Record 294 of 613. City = kinna\n",
      "Processing Record 295 of 613. City = sao joao da barra\n",
      "Processing Record 296 of 613. City = vung tau\n",
      "Processing Record 297 of 613. City = grand forks\n",
      "Processing Record 298 of 613. City = taksimo\n",
      "Processing Record 299 of 613. City = pultusk\n",
      "Processing Record 300 of 613. City = lodwar\n",
      "Processing Record 301 of 613. City = kudirkos naumiestis\n",
      "Processing Record 302 of 613. City = talcahuano\n",
      "Processing Record 303 of 613. City = atar\n",
      "Processing Record 304 of 613. City = batagay-alyta\n",
      "Processing Record 305 of 613. City = half moon bay\n",
      "Processing Record 306 of 613. City = kaitangata\n",
      "Processing Record 307 of 613. City = laguna\n",
      "Processing Record 308 of 613. City = lavrentiya\n",
      "Processing Record 309 of 613. City = kenai\n",
      "Processing Record 310 of 613. City = rio brilhante\n",
      "Processing Record 311 of 613. City = lompoc\n",
      "Processing Record 312 of 613. City = torbay\n",
      "Processing Record 313 of 613. City = sungaipenuh\n",
      "Processing Record 314 of 613. City = uyskoye\n",
      "Processing Record 315 of 613. City = krasnoselkup\n",
      "Processing Record 316 of 613. City = lagoa\n",
      "Processing Record 317 of 613. City = severo-yeniseyskiy\n",
      "Processing Record 318 of 613. City = belyy yar\n"
     ]
    },
    {
     "name": "stdout",
     "output_type": "stream",
     "text": [
      "Processing Record 319 of 613. City = lashio\n",
      "Processing Record 320 of 613. City = baykit\n",
      "Processing Record 321 of 613. City = berlevag\n",
      "Processing Record 322 of 613. City = shingu\n",
      "Processing Record 323 of 613. City = davila\n",
      "Processing Record 324 of 613. City = hobyo\n",
      "Processing Record 325 of 613. City = nemuro\n",
      "Processing Record 326 of 613. City = labuhan\n",
      "Processing Record 327 of 613. City = xichang\n",
      "Processing Record 328 of 613. City = pangnirtung\n",
      "Processing Record 329 of 613. City = alofi\n",
      "Processing Record 330 of 613. City = nhulunbuy\n",
      "Processing Record 331 of 613. City = lewistown\n",
      "Processing Record 332 of 613. City = gorno-chuyskiy\n",
      "... skipped over  gorno-chuyskiy  because it lacked sufficient information\n",
      "Processing Record 333 of 613. City = prince rupert\n",
      "Processing Record 334 of 613. City = launceston\n",
      "Processing Record 335 of 613. City = carinhanha\n",
      "Processing Record 336 of 613. City = port lincoln\n",
      "Processing Record 337 of 613. City = kamenka\n",
      "Processing Record 338 of 613. City = walvis bay\n",
      "Processing Record 339 of 613. City = guadalupe y calvo\n",
      "Processing Record 340 of 613. City = port blair\n",
      "Processing Record 341 of 613. City = oistins\n",
      "Processing Record 342 of 613. City = kidal\n",
      "Processing Record 343 of 613. City = nerang\n",
      "Processing Record 344 of 613. City = pasighat\n",
      "Processing Record 345 of 613. City = kropotkin\n",
      "Processing Record 346 of 613. City = taguatinga\n",
      "Processing Record 347 of 613. City = hihifo\n",
      "... skipped over  hihifo  because it lacked sufficient information\n",
      "Processing Record 348 of 613. City = lere\n",
      "Processing Record 349 of 613. City = saint george\n",
      "Processing Record 350 of 613. City = butaritari\n",
      "Processing Record 351 of 613. City = hindley\n",
      "Processing Record 352 of 613. City = ifanadiana\n",
      "Processing Record 353 of 613. City = sola\n",
      "Processing Record 354 of 613. City = saint-augustin\n",
      "Processing Record 355 of 613. City = kalispell\n",
      "Processing Record 356 of 613. City = orebro\n",
      "Processing Record 357 of 613. City = macapa\n",
      "Processing Record 358 of 613. City = santa cruz\n",
      "Processing Record 359 of 613. City = satitoa\n",
      "... skipped over  satitoa  because it lacked sufficient information\n",
      "Processing Record 360 of 613. City = yate\n",
      "Processing Record 361 of 613. City = marsassoum\n",
      "Processing Record 362 of 613. City = amahai\n",
      "Processing Record 363 of 613. City = san marco in lamis\n",
      "Processing Record 364 of 613. City = grand-santi\n",
      "Processing Record 365 of 613. City = tehuantepec\n",
      "... skipped over  tehuantepec  because it lacked sufficient information\n",
      "Processing Record 366 of 613. City = dali\n",
      "Processing Record 367 of 613. City = kruisfontein\n",
      "Processing Record 368 of 613. City = jatara\n",
      "Processing Record 369 of 613. City = tuatapere\n",
      "Processing Record 370 of 613. City = gigmoto\n",
      "Processing Record 371 of 613. City = tomatlan\n",
      "Processing Record 372 of 613. City = jimani\n",
      "Processing Record 373 of 613. City = praia da vitoria\n",
      "Processing Record 374 of 613. City = byron bay\n",
      "Processing Record 375 of 613. City = khorixas\n",
      "Processing Record 376 of 613. City = alcudia\n",
      "Processing Record 377 of 613. City = tura\n",
      "Processing Record 378 of 613. City = grand gaube\n",
      "Processing Record 379 of 613. City = catamayo\n",
      "Processing Record 380 of 613. City = fort-shevchenko\n",
      "Processing Record 381 of 613. City = saint anthony\n",
      "Processing Record 382 of 613. City = doctor pedro p. pena\n",
      "... skipped over  doctor pedro p. pena  because it lacked sufficient information\n",
      "Processing Record 383 of 613. City = alamosa\n",
      "Processing Record 384 of 613. City = lincoln\n",
      "Processing Record 385 of 613. City = henties bay\n",
      "Processing Record 386 of 613. City = sorland\n",
      "Processing Record 387 of 613. City = synya\n",
      "Processing Record 388 of 613. City = jamame\n",
      "Processing Record 389 of 613. City = novobureyskiy\n",
      "Processing Record 390 of 613. City = san pedro\n",
      "Processing Record 391 of 613. City = rungata\n",
      "... skipped over  rungata  because it lacked sufficient information\n",
      "Processing Record 392 of 613. City = tevaitoa\n",
      "Processing Record 393 of 613. City = chapais\n",
      "Processing Record 394 of 613. City = cabedelo\n",
      "Processing Record 395 of 613. City = madisonville\n",
      "Processing Record 396 of 613. City = sabang\n",
      "Processing Record 397 of 613. City = ternate\n",
      "Processing Record 398 of 613. City = makakilo city\n",
      "Processing Record 399 of 613. City = los llanos de aridane\n",
      "Processing Record 400 of 613. City = maraa\n",
      "Processing Record 401 of 613. City = ostrovnoy\n",
      "Processing Record 402 of 613. City = ksenyevka\n",
      "... skipped over  ksenyevka  because it lacked sufficient information\n",
      "Processing Record 403 of 613. City = palmer\n",
      "Processing Record 404 of 613. City = vila velha\n",
      "Processing Record 405 of 613. City = yabassi\n",
      "Processing Record 406 of 613. City = odessa\n",
      "Processing Record 407 of 613. City = buqayq\n",
      "... skipped over  buqayq  because it lacked sufficient information\n",
      "Processing Record 408 of 613. City = vao\n",
      "Processing Record 409 of 613. City = sinop\n",
      "Processing Record 410 of 613. City = lima\n",
      "Processing Record 411 of 613. City = pevek\n",
      "Processing Record 412 of 613. City = hami\n",
      "Processing Record 413 of 613. City = batemans bay\n",
      "Processing Record 414 of 613. City = wanning\n",
      "Processing Record 415 of 613. City = temaraia\n",
      "... skipped over  temaraia  because it lacked sufficient information\n",
      "Processing Record 416 of 613. City = richards bay\n",
      "Processing Record 417 of 613. City = souillac\n",
      "Processing Record 418 of 613. City = babol\n",
      "Processing Record 419 of 613. City = namibe\n",
      "Processing Record 420 of 613. City = sitka\n",
      "Processing Record 421 of 613. City = iqaluit\n",
      "Processing Record 422 of 613. City = paucartambo\n",
      "... skipped over  paucartambo  because it lacked sufficient information\n",
      "Processing Record 423 of 613. City = coihaique\n",
      "Processing Record 424 of 613. City = sistranda\n",
      "Processing Record 425 of 613. City = saint-georges\n",
      "Processing Record 426 of 613. City = aklavik\n",
      "Processing Record 427 of 613. City = akyab\n",
      "Processing Record 428 of 613. City = eureka\n",
      "Processing Record 429 of 613. City = kaliganj\n",
      "Processing Record 430 of 613. City = kodinar\n",
      "Processing Record 431 of 613. City = nouadhibou\n",
      "Processing Record 432 of 613. City = galle\n",
      "Processing Record 433 of 613. City = bairiki\n",
      "Processing Record 434 of 613. City = porto novo\n",
      "Processing Record 435 of 613. City = xucheng\n",
      "Processing Record 436 of 613. City = yar-sale\n",
      "Processing Record 437 of 613. City = san patricio\n",
      "Processing Record 438 of 613. City = chifeng\n",
      "Processing Record 439 of 613. City = maridi\n",
      "Processing Record 440 of 613. City = umba\n",
      "Processing Record 441 of 613. City = sanming\n",
      "Processing Record 442 of 613. City = tessalit\n",
      "Processing Record 443 of 613. City = monkey bay\n",
      "Processing Record 444 of 613. City = luzhou\n",
      "Processing Record 445 of 613. City = garden city\n",
      "Processing Record 446 of 613. City = jinzhou\n",
      "Processing Record 447 of 613. City = cascais\n",
      "Processing Record 448 of 613. City = otradnoye\n",
      "Processing Record 449 of 613. City = vila franca do campo\n",
      "Processing Record 450 of 613. City = kamenskoye\n",
      "... skipped over  kamenskoye  because it lacked sufficient information\n",
      "Processing Record 451 of 613. City = waycross\n",
      "Processing Record 452 of 613. City = aracati\n",
      "Processing Record 453 of 613. City = lieksa\n",
      "Processing Record 454 of 613. City = jomalig\n",
      "... skipped over  jomalig  because it lacked sufficient information\n",
      "Processing Record 455 of 613. City = colares\n",
      "Processing Record 456 of 613. City = randolph\n",
      "Processing Record 457 of 613. City = sorvag\n",
      "... skipped over  sorvag  because it lacked sufficient information\n",
      "Processing Record 458 of 613. City = tommot\n",
      "Processing Record 459 of 613. City = ust-tsilma\n",
      "Processing Record 460 of 613. City = belmonte\n",
      "Processing Record 461 of 613. City = wageningen\n",
      "Processing Record 462 of 613. City = sambava\n",
      "Processing Record 463 of 613. City = aksarayskiy\n",
      "Processing Record 464 of 613. City = havoysund\n",
      "Processing Record 465 of 613. City = olga\n",
      "Processing Record 466 of 613. City = navahrudak\n",
      "Processing Record 467 of 613. City = taikang\n",
      "Processing Record 468 of 613. City = nabire\n",
      "Processing Record 469 of 613. City = attawapiskat\n",
      "... skipped over  attawapiskat  because it lacked sufficient information\n",
      "Processing Record 470 of 613. City = petropavlovsk-kamchatskiy\n",
      "Processing Record 471 of 613. City = sinjah\n",
      "... skipped over  sinjah  because it lacked sufficient information\n",
      "Processing Record 472 of 613. City = moose factory\n"
     ]
    },
    {
     "name": "stdout",
     "output_type": "stream",
     "text": [
      "Processing Record 473 of 613. City = ballymena\n",
      "Processing Record 474 of 613. City = san cristobal\n",
      "Processing Record 475 of 613. City = jiwani\n",
      "Processing Record 476 of 613. City = namatanai\n",
      "Processing Record 477 of 613. City = igrim\n",
      "Processing Record 478 of 613. City = artyk\n",
      "... skipped over  artyk  because it lacked sufficient information\n",
      "Processing Record 479 of 613. City = riohacha\n",
      "Processing Record 480 of 613. City = yanam\n",
      "Processing Record 481 of 613. City = vestmannaeyjar\n",
      "Processing Record 482 of 613. City = houma\n",
      "Processing Record 483 of 613. City = igarka\n",
      "Processing Record 484 of 613. City = santarem\n",
      "Processing Record 485 of 613. City = snezhnogorsk\n",
      "Processing Record 486 of 613. City = kenora\n",
      "Processing Record 487 of 613. City = manggar\n",
      "Processing Record 488 of 613. City = nelson bay\n",
      "Processing Record 489 of 613. City = caravelas\n",
      "Processing Record 490 of 613. City = sarangani\n",
      "Processing Record 491 of 613. City = matara\n",
      "Processing Record 492 of 613. City = verkhnevilyuysk\n",
      "Processing Record 493 of 613. City = phan rang\n",
      "... skipped over  phan rang  because it lacked sufficient information\n",
      "Processing Record 494 of 613. City = mount isa\n",
      "Processing Record 495 of 613. City = manokwari\n",
      "Processing Record 496 of 613. City = orlik\n",
      "Processing Record 497 of 613. City = waipawa\n",
      "Processing Record 498 of 613. City = machali\n",
      "Processing Record 499 of 613. City = roma\n",
      "Processing Record 500 of 613. City = luang prabang\n",
      "**Done running the first batch**\n"
     ]
    }
   ],
   "source": [
    "# Save config information.\n",
    "url = \"http://api.openweathermap.org/data/2.5/weather?\"\n",
    "units = \"metric\"\n",
    "\n",
    "# Build partial query URL\n",
    "query_url = f\"{url}appid={api_key}&units={units}&q=\"\n",
    "\n",
    "counter = 0\n",
    "\n",
    "# Loop through the list of cities and perform a request for data on each\n",
    "print(\"Checkpoint: Confirmation listing of cities processed through OpenWeather Site\")\n",
    "\n",
    "for index, row in cities_df.iterrows():\n",
    "    cityname = row['City']\n",
    "    counter = counter + 1\n",
    "    \n",
    "    if counter >= 501:\n",
    "        print(\"**Done running the first batch**\")\n",
    "        break\n",
    "    \n",
    "    if counter <= 500:\n",
    "        time.sleep(1)\n",
    "        print(f\"Processing Record {counter} of {fullset}. City = {cityname}\")\n",
    "        \n",
    "        try:\n",
    "            response = requests.get(query_url + cityname).json()   \n",
    "            cities_df.loc[index, 'Lat'] = response['coord']['lat']\n",
    "            cities_df.loc[index, 'Lng'] = response['coord']['lon']\n",
    "            cities_df.loc[index, 'Temp Max'] = response['main']['temp_max']\n",
    "            cities_df.loc[index, 'Humidity'] = response['main']['humidity']\n",
    "            cities_df.loc[index, 'Cloudiness'] = response['clouds']['all']\n",
    "            cities_df.loc[index, 'Wind Speed'] = response['wind']['speed']\n",
    "            cities_df.loc[index, 'Country'] = response['sys']['country']\n",
    "            cities_df.loc[index, 'Date'] = response['dt']\n",
    "         \n",
    "        except (KeyError, IndexError, ValueError):\n",
    "            print(f\"... skipped over  \" + cityname + \"  because it lacked sufficient information\")\n",
    "            #cities_df.remove(cityname) ... doesn't work here\n",
    "            pass\n",
    "\n",
    "# First attempt structure going to lists instead of dataframes\n",
    "# Create lists to capture date for use in data frame\n",
    "#cities = ['London', 'xxToronto','nanortalik', 'haines junction', 'ancud', 'mikkeli', 'daru', 'vaini', 'bethel', 'vostok']\n",
    "#cities = cities\n",
    "# lat = []\n",
    "# lng = []\n",
    "# temp_max = []\n",
    "# humidity = []\n",
    "# cloudiness = []\n",
    "# wind_speed = []\n",
    "# country = []\n",
    "# date = []\n",
    "#for city in cities:\n",
    "#             lat.append(response['coord']['lat'])\n",
    "#             lng.append(response['coord']['lon'])\n",
    "#             temp_max.append(response['main']['temp_max'])\n",
    "#             humidity.append(response['main']['humidity'])\n",
    "#             cloudiness.append(response['clouds']['all'])\n",
    "#             wind_speed.append(response['wind']['speed'])\n",
    "#             country.append(response['sys']['country'])\n",
    "#             date.append(response['dt'])\n"
   ]
  },
  {
   "cell_type": "code",
   "execution_count": 70,
   "metadata": {},
   "outputs": [
    {
     "name": "stdout",
     "output_type": "stream",
     "text": [
      "Exhibit 1b: Cities with their available weather data\n"
     ]
    },
    {
     "data": {
      "text/html": [
       "<div>\n",
       "<style scoped>\n",
       "    .dataframe tbody tr th:only-of-type {\n",
       "        vertical-align: middle;\n",
       "    }\n",
       "\n",
       "    .dataframe tbody tr th {\n",
       "        vertical-align: top;\n",
       "    }\n",
       "\n",
       "    .dataframe thead th {\n",
       "        text-align: right;\n",
       "    }\n",
       "</style>\n",
       "<table border=\"1\" class=\"dataframe\">\n",
       "  <thead>\n",
       "    <tr style=\"text-align: right;\">\n",
       "      <th></th>\n",
       "      <th>City</th>\n",
       "      <th>Lat</th>\n",
       "      <th>Lng</th>\n",
       "      <th>Temp Max</th>\n",
       "      <th>Humidity</th>\n",
       "      <th>Cloudiness</th>\n",
       "      <th>Wind Speed</th>\n",
       "      <th>Country</th>\n",
       "      <th>Date</th>\n",
       "    </tr>\n",
       "  </thead>\n",
       "  <tbody>\n",
       "    <tr>\n",
       "      <th>0</th>\n",
       "      <td>punta arenas</td>\n",
       "      <td>-53.15</td>\n",
       "      <td>-70.92</td>\n",
       "      <td>12.00</td>\n",
       "      <td>46</td>\n",
       "      <td>0</td>\n",
       "      <td>7.20</td>\n",
       "      <td>CL</td>\n",
       "      <td>1603392831</td>\n",
       "    </tr>\n",
       "    <tr>\n",
       "      <th>1</th>\n",
       "      <td>bluff</td>\n",
       "      <td>-46.60</td>\n",
       "      <td>168.33</td>\n",
       "      <td>10.00</td>\n",
       "      <td>90</td>\n",
       "      <td>100</td>\n",
       "      <td>0.89</td>\n",
       "      <td>NZ</td>\n",
       "      <td>1603392832</td>\n",
       "    </tr>\n",
       "    <tr>\n",
       "      <th>2</th>\n",
       "      <td>saint-joseph</td>\n",
       "      <td>-21.37</td>\n",
       "      <td>55.62</td>\n",
       "      <td>23.00</td>\n",
       "      <td>78</td>\n",
       "      <td>0</td>\n",
       "      <td>5.10</td>\n",
       "      <td>RE</td>\n",
       "      <td>1603392834</td>\n",
       "    </tr>\n",
       "    <tr>\n",
       "      <th>3</th>\n",
       "      <td>castro</td>\n",
       "      <td>-24.79</td>\n",
       "      <td>-50.01</td>\n",
       "      <td>24.57</td>\n",
       "      <td>50</td>\n",
       "      <td>2</td>\n",
       "      <td>3.87</td>\n",
       "      <td>BR</td>\n",
       "      <td>1603392835</td>\n",
       "    </tr>\n",
       "    <tr>\n",
       "      <th>4</th>\n",
       "      <td>ribeira grande</td>\n",
       "      <td>38.52</td>\n",
       "      <td>-28.70</td>\n",
       "      <td>18.00</td>\n",
       "      <td>77</td>\n",
       "      <td>75</td>\n",
       "      <td>5.70</td>\n",
       "      <td>PT</td>\n",
       "      <td>1603392836</td>\n",
       "    </tr>\n",
       "  </tbody>\n",
       "</table>\n",
       "</div>"
      ],
      "text/plain": [
       "             City    Lat     Lng  Temp Max  Humidity  Cloudiness  Wind Speed  \\\n",
       "0    punta arenas -53.15  -70.92     12.00        46           0        7.20   \n",
       "1           bluff -46.60  168.33     10.00        90         100        0.89   \n",
       "2    saint-joseph -21.37   55.62     23.00        78           0        5.10   \n",
       "3          castro -24.79  -50.01     24.57        50           2        3.87   \n",
       "4  ribeira grande  38.52  -28.70     18.00        77          75        5.70   \n",
       "\n",
       "  Country        Date  \n",
       "0      CL  1603392831  \n",
       "1      NZ  1603392832  \n",
       "2      RE  1603392834  \n",
       "3      BR  1603392835  \n",
       "4      PT  1603392836  "
      ]
     },
     "execution_count": 70,
     "metadata": {},
     "output_type": "execute_result"
    }
   ],
   "source": [
    "# Provide a review list of all cities checked for weather data\n",
    "cities_df = cities_df.dropna(how='any')\n",
    "print(\"Exhibit 1b: Cities with their available weather data\")\n",
    "cities_df.to_csv(\"output_data/1bex_citiespostapicall.csv\", index=False, header=True)\n",
    "cities_df.head()"
   ]
  },
  {
   "cell_type": "code",
   "execution_count": 71,
   "metadata": {},
   "outputs": [
    {
     "name": "stdout",
     "output_type": "stream",
     "text": [
      "Exhibit 1c: Cities with a full set of weather data\n"
     ]
    },
    {
     "data": {
      "text/html": [
       "<div>\n",
       "<style scoped>\n",
       "    .dataframe tbody tr th:only-of-type {\n",
       "        vertical-align: middle;\n",
       "    }\n",
       "\n",
       "    .dataframe tbody tr th {\n",
       "        vertical-align: top;\n",
       "    }\n",
       "\n",
       "    .dataframe thead th {\n",
       "        text-align: right;\n",
       "    }\n",
       "</style>\n",
       "<table border=\"1\" class=\"dataframe\">\n",
       "  <thead>\n",
       "    <tr style=\"text-align: right;\">\n",
       "      <th></th>\n",
       "      <th>City</th>\n",
       "      <th>Lat</th>\n",
       "      <th>Lng</th>\n",
       "      <th>Temp Max</th>\n",
       "      <th>Humidity</th>\n",
       "      <th>Cloudiness</th>\n",
       "      <th>Wind Speed</th>\n",
       "      <th>Country</th>\n",
       "      <th>Date</th>\n",
       "    </tr>\n",
       "  </thead>\n",
       "  <tbody>\n",
       "    <tr>\n",
       "      <th>0</th>\n",
       "      <td>punta arenas</td>\n",
       "      <td>-53.15</td>\n",
       "      <td>-70.92</td>\n",
       "      <td>12.00</td>\n",
       "      <td>46</td>\n",
       "      <td>0</td>\n",
       "      <td>7.20</td>\n",
       "      <td>CL</td>\n",
       "      <td>1603392831</td>\n",
       "    </tr>\n",
       "    <tr>\n",
       "      <th>1</th>\n",
       "      <td>bluff</td>\n",
       "      <td>-46.60</td>\n",
       "      <td>168.33</td>\n",
       "      <td>10.00</td>\n",
       "      <td>90</td>\n",
       "      <td>100</td>\n",
       "      <td>0.89</td>\n",
       "      <td>NZ</td>\n",
       "      <td>1603392832</td>\n",
       "    </tr>\n",
       "    <tr>\n",
       "      <th>2</th>\n",
       "      <td>saint-joseph</td>\n",
       "      <td>-21.37</td>\n",
       "      <td>55.62</td>\n",
       "      <td>23.00</td>\n",
       "      <td>78</td>\n",
       "      <td>0</td>\n",
       "      <td>5.10</td>\n",
       "      <td>RE</td>\n",
       "      <td>1603392834</td>\n",
       "    </tr>\n",
       "    <tr>\n",
       "      <th>3</th>\n",
       "      <td>castro</td>\n",
       "      <td>-24.79</td>\n",
       "      <td>-50.01</td>\n",
       "      <td>24.57</td>\n",
       "      <td>50</td>\n",
       "      <td>2</td>\n",
       "      <td>3.87</td>\n",
       "      <td>BR</td>\n",
       "      <td>1603392835</td>\n",
       "    </tr>\n",
       "    <tr>\n",
       "      <th>4</th>\n",
       "      <td>ribeira grande</td>\n",
       "      <td>38.52</td>\n",
       "      <td>-28.70</td>\n",
       "      <td>18.00</td>\n",
       "      <td>77</td>\n",
       "      <td>75</td>\n",
       "      <td>5.70</td>\n",
       "      <td>PT</td>\n",
       "      <td>1603392836</td>\n",
       "    </tr>\n",
       "  </tbody>\n",
       "</table>\n",
       "</div>"
      ],
      "text/plain": [
       "             City    Lat     Lng  Temp Max  Humidity  Cloudiness  Wind Speed  \\\n",
       "0    punta arenas -53.15  -70.92     12.00        46           0        7.20   \n",
       "1           bluff -46.60  168.33     10.00        90         100        0.89   \n",
       "2    saint-joseph -21.37   55.62     23.00        78           0        5.10   \n",
       "3          castro -24.79  -50.01     24.57        50           2        3.87   \n",
       "4  ribeira grande  38.52  -28.70     18.00        77          75        5.70   \n",
       "\n",
       "  Country        Date  \n",
       "0      CL  1603392831  \n",
       "1      NZ  1603392832  \n",
       "2      RE  1603392834  \n",
       "3      BR  1603392835  \n",
       "4      PT  1603392836  "
      ]
     },
     "execution_count": 71,
     "metadata": {},
     "output_type": "execute_result"
    }
   ],
   "source": [
    "# Remove cities that did not have a full set of weather data available from the data frame\n",
    "print(\"Exhibit 1c: Cities with a full set of weather data\")\n",
    "#cities_df = cities_df.dropna()\n",
    "cities_df = cities_df.loc[cities_df[\"Date\"] != \"\"]\n",
    "cities_df.to_csv(\"output_data/1cex_cleancities.csv\", index=False, header=True)\n",
    "cities_df.head()"
   ]
  },
  {
   "cell_type": "markdown",
   "metadata": {},
   "source": [
    "### Convert Raw Data to DataFrame\n",
    "* Export the city data into a .csv.\n",
    "* Display the DataFrame"
   ]
  },
  {
   "cell_type": "code",
   "execution_count": 72,
   "metadata": {},
   "outputs": [],
   "source": [
    "# Export the randomly generated list of cities to to a csv file ... this is a backup file to 1c. above\n",
    "cities_df.to_csv(\"output_data/1dex_cleancities.csv\", index=False, header=True)"
   ]
  },
  {
   "cell_type": "markdown",
   "metadata": {},
   "source": [
    "## Inspect the data and remove the cities where the humidity > 100%.\n",
    "----\n",
    "Skip this step if there are no cities that have humidity > 100%. "
   ]
  },
  {
   "cell_type": "code",
   "execution_count": 73,
   "metadata": {},
   "outputs": [
    {
     "name": "stdout",
     "output_type": "stream",
     "text": [
      "Exhibit 2: Table with in scope cities and their weather data. (Note: Cities with humidity >100% removed)\n"
     ]
    },
    {
     "data": {
      "text/html": [
       "<div>\n",
       "<style scoped>\n",
       "    .dataframe tbody tr th:only-of-type {\n",
       "        vertical-align: middle;\n",
       "    }\n",
       "\n",
       "    .dataframe tbody tr th {\n",
       "        vertical-align: top;\n",
       "    }\n",
       "\n",
       "    .dataframe thead th {\n",
       "        text-align: right;\n",
       "    }\n",
       "</style>\n",
       "<table border=\"1\" class=\"dataframe\">\n",
       "  <thead>\n",
       "    <tr style=\"text-align: right;\">\n",
       "      <th></th>\n",
       "      <th>City</th>\n",
       "      <th>Lat</th>\n",
       "      <th>Lng</th>\n",
       "      <th>Temp Max</th>\n",
       "      <th>Humidity</th>\n",
       "      <th>Cloudiness</th>\n",
       "      <th>Wind Speed</th>\n",
       "      <th>Country</th>\n",
       "      <th>Date</th>\n",
       "    </tr>\n",
       "  </thead>\n",
       "  <tbody>\n",
       "    <tr>\n",
       "      <th>0</th>\n",
       "      <td>punta arenas</td>\n",
       "      <td>-53.15</td>\n",
       "      <td>-70.92</td>\n",
       "      <td>12.00</td>\n",
       "      <td>46</td>\n",
       "      <td>0</td>\n",
       "      <td>7.20</td>\n",
       "      <td>CL</td>\n",
       "      <td>1603392831</td>\n",
       "    </tr>\n",
       "    <tr>\n",
       "      <th>1</th>\n",
       "      <td>bluff</td>\n",
       "      <td>-46.60</td>\n",
       "      <td>168.33</td>\n",
       "      <td>10.00</td>\n",
       "      <td>90</td>\n",
       "      <td>100</td>\n",
       "      <td>0.89</td>\n",
       "      <td>NZ</td>\n",
       "      <td>1603392832</td>\n",
       "    </tr>\n",
       "    <tr>\n",
       "      <th>2</th>\n",
       "      <td>saint-joseph</td>\n",
       "      <td>-21.37</td>\n",
       "      <td>55.62</td>\n",
       "      <td>23.00</td>\n",
       "      <td>78</td>\n",
       "      <td>0</td>\n",
       "      <td>5.10</td>\n",
       "      <td>RE</td>\n",
       "      <td>1603392834</td>\n",
       "    </tr>\n",
       "    <tr>\n",
       "      <th>3</th>\n",
       "      <td>castro</td>\n",
       "      <td>-24.79</td>\n",
       "      <td>-50.01</td>\n",
       "      <td>24.57</td>\n",
       "      <td>50</td>\n",
       "      <td>2</td>\n",
       "      <td>3.87</td>\n",
       "      <td>BR</td>\n",
       "      <td>1603392835</td>\n",
       "    </tr>\n",
       "    <tr>\n",
       "      <th>4</th>\n",
       "      <td>ribeira grande</td>\n",
       "      <td>38.52</td>\n",
       "      <td>-28.70</td>\n",
       "      <td>18.00</td>\n",
       "      <td>77</td>\n",
       "      <td>75</td>\n",
       "      <td>5.70</td>\n",
       "      <td>PT</td>\n",
       "      <td>1603392836</td>\n",
       "    </tr>\n",
       "  </tbody>\n",
       "</table>\n",
       "</div>"
      ],
      "text/plain": [
       "             City    Lat     Lng  Temp Max  Humidity  Cloudiness  Wind Speed  \\\n",
       "0    punta arenas -53.15  -70.92     12.00        46           0        7.20   \n",
       "1           bluff -46.60  168.33     10.00        90         100        0.89   \n",
       "2    saint-joseph -21.37   55.62     23.00        78           0        5.10   \n",
       "3          castro -24.79  -50.01     24.57        50           2        3.87   \n",
       "4  ribeira grande  38.52  -28.70     18.00        77          75        5.70   \n",
       "\n",
       "  Country        Date  \n",
       "0      CL  1603392831  \n",
       "1      NZ  1603392832  \n",
       "2      RE  1603392834  \n",
       "3      BR  1603392835  \n",
       "4      PT  1603392836  "
      ]
     },
     "execution_count": 73,
     "metadata": {},
     "output_type": "execute_result"
    }
   ],
   "source": [
    "# Inspect and remove cities with humidity greater than 100%\n",
    "print(\"Exhibit 2: Table with in scope cities and their weather data. (Note: Cities with humidity >100% removed)\")\n",
    "dehumidified = cities_df.loc[cities_df[\"Humidity\"] <= 100]\n",
    "dehumidified.head()"
   ]
  },
  {
   "cell_type": "code",
   "execution_count": 74,
   "metadata": {},
   "outputs": [
    {
     "name": "stdout",
     "output_type": "stream",
     "text": [
      "Exhibit 3: List of cities removed from project because humidity was greater than 100% (blank if none)\n"
     ]
    },
    {
     "data": {
      "text/html": [
       "<div>\n",
       "<style scoped>\n",
       "    .dataframe tbody tr th:only-of-type {\n",
       "        vertical-align: middle;\n",
       "    }\n",
       "\n",
       "    .dataframe tbody tr th {\n",
       "        vertical-align: top;\n",
       "    }\n",
       "\n",
       "    .dataframe thead th {\n",
       "        text-align: right;\n",
       "    }\n",
       "</style>\n",
       "<table border=\"1\" class=\"dataframe\">\n",
       "  <thead>\n",
       "    <tr style=\"text-align: right;\">\n",
       "      <th></th>\n",
       "      <th>City</th>\n",
       "      <th>Lat</th>\n",
       "      <th>Lng</th>\n",
       "      <th>Temp Max</th>\n",
       "      <th>Humidity</th>\n",
       "      <th>Cloudiness</th>\n",
       "      <th>Wind Speed</th>\n",
       "      <th>Country</th>\n",
       "      <th>Date</th>\n",
       "    </tr>\n",
       "  </thead>\n",
       "  <tbody>\n",
       "  </tbody>\n",
       "</table>\n",
       "</div>"
      ],
      "text/plain": [
       "Empty DataFrame\n",
       "Columns: [City, Lat, Lng, Temp Max, Humidity, Cloudiness, Wind Speed, Country, Date]\n",
       "Index: []"
      ]
     },
     "execution_count": 74,
     "metadata": {},
     "output_type": "execute_result"
    }
   ],
   "source": [
    "print(\"Exhibit 3: List of cities removed from project because humidity was greater than 100% (blank if none)\")\n",
    "humidoutliers = cities_df.loc[cities_df[\"Humidity\"] > 100]\n",
    "humidoutliers.head()"
   ]
  },
  {
   "cell_type": "code",
   "execution_count": 75,
   "metadata": {},
   "outputs": [],
   "source": [
    "# Export the data frame to a csv file\n",
    "dehumidified.to_csv(\"output_data/2ex_cleancitydata.csv\", index=False, header=True)\n",
    "humidoutliers.to_csv(\"output_data/3ex_citieswithtoomuchhumidity.csv\", index=False, header=True)"
   ]
  },
  {
   "cell_type": "markdown",
   "metadata": {},
   "source": [
    "## Plotting the Data\n",
    "* Use proper labeling of the plots using plot titles (including date of analysis) and axes labels.\n",
    "* Save the plotted figures as .pngs."
   ]
  },
  {
   "cell_type": "markdown",
   "metadata": {},
   "source": [
    "## Latitude vs. Temperature Plot"
   ]
  },
  {
   "cell_type": "code",
   "execution_count": 76,
   "metadata": {
    "scrolled": true
   },
   "outputs": [
    {
     "data": {
      "image/png": "[encoded data removed]",
      "text/plain": [
       "<Figure size 432x288 with 1 Axes>"
      ]
     },
     "metadata": {
      "needs_background": "light"
     },
     "output_type": "display_data"
    }
   ],
   "source": [
    "# Compare latitude to temperature\n",
    "x_axis = dehumidified[\"Lat\"]\n",
    "y_axis = dehumidified[\"Temp Max\"]\n",
    "plt.title(\"Ex. 4: Relationship Between Lattitude and Maximum Temperature\")\n",
    "plt.xlabel(\"Latitude\")\n",
    "plt.ylabel(\"Maximum Temperature\")\n",
    "plt.scatter(x_axis, y_axis, marker=\"o\", color=\"blue\")\n",
    "plt.savefig(\"output_data/4chart_lat2temp.png\")\n",
    "plt.show()"
   ]
  },
  {
   "cell_type": "markdown",
   "metadata": {},
   "source": [
    "## Latitude vs. Humidity Plot"
   ]
  },
  {
   "cell_type": "code",
   "execution_count": 77,
   "metadata": {},
   "outputs": [
    {
     "data": {
      "image/png": "[encoded data removed]",
      "text/plain": [
       "<Figure size 432x288 with 1 Axes>"
      ]
     },
     "metadata": {
      "needs_background": "light"
     },
     "output_type": "display_data"
    }
   ],
   "source": [
    "# Compare latitude to humidity\n",
    "x_axis = dehumidified[\"Lat\"]\n",
    "y_axis = dehumidified[\"Humidity\"]\n",
    "plt.title(\"Ex. 5: Relationship Between Lattitude and Humidity\")\n",
    "plt.xlabel(\"Latitude\")\n",
    "plt.ylabel(\"Humidity\")\n",
    "plt.scatter(x_axis, y_axis, marker=\"o\", color=\"blue\")\n",
    "plt.savefig(\"output_data/5chart_lat2humidity.png\")\n",
    "plt.show()"
   ]
  },
  {
   "cell_type": "markdown",
   "metadata": {},
   "source": [
    "## Latitude vs. Cloudiness Plot"
   ]
  },
  {
   "cell_type": "code",
   "execution_count": 78,
   "metadata": {},
   "outputs": [
    {
     "data": {
      "image/png": "[encoded data removed]",
      "text/plain": [
       "<Figure size 432x288 with 1 Axes>"
      ]
     },
     "metadata": {
      "needs_background": "light"
     },
     "output_type": "display_data"
    }
   ],
   "source": [
    "# Compare latitude to cloudiness\n",
    "x_axis = dehumidified[\"Lat\"]\n",
    "y_axis = dehumidified[\"Cloudiness\"]\n",
    "plt.title(\"Ex. 6: Relationship Between Lattitude and Cloudiness\")\n",
    "plt.xlabel(\"Latitude\")\n",
    "plt.ylabel(\"Cloudiness\")\n",
    "plt.scatter(x_axis, y_axis, marker=\"o\", color=\"blue\")\n",
    "plt.savefig(\"output_data/6chart_lat2cloudiness.png\")\n",
    "plt.show()"
   ]
  },
  {
   "cell_type": "markdown",
   "metadata": {},
   "source": [
    "## Latitude vs. Wind Speed Plot"
   ]
  },
  {
   "cell_type": "code",
   "execution_count": 79,
   "metadata": {},
   "outputs": [
    {
     "data": {
      "image/png": "[encoded data removed]",
      "text/plain": [
       "<Figure size 432x288 with 1 Axes>"
      ]
     },
     "metadata": {
      "needs_background": "light"
     },
     "output_type": "display_data"
    }
   ],
   "source": [
    "# Compare latitude to wind speed\n",
    "x_axis = dehumidified[\"Lat\"]\n",
    "y_axis = dehumidified[\"Wind Speed\"]\n",
    "plt.title(\"Ex. 7: Relationship Between Lattitude and Wind Speed\")\n",
    "plt.xlabel(\"Latitude\")\n",
    "plt.ylabel(\"Wind Speed\")\n",
    "plt.scatter(x_axis, y_axis, marker=\"o\", color=\"blue\")\n",
    "plt.savefig(\"output_data/7chart_lat2windspeed.png\")\n",
    "plt.show()"
   ]
  },
  {
   "cell_type": "markdown",
   "metadata": {},
   "source": [
    "## Linear Regression"
   ]
  },
  {
   "cell_type": "code",
   "execution_count": 80,
   "metadata": {},
   "outputs": [
    {
     "name": "stdout",
     "output_type": "stream",
     "text": [
      "Exhibit 8: Table of cities at or north of equator. (Note: Cities with humidity >100% removed)\n"
     ]
    },
    {
     "data": {
      "text/html": [
       "<div>\n",
       "<style scoped>\n",
       "    .dataframe tbody tr th:only-of-type {\n",
       "        vertical-align: middle;\n",
       "    }\n",
       "\n",
       "    .dataframe tbody tr th {\n",
       "        vertical-align: top;\n",
       "    }\n",
       "\n",
       "    .dataframe thead th {\n",
       "        text-align: right;\n",
       "    }\n",
       "</style>\n",
       "<table border=\"1\" class=\"dataframe\">\n",
       "  <thead>\n",
       "    <tr style=\"text-align: right;\">\n",
       "      <th></th>\n",
       "      <th>City</th>\n",
       "      <th>Lat</th>\n",
       "      <th>Lng</th>\n",
       "      <th>Temp Max</th>\n",
       "      <th>Humidity</th>\n",
       "      <th>Cloudiness</th>\n",
       "      <th>Wind Speed</th>\n",
       "      <th>Country</th>\n",
       "      <th>Date</th>\n",
       "    </tr>\n",
       "  </thead>\n",
       "  <tbody>\n",
       "    <tr>\n",
       "      <th>4</th>\n",
       "      <td>ribeira grande</td>\n",
       "      <td>38.52</td>\n",
       "      <td>-28.70</td>\n",
       "      <td>18.00</td>\n",
       "      <td>77</td>\n",
       "      <td>75</td>\n",
       "      <td>5.70</td>\n",
       "      <td>PT</td>\n",
       "      <td>1603392836</td>\n",
       "    </tr>\n",
       "    <tr>\n",
       "      <th>6</th>\n",
       "      <td>tiksi</td>\n",
       "      <td>71.69</td>\n",
       "      <td>128.87</td>\n",
       "      <td>-14.26</td>\n",
       "      <td>93</td>\n",
       "      <td>71</td>\n",
       "      <td>3.15</td>\n",
       "      <td>RU</td>\n",
       "      <td>1603392841</td>\n",
       "    </tr>\n",
       "    <tr>\n",
       "      <th>7</th>\n",
       "      <td>spearfish</td>\n",
       "      <td>44.49</td>\n",
       "      <td>-103.86</td>\n",
       "      <td>-1.67</td>\n",
       "      <td>92</td>\n",
       "      <td>40</td>\n",
       "      <td>4.10</td>\n",
       "      <td>US</td>\n",
       "      <td>1603392580</td>\n",
       "    </tr>\n",
       "    <tr>\n",
       "      <th>8</th>\n",
       "      <td>albany</td>\n",
       "      <td>42.60</td>\n",
       "      <td>-73.97</td>\n",
       "      <td>21.67</td>\n",
       "      <td>68</td>\n",
       "      <td>57</td>\n",
       "      <td>1.16</td>\n",
       "      <td>US</td>\n",
       "      <td>1603392633</td>\n",
       "    </tr>\n",
       "    <tr>\n",
       "      <th>9</th>\n",
       "      <td>camacha</td>\n",
       "      <td>33.08</td>\n",
       "      <td>-16.33</td>\n",
       "      <td>19.00</td>\n",
       "      <td>68</td>\n",
       "      <td>40</td>\n",
       "      <td>4.10</td>\n",
       "      <td>PT</td>\n",
       "      <td>1603392845</td>\n",
       "    </tr>\n",
       "  </tbody>\n",
       "</table>\n",
       "</div>"
      ],
      "text/plain": [
       "             City    Lat     Lng  Temp Max  Humidity  Cloudiness  Wind Speed  \\\n",
       "4  ribeira grande  38.52  -28.70     18.00        77          75        5.70   \n",
       "6           tiksi  71.69  128.87    -14.26        93          71        3.15   \n",
       "7       spearfish  44.49 -103.86     -1.67        92          40        4.10   \n",
       "8          albany  42.60  -73.97     21.67        68          57        1.16   \n",
       "9         camacha  33.08  -16.33     19.00        68          40        4.10   \n",
       "\n",
       "  Country        Date  \n",
       "4      PT  1603392836  \n",
       "6      RU  1603392841  \n",
       "7      US  1603392580  \n",
       "8      US  1603392633  \n",
       "9      PT  1603392845  "
      ]
     },
     "execution_count": 80,
     "metadata": {},
     "output_type": "execute_result"
    }
   ],
   "source": [
    "# Build a northern hemisphere data frame\n",
    "northern = dehumidified.loc[dehumidified[\"Lat\"] >= 0]\n",
    "print(\"Exhibit 8: Table of cities at or north of equator. (Note: Cities with humidity >100% removed)\")\n",
    "northern.to_csv(\"output_data/8ex_northernhemisphere.csv\", index=False, header=True)\n",
    "northern.head()"
   ]
  },
  {
   "cell_type": "code",
   "execution_count": 81,
   "metadata": {},
   "outputs": [
    {
     "name": "stdout",
     "output_type": "stream",
     "text": [
      "Exhibit 9: Table of cities south of equator. (Note: Cities with humidity >100% removed)\n"
     ]
    },
    {
     "data": {
      "text/html": [
       "<div>\n",
       "<style scoped>\n",
       "    .dataframe tbody tr th:only-of-type {\n",
       "        vertical-align: middle;\n",
       "    }\n",
       "\n",
       "    .dataframe tbody tr th {\n",
       "        vertical-align: top;\n",
       "    }\n",
       "\n",
       "    .dataframe thead th {\n",
       "        text-align: right;\n",
       "    }\n",
       "</style>\n",
       "<table border=\"1\" class=\"dataframe\">\n",
       "  <thead>\n",
       "    <tr style=\"text-align: right;\">\n",
       "      <th></th>\n",
       "      <th>City</th>\n",
       "      <th>Lat</th>\n",
       "      <th>Lng</th>\n",
       "      <th>Temp Max</th>\n",
       "      <th>Humidity</th>\n",
       "      <th>Cloudiness</th>\n",
       "      <th>Wind Speed</th>\n",
       "      <th>Country</th>\n",
       "      <th>Date</th>\n",
       "    </tr>\n",
       "  </thead>\n",
       "  <tbody>\n",
       "    <tr>\n",
       "      <th>0</th>\n",
       "      <td>punta arenas</td>\n",
       "      <td>-53.15</td>\n",
       "      <td>-70.92</td>\n",
       "      <td>12.00</td>\n",
       "      <td>46</td>\n",
       "      <td>0</td>\n",
       "      <td>7.20</td>\n",
       "      <td>CL</td>\n",
       "      <td>1603392831</td>\n",
       "    </tr>\n",
       "    <tr>\n",
       "      <th>1</th>\n",
       "      <td>bluff</td>\n",
       "      <td>-46.60</td>\n",
       "      <td>168.33</td>\n",
       "      <td>10.00</td>\n",
       "      <td>90</td>\n",
       "      <td>100</td>\n",
       "      <td>0.89</td>\n",
       "      <td>NZ</td>\n",
       "      <td>1603392832</td>\n",
       "    </tr>\n",
       "    <tr>\n",
       "      <th>2</th>\n",
       "      <td>saint-joseph</td>\n",
       "      <td>-21.37</td>\n",
       "      <td>55.62</td>\n",
       "      <td>23.00</td>\n",
       "      <td>78</td>\n",
       "      <td>0</td>\n",
       "      <td>5.10</td>\n",
       "      <td>RE</td>\n",
       "      <td>1603392834</td>\n",
       "    </tr>\n",
       "    <tr>\n",
       "      <th>3</th>\n",
       "      <td>castro</td>\n",
       "      <td>-24.79</td>\n",
       "      <td>-50.01</td>\n",
       "      <td>24.57</td>\n",
       "      <td>50</td>\n",
       "      <td>2</td>\n",
       "      <td>3.87</td>\n",
       "      <td>BR</td>\n",
       "      <td>1603392835</td>\n",
       "    </tr>\n",
       "    <tr>\n",
       "      <th>5</th>\n",
       "      <td>ushuaia</td>\n",
       "      <td>-54.80</td>\n",
       "      <td>-68.30</td>\n",
       "      <td>9.00</td>\n",
       "      <td>57</td>\n",
       "      <td>40</td>\n",
       "      <td>10.30</td>\n",
       "      <td>AR</td>\n",
       "      <td>1603392838</td>\n",
       "    </tr>\n",
       "  </tbody>\n",
       "</table>\n",
       "</div>"
      ],
      "text/plain": [
       "           City    Lat     Lng  Temp Max  Humidity  Cloudiness  Wind Speed  \\\n",
       "0  punta arenas -53.15  -70.92     12.00        46           0        7.20   \n",
       "1         bluff -46.60  168.33     10.00        90         100        0.89   \n",
       "2  saint-joseph -21.37   55.62     23.00        78           0        5.10   \n",
       "3        castro -24.79  -50.01     24.57        50           2        3.87   \n",
       "5       ushuaia -54.80  -68.30      9.00        57          40       10.30   \n",
       "\n",
       "  Country        Date  \n",
       "0      CL  1603392831  \n",
       "1      NZ  1603392832  \n",
       "2      RE  1603392834  \n",
       "3      BR  1603392835  \n",
       "5      AR  1603392838  "
      ]
     },
     "execution_count": 81,
     "metadata": {},
     "output_type": "execute_result"
    }
   ],
   "source": [
    "# Build a southern hemisphere data frame\n",
    "southern = dehumidified.loc[dehumidified[\"Lat\"] < 0]\n",
    "print(\"Exhibit 9: Table of cities south of equator. (Note: Cities with humidity >100% removed)\")\n",
    "southern.to_csv(\"output_data/9ex_southernhemisphere.csv\", index=False, header=True)\n",
    "southern.head()"
   ]
  },
  {
   "cell_type": "markdown",
   "metadata": {},
   "source": [
    "####  Northern Hemisphere - Max Temp vs. Latitude Linear Regression"
   ]
  },
  {
   "cell_type": "code",
   "execution_count": 82,
   "metadata": {},
   "outputs": [
    {
     "data": {
      "image/png": "[encoded data removed]",
      "text/plain": [
       "<Figure size 432x288 with 1 Axes>"
      ]
     },
     "metadata": {
      "needs_background": "light"
     },
     "output_type": "display_data"
    },
    {
     "name": "stdout",
     "output_type": "stream",
     "text": [
      "The correlation coefficient is -0.87\n",
      "The line equation is as follows:  y = -0.56x + 35.29\n"
     ]
    }
   ],
   "source": [
    "#Compare latitude to temperature\n",
    "x_axis = northern[\"Lat\"]\n",
    "y_axis = northern[\"Temp Max\"]\n",
    "plt.title(\"Ex. 10: Northern Hemisphere / Relationship Between Lattitude and Maximum Temperature\")\n",
    "plt.xlabel(\"Latitude\")\n",
    "plt.ylabel(\"Maximum Temperature\")\n",
    "plt.scatter(x_axis, y_axis, marker=\"o\", color=\"blue\")\n",
    "(slope, intercept, rvalue, pvalue, stderr) = linregress(x_axis, y_axis)\n",
    "regress_values = x_axis * slope + intercept\n",
    "line_eq = \"y = \" + str(round(slope,2)) + \"x + \" + str(round(intercept,2))\n",
    "plt.plot(x_axis,regress_values,\"r-\")\n",
    "plt.annotate(line_eq,(0,50),fontsize=15,color=\"red\")\n",
    "plt.savefig(\"output_data/10chart_northlat2temp.png\")\n",
    "plt.show()\n",
    "print(f\"The correlation coefficient is {round(st.pearsonr(x_axis,y_axis)[0],2)}\")\n",
    "print(f\"The line equation is as follows:  {line_eq}\")"
   ]
  },
  {
   "cell_type": "markdown",
   "metadata": {},
   "source": [
    "####  Southern Hemisphere - Max Temp vs. Latitude Linear Regression"
   ]
  },
  {
   "cell_type": "code",
   "execution_count": 83,
   "metadata": {},
   "outputs": [
    {
     "data": {
      "image/png": "[encoded data removed]",
      "text/plain": [
       "<Figure size 432x288 with 1 Axes>"
      ]
     },
     "metadata": {
      "needs_background": "light"
     },
     "output_type": "display_data"
    },
    {
     "name": "stdout",
     "output_type": "stream",
     "text": [
      "The correlation coefficient is 0.73\n",
      "The line equation is as follows:  y = 0.35x + 30.0\n"
     ]
    }
   ],
   "source": [
    "# Compare latitude to temperature\n",
    "x_axis = southern[\"Lat\"]\n",
    "y_axis = southern[\"Temp Max\"]\n",
    "plt.title(\"Ex. 11: Southern Hemisphere / Relationship Between Lattitude and Maximum Temperature\")\n",
    "plt.xlabel(\"Latitude\")\n",
    "plt.ylabel(\"Maximum Temperature\")\n",
    "plt.scatter(x_axis, y_axis, marker=\"o\", color=\"blue\")\n",
    "(slope, intercept, rvalue, pvalue, stderr) = linregress(x_axis.astype(float), y_axis.astype(float))\n",
    "regress_values = x_axis * slope + intercept\n",
    "line_eq = \"y = \" + str(round(slope,2)) + \"x + \" + str(round(intercept,2))\n",
    "plt.plot(x_axis,regress_values,\"r-\")\n",
    "plt.annotate(line_eq,(0,50),fontsize=15,color=\"red\")\n",
    "plt.savefig(\"output_data/11chart_southlat2temp.png\")\n",
    "plt.show()\n",
    "print(f\"The correlation coefficient is {round(st.pearsonr(x_axis,y_axis)[0],2)}\")\n",
    "print(f\"The line equation is as follows:  {line_eq}\")"
   ]
  },
  {
   "cell_type": "markdown",
   "metadata": {},
   "source": [
    "####  Northern Hemisphere - Humidity (%) vs. Latitude Linear Regression"
   ]
  },
  {
   "cell_type": "code",
   "execution_count": 84,
   "metadata": {},
   "outputs": [
    {
     "data": {
      "image/png": "[encoded data removed]",
      "text/plain": [
       "<Figure size 432x288 with 1 Axes>"
      ]
     },
     "metadata": {
      "needs_background": "light"
     },
     "output_type": "display_data"
    },
    {
     "name": "stdout",
     "output_type": "stream",
     "text": [
      "The correlation coefficient is 0.31\n",
      "The line equation is as follows:  y = 0.31x + 62.21\n"
     ]
    }
   ],
   "source": [
    "#Compare latitude to humidity\n",
    "x_axis = northern[\"Lat\"]\n",
    "y_axis = northern[\"Humidity\"]  \n",
    "plt.title(\"Ex. 12: Northern Hemisphere / Relationship Between Lattitude and Humidity\")\n",
    "plt.xlabel(\"Latitude\")\n",
    "plt.ylabel(\"Humidity\")\n",
    "plt.scatter(x_axis, y_axis, marker=\"o\", color=\"blue\")\n",
    "(slope, intercept, rvalue, pvalue, stderr) = linregress(x_axis, y_axis)\n",
    "regress_values = x_axis * slope + intercept\n",
    "line_eq = \"y = \" + str(round(slope,2)) + \"x + \" + str(round(intercept,2))\n",
    "plt.plot(x_axis,regress_values,\"r-\")\n",
    "plt.annotate(line_eq,(0,50),fontsize=15,color=\"red\")\n",
    "plt.savefig(\"output_data/12chart_northlat2humidity.png\")\n",
    "plt.show()\n",
    "print(f\"The correlation coefficient is {round(st.pearsonr(x_axis,y_axis)[0],2)}\")\n",
    "print(f\"The line equation is as follows:  {line_eq}\")"
   ]
  },
  {
   "cell_type": "markdown",
   "metadata": {},
   "source": [
    "####  Southern Hemisphere - Humidity (%) vs. Latitude Linear Regression"
   ]
  },
  {
   "cell_type": "code",
   "execution_count": 85,
   "metadata": {},
   "outputs": [
    {
     "data": {
      "image/png": "[encoded data removed]",
      "text/plain": [
       "<Figure size 432x288 with 1 Axes>"
      ]
     },
     "metadata": {
      "needs_background": "light"
     },
     "output_type": "display_data"
    },
    {
     "name": "stdout",
     "output_type": "stream",
     "text": [
      "The correlation coefficient is -0.09\n",
      "The line equation is as follows:  y = -0.13x + 69.22\n"
     ]
    }
   ],
   "source": [
    "# Compare latitude to humidity\n",
    "x_axis = southern[\"Lat\"]\n",
    "y_axis = southern[\"Humidity\"]\n",
    "plt.title(\"Ex. 13: Southern Hemisphere / Relationship Between Lattitude and Humidity\")\n",
    "plt.xlabel(\"Latitude\")\n",
    "plt.ylabel(\"Humidity\")\n",
    "plt.scatter(x_axis, y_axis, marker=\"o\", color=\"blue\")\n",
    "(slope, intercept, rvalue, pvalue, stderr) = linregress(x_axis.astype(float), y_axis.astype(float))\n",
    "regress_values = x_axis * slope + intercept\n",
    "line_eq = \"y = \" + str(round(slope,2)) + \"x + \" + str(round(intercept,2))\n",
    "plt.plot(x_axis,regress_values,\"r-\")\n",
    "plt.annotate(line_eq,(0,50),fontsize=15,color=\"red\")\n",
    "plt.savefig(\"output_data/13chart_southlat2humidity.png\")\n",
    "plt.show()\n",
    "print(f\"The correlation coefficient is {round(st.pearsonr(x_axis,y_axis)[0],2)}\")\n",
    "print(f\"The line equation is as follows:  {line_eq}\")"
   ]
  },
  {
   "cell_type": "markdown",
   "metadata": {},
   "source": [
    "####  Northern Hemisphere - Cloudiness (%) vs. Latitude Linear Regression"
   ]
  },
  {
   "cell_type": "code",
   "execution_count": 86,
   "metadata": {},
   "outputs": [
    {
     "data": {
      "image/png": "[encoded data removed]",
      "text/plain": [
       "<Figure size 432x288 with 1 Axes>"
      ]
     },
     "metadata": {
      "needs_background": "light"
     },
     "output_type": "display_data"
    },
    {
     "name": "stdout",
     "output_type": "stream",
     "text": [
      "The correlation coefficient is 0.04\n",
      "The line equation is as follows:  y = 0.08x + 46.65\n"
     ]
    }
   ],
   "source": [
    "#Compare latitude to cloudiness\n",
    "x_axis = northern[\"Lat\"]\n",
    "y_axis = northern[\"Cloudiness\"]\n",
    "plt.title(\"Ex. 14: Northern Hemisphere / Relationship Between Lattitude and Cloudiness\")\n",
    "plt.xlabel(\"Latitude\")\n",
    "plt.ylabel(\"Cloudiness\")\n",
    "plt.scatter(x_axis, y_axis, marker=\"o\", color=\"blue\")\n",
    "(slope, intercept, rvalue, pvalue, stderr) = linregress(x_axis, y_axis)\n",
    "regress_values = x_axis * slope + intercept\n",
    "line_eq = \"y = \" + str(round(slope,2)) + \"x + \" + str(round(intercept,2))\n",
    "plt.plot(x_axis,regress_values,\"r-\")\n",
    "plt.annotate(line_eq,(0,50),fontsize=15,color=\"red\")\n",
    "plt.savefig(\"output_data/14chart_northlat2cloudiness.png\")\n",
    "plt.show()\n",
    "print(f\"The correlation coefficient is {round(st.pearsonr(x_axis,y_axis)[0],2)}\")\n",
    "print(f\"The line equation is as follows:  {line_eq}\")"
   ]
  },
  {
   "cell_type": "markdown",
   "metadata": {},
   "source": [
    "####  Southern Hemisphere - Cloudiness (%) vs. Latitude Linear Regression"
   ]
  },
  {
   "cell_type": "code",
   "execution_count": 87,
   "metadata": {},
   "outputs": [
    {
     "data": {
      "image/png": "[encoded data removed]",
      "text/plain": [
       "<Figure size 432x288 with 1 Axes>"
      ]
     },
     "metadata": {
      "needs_background": "light"
     },
     "output_type": "display_data"
    },
    {
     "name": "stdout",
     "output_type": "stream",
     "text": [
      "The correlation coefficient is 0.17\n",
      "The line equation is as follows:  y = 0.49x + 63.49\n"
     ]
    }
   ],
   "source": [
    "# Compare latitude to cloudiness\n",
    "x_axis = southern[\"Lat\"]\n",
    "y_axis = southern[\"Cloudiness\"]\n",
    "plt.title(\"Ex. 15: Southern Hemisphere / Relationship Between Lattitude and Cloudiness\")\n",
    "plt.xlabel(\"Latitude\")\n",
    "plt.ylabel(\"Cloudiness\")\n",
    "plt.scatter(x_axis, y_axis, marker=\"o\", color=\"blue\")\n",
    "(slope, intercept, rvalue, pvalue, stderr) = linregress(x_axis.astype(float), y_axis.astype(float))\n",
    "regress_values = x_axis * slope + intercept\n",
    "line_eq = \"y = \" + str(round(slope,2)) + \"x + \" + str(round(intercept,2))\n",
    "plt.plot(x_axis,regress_values,\"r-\")\n",
    "plt.annotate(line_eq,(0,50),fontsize=15,color=\"red\")\n",
    "plt.savefig(\"output_data/15chart_southlat2cloudiness.png\")\n",
    "plt.show()\n",
    "print(f\"The correlation coefficient is {round(st.pearsonr(x_axis,y_axis)[0],2)}\")\n",
    "print(f\"The line equation is as follows:  {line_eq}\")"
   ]
  },
  {
   "cell_type": "markdown",
   "metadata": {},
   "source": [
    "####  Northern Hemisphere - Wind Speed (mph) vs. Latitude Linear Regression"
   ]
  },
  {
   "cell_type": "code",
   "execution_count": 88,
   "metadata": {},
   "outputs": [
    {
     "data": {
      "image/png": "[encoded data removed]",
      "text/plain": [
       "<Figure size 432x288 with 1 Axes>"
      ]
     },
     "metadata": {
      "needs_background": "light"
     },
     "output_type": "display_data"
    },
    {
     "name": "stdout",
     "output_type": "stream",
     "text": [
      "The correlation coefficient is 0.16\n",
      "The line equation is as follows:  y = 0.02x + 2.72\n"
     ]
    }
   ],
   "source": [
    "#Compare latitude to windspeed\n",
    "x_axis = northern[\"Lat\"]\n",
    "y_axis = northern[\"Wind Speed\"]\n",
    "plt.title(\"Ex. 16: Northern Hemisphere / Relationship Between Lattitude and Wind Speed\")\n",
    "plt.xlabel(\"Latitude\")\n",
    "plt.ylabel(\"Wind Speed\")\n",
    "plt.scatter(x_axis, y_axis, marker=\"o\", color=\"blue\")\n",
    "(slope, intercept, rvalue, pvalue, stderr) = linregress(x_axis, y_axis)\n",
    "regress_values = x_axis * slope + intercept\n",
    "line_eq = \"y = \" + str(round(slope,2)) + \"x + \" + str(round(intercept,2))\n",
    "plt.plot(x_axis,regress_values,\"r-\")\n",
    "plt.annotate(line_eq,(0,50),fontsize=15,color=\"red\")\n",
    "plt.savefig(\"output_data/16chart_northlat2wind.png\")\n",
    "plt.show()\n",
    "print(f\"The correlation coefficient is {round(st.pearsonr(x_axis,y_axis)[0],2)}\")\n",
    "print(f\"The line equation is as follows:  {line_eq}\")"
   ]
  },
  {
   "cell_type": "markdown",
   "metadata": {},
   "source": [
    "####  Southern Hemisphere - Wind Speed (mph) vs. Latitude Linear Regression"
   ]
  },
  {
   "cell_type": "code",
   "execution_count": 89,
   "metadata": {},
   "outputs": [
    {
     "data": {
      "image/png": "[encoded data removed]",
      "text/plain": [
       "<Figure size 432x288 with 1 Axes>"
      ]
     },
     "metadata": {
      "needs_background": "light"
     },
     "output_type": "display_data"
    },
    {
     "name": "stdout",
     "output_type": "stream",
     "text": [
      "The correlation coefficient is -0.06\n",
      "The line equation is as follows:  y = -0.01x + 3.64\n"
     ]
    }
   ],
   "source": [
    "# Compare latitude to Wind Speed\n",
    "x_axis = southern[\"Lat\"]\n",
    "y_axis = southern[\"Wind Speed\"]\n",
    "plt.title(\"Ex. 17: Southern Hemisphere / Relationship Between Lattitude and Wind Speed\")\n",
    "plt.xlabel(\"Latitude\")\n",
    "plt.ylabel(\"Wind Speed\")\n",
    "plt.scatter(x_axis, y_axis, marker=\"o\", color=\"blue\")\n",
    "(slope, intercept, rvalue, pvalue, stderr) = linregress(x_axis.astype(float), y_axis.astype(float))\n",
    "regress_values = x_axis * slope + intercept\n",
    "line_eq = \"y = \" + str(round(slope,2)) + \"x + \" + str(round(intercept,2))\n",
    "plt.plot(x_axis,regress_values,\"r-\")\n",
    "plt.annotate(line_eq,(0,50),fontsize=15,color=\"red\")\n",
    "plt.savefig(\"output_data/17chart_southlat2windspeed.png\")\n",
    "plt.show()\n",
    "print(f\"The correlation coefficient is {round(st.pearsonr(x_axis,y_axis)[0],2)}\")\n",
    "print(f\"The line equation is as follows:  {line_eq}\")"
   ]
  },
  {
   "cell_type": "code",
   "execution_count": null,
   "metadata": {},
   "outputs": [],
   "source": []
  }
 ],
 "metadata": {
  "anaconda-cloud": {},
  "kernel_info": {
   "name": "python3"
  },
  "kernelspec": {
   "display_name": "Python [conda env:PythonData] *",
   "language": "python",
   "name": "conda-env-PythonData-py"
  },
  "language_info": {
   "codemirror_mode": {
    "name": "ipython",
    "version": 3
   },
   "file_extension": ".py",
   "mimetype": "text/x-python",
   "name": "python",
   "nbconvert_exporter": "python",
   "pygments_lexer": "ipython3",
   "version": "3.7.1"
  },
  "latex_envs": {
   "LaTeX_envs_menu_present": true,
   "autoclose": false,
   "autocomplete": true,
   "bibliofile": "biblio.bib",
   "cite_by": "apalike",
   "current_citInitial": 1,
   "eqLabelWithNumbers": true,
   "eqNumInitial": 1,
   "hotkeys": {
    "equation": "Ctrl-E",
    "itemize": "Ctrl-I"
   },
   "labels_anchors": false,
   "latex_user_defs": false,
   "report_style_numbering": false,
   "user_envs_cfg": false
  },
  "nteract": {
   "version": "0.12.3"
  }
 },
 "nbformat": 4,
 "nbformat_minor": 2
}
