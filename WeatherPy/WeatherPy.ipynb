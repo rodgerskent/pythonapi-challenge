{
 "cells": [
  {
   "cell_type": "markdown",
   "metadata": {},
   "source": [
    "# WeatherPy\n",
    "----\n",
    "\n",
    "#### Note\n",
    "* Instructions have been included for each segment. You do not have to follow them exactly, but they are included to help you think through the steps."
   ]
  },
  {
   "cell_type": "code",
   "execution_count": 23,
   "metadata": {
    "scrolled": true
   },
   "outputs": [],
   "source": [
    "#kmr weatherpy workbook\n",
    "# Dependencies and Setup\n",
    "import matplotlib.pyplot as plt\n",
    "import pandas as pd\n",
    "import numpy as np\n",
    "import requests\n",
    "import time\n",
    "import scipy.stats as st\n",
    "from scipy.stats import linregress\n",
    "import json\n",
    "\n",
    "# Import API key\n",
    "from config import api_key\n",
    "\n",
    "# Incorporated citipy to determine city based on latitude and longitude\n",
    "from citipy import citipy\n",
    "\n",
    "# Output File (CSV)\n",
    "output_data_file = \"output_data/cities.csv\"\n",
    "\n",
    "# Range of latitudes and longitudes\n",
    "lat_range = (-90, 90)\n",
    "lng_range = (-180, 180)"
   ]
  },
  {
   "cell_type": "code",
   "execution_count": 24,
   "metadata": {},
   "outputs": [
    {
     "name": "stdout",
     "output_type": "stream",
     "text": [
      "The weather API responded with: 291.08.\n",
      "~~~~~~~~~~~~~~~~~~~~~~~~~~~~~~~~~~~~~~~~~~~~~~~~~\n"
     ]
    }
   ],
   "source": [
    "# Test to determine if the API key and url are working before gettign too far down the road\n",
    "# Build query URL and request your results in Celsius\n",
    "url = \"http://api.openweathermap.org/data/2.5/weather?\"\n",
    "town = \"Burundi\"\n",
    "# Get weather data\n",
    "xquery_url = url + \"appid=\" + api_key + \"&q=\" + town\n",
    "# Get temperature from JSON response\n",
    "weather_response = requests.get(xquery_url).json()\n",
    "weather_json = weather_response['main']['temp']\n",
    "# Report temperature\n",
    "print(f\"The weather API responded with: {weather_json}.\")\n",
    "print(\"~~~~~~~~~~~~~~~~~~~~~~~~~~~~~~~~~~~~~~~~~~~~~~~~~\")"
   ]
  },
  {
   "cell_type": "markdown",
   "metadata": {},
   "source": [
    "## Generate Cities List"
   ]
  },
  {
   "cell_type": "code",
   "execution_count": 25,
   "metadata": {},
   "outputs": [
    {
     "name": "stdout",
     "output_type": "stream",
     "text": [
      "The number of randomly generated cities in the project scope\n",
      "639\n"
     ]
    }
   ],
   "source": [
    "# List for holding lat_lngs and cities\n",
    "lat_lngs = []\n",
    "cities = []\n",
    "\n",
    "# Create a set of random lat and lng combinations\n",
    "lats = np.random.uniform(lat_range[0], lat_range[1], size=1500)\n",
    "lngs = np.random.uniform(lng_range[0], lng_range[1], size=1500)\n",
    "lat_lngs = zip(lats, lngs)\n",
    "\n",
    "# Identify nearest city for each lat, lng combination\n",
    "for lat_lng in lat_lngs:\n",
    "    city = citipy.nearest_city(lat_lng[0], lat_lng[1]).city_name\n",
    "    \n",
    "    # If the city is unique, then add it to a our cities list\n",
    "    if city not in cities:\n",
    "        cities.append(city)\n",
    "\n",
    "# Print the city count to confirm sufficient count\n",
    "#len(cities)\n",
    "fullset = len(cities)\n",
    "print(\"The number of randomly generated cities in the project scope\")\n",
    "print(fullset)\n",
    "#print(cities)"
   ]
  },
  {
   "cell_type": "code",
   "execution_count": 26,
   "metadata": {},
   "outputs": [
    {
     "name": "stdout",
     "output_type": "stream",
     "text": [
      "Exhibit 1a: Cities in the project with a place to capture weather data\n"
     ]
    },
    {
     "data": {
      "text/html": [
       "<div>\n",
       "<style scoped>\n",
       "    .dataframe tbody tr th:only-of-type {\n",
       "        vertical-align: middle;\n",
       "    }\n",
       "\n",
       "    .dataframe tbody tr th {\n",
       "        vertical-align: top;\n",
       "    }\n",
       "\n",
       "    .dataframe thead th {\n",
       "        text-align: right;\n",
       "    }\n",
       "</style>\n",
       "<table border=\"1\" class=\"dataframe\">\n",
       "  <thead>\n",
       "    <tr style=\"text-align: right;\">\n",
       "      <th></th>\n",
       "      <th>City</th>\n",
       "      <th>Lat</th>\n",
       "      <th>Lng</th>\n",
       "      <th>Temp Max</th>\n",
       "      <th>Humidity</th>\n",
       "      <th>Cloudiness</th>\n",
       "      <th>Wind Speed</th>\n",
       "      <th>Country</th>\n",
       "      <th>Date</th>\n",
       "    </tr>\n",
       "  </thead>\n",
       "  <tbody>\n",
       "    <tr>\n",
       "      <th>0</th>\n",
       "      <td>kodiak</td>\n",
       "      <td>0</td>\n",
       "      <td>0</td>\n",
       "      <td>0</td>\n",
       "      <td>0</td>\n",
       "      <td>0</td>\n",
       "      <td>0</td>\n",
       "      <td></td>\n",
       "      <td></td>\n",
       "    </tr>\n",
       "    <tr>\n",
       "      <th>1</th>\n",
       "      <td>omboue</td>\n",
       "      <td>0</td>\n",
       "      <td>0</td>\n",
       "      <td>0</td>\n",
       "      <td>0</td>\n",
       "      <td>0</td>\n",
       "      <td>0</td>\n",
       "      <td></td>\n",
       "      <td></td>\n",
       "    </tr>\n",
       "    <tr>\n",
       "      <th>2</th>\n",
       "      <td>kapaa</td>\n",
       "      <td>0</td>\n",
       "      <td>0</td>\n",
       "      <td>0</td>\n",
       "      <td>0</td>\n",
       "      <td>0</td>\n",
       "      <td>0</td>\n",
       "      <td></td>\n",
       "      <td></td>\n",
       "    </tr>\n",
       "    <tr>\n",
       "      <th>3</th>\n",
       "      <td>beloha</td>\n",
       "      <td>0</td>\n",
       "      <td>0</td>\n",
       "      <td>0</td>\n",
       "      <td>0</td>\n",
       "      <td>0</td>\n",
       "      <td>0</td>\n",
       "      <td></td>\n",
       "      <td></td>\n",
       "    </tr>\n",
       "    <tr>\n",
       "      <th>4</th>\n",
       "      <td>kavieng</td>\n",
       "      <td>0</td>\n",
       "      <td>0</td>\n",
       "      <td>0</td>\n",
       "      <td>0</td>\n",
       "      <td>0</td>\n",
       "      <td>0</td>\n",
       "      <td></td>\n",
       "      <td></td>\n",
       "    </tr>\n",
       "  </tbody>\n",
       "</table>\n",
       "</div>"
      ],
      "text/plain": [
       "      City  Lat  Lng  Temp Max  Humidity  Cloudiness  Wind Speed Country Date\n",
       "0   kodiak    0    0         0         0           0           0             \n",
       "1   omboue    0    0         0         0           0           0             \n",
       "2    kapaa    0    0         0         0           0           0             \n",
       "3   beloha    0    0         0         0           0           0             \n",
       "4  kavieng    0    0         0         0           0           0             "
      ]
     },
     "execution_count": 26,
     "metadata": {},
     "output_type": "execute_result"
    }
   ],
   "source": [
    "# Build a data frame to capture each cities weather information\n",
    "cities_df = {\n",
    "    \"City\": cities,\n",
    "}\n",
    "cities_df = pd.DataFrame(cities_df)\n",
    "print(\"Exhibit 1a: Cities in the project with a place to capture weather data\")\n",
    "\n",
    "# set up additional columns to hold information\n",
    "cities_df['Lat'] = 0\n",
    "cities_df['Lng'] = 0\n",
    "cities_df['Temp Max'] = 0\n",
    "cities_df['Humidity'] = 0\n",
    "cities_df['Cloudiness'] = 0\n",
    "cities_df['Wind Speed'] = 0\n",
    "cities_df['Country'] = \"\"\n",
    "cities_df['Date'] = \"\"\n",
    "cities_df.head()"
   ]
  },
  {
   "cell_type": "markdown",
   "metadata": {},
   "source": [
    "### Perform API Calls\n",
    "* Perform a weather check on each city using a series of successive API calls.\n",
    "* Include a print log of each city as it'sbeing processed (with the city number and city name).\n"
   ]
  },
  {
   "cell_type": "code",
   "execution_count": 27,
   "metadata": {
    "scrolled": true
   },
   "outputs": [
    {
     "name": "stdout",
     "output_type": "stream",
     "text": [
      "Checkpoint: Confirmation listing of cities processed through OpenWeather Site\n",
      "Processing Record 1 of 639. City = kodiak\n",
      "Processing Record 2 of 639. City = omboue\n",
      "Processing Record 3 of 639. City = kapaa\n",
      "Processing Record 4 of 639. City = beloha\n",
      "Processing Record 5 of 639. City = kavieng\n",
      "Processing Record 6 of 639. City = orchard homes\n",
      "Processing Record 7 of 639. City = ushuaia\n",
      "Processing Record 8 of 639. City = saskylakh\n",
      "Processing Record 9 of 639. City = yellowknife\n",
      "Processing Record 10 of 639. City = hilo\n",
      "Processing Record 11 of 639. City = cape town\n",
      "Processing Record 12 of 639. City = punta arenas\n",
      "Processing Record 13 of 639. City = airai\n",
      "Processing Record 14 of 639. City = padang\n",
      "Processing Record 15 of 639. City = bambous virieux\n",
      "Processing Record 16 of 639. City = nome\n",
      "Processing Record 17 of 639. City = busselton\n",
      "Processing Record 18 of 639. City = puerto ayora\n",
      "Processing Record 19 of 639. City = sarangani\n",
      "Processing Record 20 of 639. City = klaksvik\n",
      "Processing Record 21 of 639. City = upernavik\n",
      "Processing Record 22 of 639. City = ternate\n",
      "Processing Record 23 of 639. City = san patricio\n",
      "Processing Record 24 of 639. City = illoqqortoormiut\n",
      "... skipped over  illoqqortoormiut  because it lacked sufficient information\n",
      "Processing Record 25 of 639. City = namatanai\n",
      "Processing Record 26 of 639. City = gazojak\n",
      "Processing Record 27 of 639. City = emba\n",
      "Processing Record 28 of 639. City = sarlat-la-caneda\n",
      "Processing Record 29 of 639. City = axim\n",
      "Processing Record 30 of 639. City = tarudant\n",
      "... skipped over  tarudant  because it lacked sufficient information\n",
      "Processing Record 31 of 639. City = taolanaro\n",
      "... skipped over  taolanaro  because it lacked sufficient information\n",
      "Processing Record 32 of 639. City = khandyga\n",
      "Processing Record 33 of 639. City = alofi\n",
      "Processing Record 34 of 639. City = henties bay\n",
      "Processing Record 35 of 639. City = hermanus\n",
      "Processing Record 36 of 639. City = mar del plata\n",
      "Processing Record 37 of 639. City = pathein\n",
      "Processing Record 38 of 639. City = kaitangata\n",
      "Processing Record 39 of 639. City = bredasdorp\n",
      "Processing Record 40 of 639. City = witbank\n",
      "Processing Record 41 of 639. City = bani walid\n",
      "Processing Record 42 of 639. City = khani\n",
      "Processing Record 43 of 639. City = shimoda\n",
      "Processing Record 44 of 639. City = dikson\n",
      "Processing Record 45 of 639. City = mataura\n",
      "Processing Record 46 of 639. City = rikitea\n",
      "Processing Record 47 of 639. City = mount gambier\n",
      "Processing Record 48 of 639. City = ewa beach\n",
      "Processing Record 49 of 639. City = alice springs\n",
      "Processing Record 50 of 639. City = barrow\n",
      "Processing Record 51 of 639. City = patacamaya\n",
      "Processing Record 52 of 639. City = stepnyak\n",
      "Processing Record 53 of 639. City = jamestown\n",
      "Processing Record 54 of 639. City = bluff\n",
      "Processing Record 55 of 639. City = juneau\n",
      "Processing Record 56 of 639. City = nizhneyansk\n",
      "... skipped over  nizhneyansk  because it lacked sufficient information\n",
      "Processing Record 57 of 639. City = karpathos\n",
      "Processing Record 58 of 639. City = diego de almagro\n",
      "Processing Record 59 of 639. City = tucuma\n",
      "Processing Record 60 of 639. City = sept-iles\n",
      "**Done running the first batch**\n"
     ]
    }
   ],
   "source": [
    "# Save config information.\n",
    "url = \"http://api.openweathermap.org/data/2.5/weather?\"\n",
    "units = \"metric\"\n",
    "\n",
    "# Build partial query URL\n",
    "query_url = f\"{url}appid={api_key}&units={units}&q=\"\n",
    "\n",
    "counter = 0\n",
    "\n",
    "# Loop through the list of cities and perform a request for data on each\n",
    "print(\"Checkpoint: Confirmation listing of cities processed through OpenWeather Site\")\n",
    "\n",
    "for index, row in cities_df.iterrows():\n",
    "    cityname = row['City']\n",
    "    counter = counter + 1\n",
    "    \n",
    "    if counter >= 61:\n",
    "        print(\"**Done running the first batch**\")\n",
    "        break\n",
    "    \n",
    "    if counter <= 60:\n",
    "        time.sleep(1)\n",
    "        print(f\"Processing Record {counter} of {fullset}. City = {cityname}\")\n",
    "        \n",
    "        try:\n",
    "            response = requests.get(query_url + cityname).json()   \n",
    "            cities_df.loc[index, 'Lat'] = response['coord']['lat']\n",
    "            cities_df.loc[index, 'Lng'] = response['coord']['lon']\n",
    "            cities_df.loc[index, 'Temp Max'] = response['main']['temp_max']\n",
    "            cities_df.loc[index, 'Humidity'] = response['main']['humidity']\n",
    "            cities_df.loc[index, 'Cloudiness'] = response['clouds']['all']\n",
    "            cities_df.loc[index, 'Wind Speed'] = response['wind']['speed']\n",
    "            cities_df.loc[index, 'Country'] = response['sys']['country']\n",
    "            cities_df.loc[index, 'Date'] = response['dt']\n",
    "         \n",
    "        except (KeyError, IndexError, ValueError):\n",
    "            print(f\"... skipped over  \" + cityname + \"  because it lacked sufficient information\")\n",
    "            #cities_df.remove(cityname) ... doesn't work here\n",
    "            pass\n",
    "\n",
    "# First attempt structure going to lists instead of dataframes\n",
    "# Create lists to capture date for use in data frame\n",
    "#cities = ['London', 'xxToronto','nanortalik', 'haines junction', 'ancud', 'mikkeli', 'daru', 'vaini', 'bethel', 'vostok']\n",
    "#cities = cities\n",
    "# lat = []\n",
    "# lng = []\n",
    "# temp_max = []\n",
    "# humidity = []\n",
    "# cloudiness = []\n",
    "# wind_speed = []\n",
    "# country = []\n",
    "# date = []\n",
    "#for city in cities:\n",
    "#             lat.append(response['coord']['lat'])\n",
    "#             lng.append(response['coord']['lon'])\n",
    "#             temp_max.append(response['main']['temp_max'])\n",
    "#             humidity.append(response['main']['humidity'])\n",
    "#             cloudiness.append(response['clouds']['all'])\n",
    "#             wind_speed.append(response['wind']['speed'])\n",
    "#             country.append(response['sys']['country'])\n",
    "#             date.append(response['dt'])\n"
   ]
  },
  {
   "cell_type": "code",
   "execution_count": 29,
   "metadata": {},
   "outputs": [
    {
     "name": "stdout",
     "output_type": "stream",
     "text": [
      "Exhibit 1b: Cities with their available weather data\n"
     ]
    },
    {
     "data": {
      "text/html": [
       "<div>\n",
       "<style scoped>\n",
       "    .dataframe tbody tr th:only-of-type {\n",
       "        vertical-align: middle;\n",
       "    }\n",
       "\n",
       "    .dataframe tbody tr th {\n",
       "        vertical-align: top;\n",
       "    }\n",
       "\n",
       "    .dataframe thead th {\n",
       "        text-align: right;\n",
       "    }\n",
       "</style>\n",
       "<table border=\"1\" class=\"dataframe\">\n",
       "  <thead>\n",
       "    <tr style=\"text-align: right;\">\n",
       "      <th></th>\n",
       "      <th>City</th>\n",
       "      <th>Lat</th>\n",
       "      <th>Lng</th>\n",
       "      <th>Temp Max</th>\n",
       "      <th>Humidity</th>\n",
       "      <th>Cloudiness</th>\n",
       "      <th>Wind Speed</th>\n",
       "      <th>Country</th>\n",
       "      <th>Date</th>\n",
       "    </tr>\n",
       "  </thead>\n",
       "  <tbody>\n",
       "    <tr>\n",
       "      <th>0</th>\n",
       "      <td>kodiak</td>\n",
       "      <td>57.79</td>\n",
       "      <td>-152.41</td>\n",
       "      <td>8.00</td>\n",
       "      <td>70</td>\n",
       "      <td>90</td>\n",
       "      <td>9.30</td>\n",
       "      <td>US</td>\n",
       "      <td>1603390348</td>\n",
       "    </tr>\n",
       "    <tr>\n",
       "      <th>1</th>\n",
       "      <td>omboue</td>\n",
       "      <td>-1.57</td>\n",
       "      <td>9.26</td>\n",
       "      <td>25.14</td>\n",
       "      <td>86</td>\n",
       "      <td>90</td>\n",
       "      <td>3.60</td>\n",
       "      <td>GA</td>\n",
       "      <td>1603390427</td>\n",
       "    </tr>\n",
       "    <tr>\n",
       "      <th>2</th>\n",
       "      <td>kapaa</td>\n",
       "      <td>22.08</td>\n",
       "      <td>-159.32</td>\n",
       "      <td>23.00</td>\n",
       "      <td>88</td>\n",
       "      <td>20</td>\n",
       "      <td>1.32</td>\n",
       "      <td>US</td>\n",
       "      <td>1603390428</td>\n",
       "    </tr>\n",
       "    <tr>\n",
       "      <th>3</th>\n",
       "      <td>beloha</td>\n",
       "      <td>-25.17</td>\n",
       "      <td>45.05</td>\n",
       "      <td>22.83</td>\n",
       "      <td>73</td>\n",
       "      <td>0</td>\n",
       "      <td>7.79</td>\n",
       "      <td>MG</td>\n",
       "      <td>1603390429</td>\n",
       "    </tr>\n",
       "    <tr>\n",
       "      <th>4</th>\n",
       "      <td>kavieng</td>\n",
       "      <td>-2.57</td>\n",
       "      <td>150.80</td>\n",
       "      <td>27.59</td>\n",
       "      <td>77</td>\n",
       "      <td>76</td>\n",
       "      <td>5.78</td>\n",
       "      <td>PG</td>\n",
       "      <td>1603390430</td>\n",
       "    </tr>\n",
       "  </tbody>\n",
       "</table>\n",
       "</div>"
      ],
      "text/plain": [
       "      City    Lat     Lng  Temp Max  Humidity  Cloudiness  Wind Speed Country  \\\n",
       "0   kodiak  57.79 -152.41      8.00        70          90        9.30      US   \n",
       "1   omboue  -1.57    9.26     25.14        86          90        3.60      GA   \n",
       "2    kapaa  22.08 -159.32     23.00        88          20        1.32      US   \n",
       "3   beloha -25.17   45.05     22.83        73           0        7.79      MG   \n",
       "4  kavieng  -2.57  150.80     27.59        77          76        5.78      PG   \n",
       "\n",
       "         Date  \n",
       "0  1603390348  \n",
       "1  1603390427  \n",
       "2  1603390428  \n",
       "3  1603390429  \n",
       "4  1603390430  "
      ]
     },
     "execution_count": 29,
     "metadata": {},
     "output_type": "execute_result"
    }
   ],
   "source": [
    "# Provide a review list of all cities checked for weather data\n",
    "cities_df = cities_df.dropna(how='any')\n",
    "print(\"Exhibit 1b: Cities with their available weather data\")\n",
    "cities_df.to_csv(\"output_data/1bex_citiespostapicall.csv\", index=False, header=True)\n",
    "cities_df.head()"
   ]
  },
  {
   "cell_type": "code",
   "execution_count": 33,
   "metadata": {},
   "outputs": [
    {
     "name": "stdout",
     "output_type": "stream",
     "text": [
      "Exhibit 1c: Cities with a full set of weather data\n"
     ]
    },
    {
     "data": {
      "text/html": [
       "<div>\n",
       "<style scoped>\n",
       "    .dataframe tbody tr th:only-of-type {\n",
       "        vertical-align: middle;\n",
       "    }\n",
       "\n",
       "    .dataframe tbody tr th {\n",
       "        vertical-align: top;\n",
       "    }\n",
       "\n",
       "    .dataframe thead th {\n",
       "        text-align: right;\n",
       "    }\n",
       "</style>\n",
       "<table border=\"1\" class=\"dataframe\">\n",
       "  <thead>\n",
       "    <tr style=\"text-align: right;\">\n",
       "      <th></th>\n",
       "      <th>City</th>\n",
       "      <th>Lat</th>\n",
       "      <th>Lng</th>\n",
       "      <th>Temp Max</th>\n",
       "      <th>Humidity</th>\n",
       "      <th>Cloudiness</th>\n",
       "      <th>Wind Speed</th>\n",
       "      <th>Country</th>\n",
       "      <th>Date</th>\n",
       "    </tr>\n",
       "  </thead>\n",
       "  <tbody>\n",
       "    <tr>\n",
       "      <th>0</th>\n",
       "      <td>kodiak</td>\n",
       "      <td>57.79</td>\n",
       "      <td>-152.41</td>\n",
       "      <td>8.00</td>\n",
       "      <td>70</td>\n",
       "      <td>90</td>\n",
       "      <td>9.30</td>\n",
       "      <td>US</td>\n",
       "      <td>1603390348</td>\n",
       "    </tr>\n",
       "    <tr>\n",
       "      <th>1</th>\n",
       "      <td>omboue</td>\n",
       "      <td>-1.57</td>\n",
       "      <td>9.26</td>\n",
       "      <td>25.14</td>\n",
       "      <td>86</td>\n",
       "      <td>90</td>\n",
       "      <td>3.60</td>\n",
       "      <td>GA</td>\n",
       "      <td>1603390427</td>\n",
       "    </tr>\n",
       "    <tr>\n",
       "      <th>2</th>\n",
       "      <td>kapaa</td>\n",
       "      <td>22.08</td>\n",
       "      <td>-159.32</td>\n",
       "      <td>23.00</td>\n",
       "      <td>88</td>\n",
       "      <td>20</td>\n",
       "      <td>1.32</td>\n",
       "      <td>US</td>\n",
       "      <td>1603390428</td>\n",
       "    </tr>\n",
       "    <tr>\n",
       "      <th>3</th>\n",
       "      <td>beloha</td>\n",
       "      <td>-25.17</td>\n",
       "      <td>45.05</td>\n",
       "      <td>22.83</td>\n",
       "      <td>73</td>\n",
       "      <td>0</td>\n",
       "      <td>7.79</td>\n",
       "      <td>MG</td>\n",
       "      <td>1603390429</td>\n",
       "    </tr>\n",
       "    <tr>\n",
       "      <th>4</th>\n",
       "      <td>kavieng</td>\n",
       "      <td>-2.57</td>\n",
       "      <td>150.80</td>\n",
       "      <td>27.59</td>\n",
       "      <td>77</td>\n",
       "      <td>76</td>\n",
       "      <td>5.78</td>\n",
       "      <td>PG</td>\n",
       "      <td>1603390430</td>\n",
       "    </tr>\n",
       "  </tbody>\n",
       "</table>\n",
       "</div>"
      ],
      "text/plain": [
       "      City    Lat     Lng  Temp Max  Humidity  Cloudiness  Wind Speed Country  \\\n",
       "0   kodiak  57.79 -152.41      8.00        70          90        9.30      US   \n",
       "1   omboue  -1.57    9.26     25.14        86          90        3.60      GA   \n",
       "2    kapaa  22.08 -159.32     23.00        88          20        1.32      US   \n",
       "3   beloha -25.17   45.05     22.83        73           0        7.79      MG   \n",
       "4  kavieng  -2.57  150.80     27.59        77          76        5.78      PG   \n",
       "\n",
       "         Date  \n",
       "0  1603390348  \n",
       "1  1603390427  \n",
       "2  1603390428  \n",
       "3  1603390429  \n",
       "4  1603390430  "
      ]
     },
     "execution_count": 33,
     "metadata": {},
     "output_type": "execute_result"
    }
   ],
   "source": [
    "# Remove cities that did not have a full set of weather data available from the data frame\n",
    "print(\"Exhibit 1c: Cities with a full set of weather data\")\n",
    "cities_df = cities_df.dropna()\n",
    "cities_df.to_csv(\"output_data/1cex_cleancities.csv\", index=False, header=True)\n",
    "cities_df.head()"
   ]
  },
  {
   "cell_type": "markdown",
   "metadata": {},
   "source": [
    "### Convert Raw Data to DataFrame\n",
    "* Export the city data into a .csv.\n",
    "* Display the DataFrame"
   ]
  },
  {
   "cell_type": "code",
   "execution_count": 31,
   "metadata": {},
   "outputs": [],
   "source": [
    "# #Export the randomly generated list of cities to to a csv file\n",
    "cities_df.to_csv(\"output_data/1dex_cleancities.csv\", index=False, header=True)\n",
    "\n",
    "# Create a data frame from the response lists\n",
    "\n",
    "# dictionary = {\n",
    "#     \"City\": cities,\n",
    "#     \"Lat\": lat,\n",
    "#     \"Lng\": lng,\n",
    "#     \"Temp Max\": temp_max,\n",
    "#     \"Humidity\": humidity,\n",
    "#     \"Cloudiness\": cloudiness,\n",
    "#     \"Wind Speed\": wind_speed,\n",
    "#     \"Country\": country,\n",
    "#     \"Date\": date\n",
    "# }\n",
    "# dictionary = pd.DataFrame(dictionary)\n",
    "# print(\"Exhibit 2: Table with in scope cities and their weather data\")\n",
    "# dictionary.head()"
   ]
  },
  {
   "cell_type": "markdown",
   "metadata": {},
   "source": [
    "## Inspect the data and remove the cities where the humidity > 100%.\n",
    "----\n",
    "Skip this step if there are no cities that have humidity > 100%. "
   ]
  },
  {
   "cell_type": "code",
   "execution_count": 8,
   "metadata": {},
   "outputs": [
    {
     "name": "stdout",
     "output_type": "stream",
     "text": [
      "Exhibit 2: Table with in scope cities and their weather data. (Note: Cities with humidity >100% removed)\n"
     ]
    },
    {
     "data": {
      "text/html": [
       "<div>\n",
       "<style scoped>\n",
       "    .dataframe tbody tr th:only-of-type {\n",
       "        vertical-align: middle;\n",
       "    }\n",
       "\n",
       "    .dataframe tbody tr th {\n",
       "        vertical-align: top;\n",
       "    }\n",
       "\n",
       "    .dataframe thead th {\n",
       "        text-align: right;\n",
       "    }\n",
       "</style>\n",
       "<table border=\"1\" class=\"dataframe\">\n",
       "  <thead>\n",
       "    <tr style=\"text-align: right;\">\n",
       "      <th></th>\n",
       "      <th>City</th>\n",
       "      <th>Lat</th>\n",
       "      <th>Lng</th>\n",
       "      <th>Temp Max</th>\n",
       "      <th>Humidity</th>\n",
       "      <th>Cloudiness</th>\n",
       "      <th>Wind Speed</th>\n",
       "      <th>Country</th>\n",
       "      <th>Date</th>\n",
       "    </tr>\n",
       "  </thead>\n",
       "  <tbody>\n",
       "    <tr>\n",
       "      <th>0</th>\n",
       "      <td>tasiilaq</td>\n",
       "      <td>65.61</td>\n",
       "      <td>-37.64</td>\n",
       "      <td>3.00</td>\n",
       "      <td>64</td>\n",
       "      <td>100</td>\n",
       "      <td>15.40</td>\n",
       "      <td>GL</td>\n",
       "      <td>1603388944</td>\n",
       "    </tr>\n",
       "    <tr>\n",
       "      <th>1</th>\n",
       "      <td>antofagasta</td>\n",
       "      <td>-23.65</td>\n",
       "      <td>-70.40</td>\n",
       "      <td>19.44</td>\n",
       "      <td>72</td>\n",
       "      <td>75</td>\n",
       "      <td>5.70</td>\n",
       "      <td>CL</td>\n",
       "      <td>1603388945</td>\n",
       "    </tr>\n",
       "    <tr>\n",
       "      <th>2</th>\n",
       "      <td>port alfred</td>\n",
       "      <td>-33.59</td>\n",
       "      <td>26.89</td>\n",
       "      <td>19.94</td>\n",
       "      <td>88</td>\n",
       "      <td>0</td>\n",
       "      <td>6.52</td>\n",
       "      <td>ZA</td>\n",
       "      <td>1603388946</td>\n",
       "    </tr>\n",
       "    <tr>\n",
       "      <th>3</th>\n",
       "      <td>hilo</td>\n",
       "      <td>19.73</td>\n",
       "      <td>-155.09</td>\n",
       "      <td>22.22</td>\n",
       "      <td>52</td>\n",
       "      <td>1</td>\n",
       "      <td>4.10</td>\n",
       "      <td>US</td>\n",
       "      <td>1603388948</td>\n",
       "    </tr>\n",
       "    <tr>\n",
       "      <th>4</th>\n",
       "      <td>chokurdakh</td>\n",
       "      <td>70.63</td>\n",
       "      <td>147.92</td>\n",
       "      <td>-16.54</td>\n",
       "      <td>94</td>\n",
       "      <td>48</td>\n",
       "      <td>4.22</td>\n",
       "      <td>RU</td>\n",
       "      <td>1603388950</td>\n",
       "    </tr>\n",
       "  </tbody>\n",
       "</table>\n",
       "</div>"
      ],
      "text/plain": [
       "          City    Lat     Lng  Temp Max  Humidity  Cloudiness  Wind Speed  \\\n",
       "0     tasiilaq  65.61  -37.64      3.00        64         100       15.40   \n",
       "1  antofagasta -23.65  -70.40     19.44        72          75        5.70   \n",
       "2  port alfred -33.59   26.89     19.94        88           0        6.52   \n",
       "3         hilo  19.73 -155.09     22.22        52           1        4.10   \n",
       "4   chokurdakh  70.63  147.92    -16.54        94          48        4.22   \n",
       "\n",
       "  Country        Date  \n",
       "0      GL  1603388944  \n",
       "1      CL  1603388945  \n",
       "2      ZA  1603388946  \n",
       "3      US  1603388948  \n",
       "4      RU  1603388950  "
      ]
     },
     "execution_count": 8,
     "metadata": {},
     "output_type": "execute_result"
    }
   ],
   "source": [
    "# Inspect and remove cities with humidity greater than 100%\n",
    "print(\"Exhibit 2: Table with in scope cities and their weather data. (Note: Cities with humidity >100% removed)\")\n",
    "#cities_df[\"Humidity\"]= pd.to_numeric(cities_df[\"Humidity\"])\n",
    "dehumidified = cities_df.loc[cities_df[\"Humidity\"] <= 100]\n",
    "dehumidified.head()"
   ]
  },
  {
   "cell_type": "code",
   "execution_count": 9,
   "metadata": {},
   "outputs": [
    {
     "name": "stdout",
     "output_type": "stream",
     "text": [
      "Exhibit 3: List of cities removed from project because humidity was greater than 100% (blank if none)\n"
     ]
    },
    {
     "data": {
      "text/html": [
       "<div>\n",
       "<style scoped>\n",
       "    .dataframe tbody tr th:only-of-type {\n",
       "        vertical-align: middle;\n",
       "    }\n",
       "\n",
       "    .dataframe tbody tr th {\n",
       "        vertical-align: top;\n",
       "    }\n",
       "\n",
       "    .dataframe thead th {\n",
       "        text-align: right;\n",
       "    }\n",
       "</style>\n",
       "<table border=\"1\" class=\"dataframe\">\n",
       "  <thead>\n",
       "    <tr style=\"text-align: right;\">\n",
       "      <th></th>\n",
       "      <th>City</th>\n",
       "      <th>Lat</th>\n",
       "      <th>Lng</th>\n",
       "      <th>Temp Max</th>\n",
       "      <th>Humidity</th>\n",
       "      <th>Cloudiness</th>\n",
       "      <th>Wind Speed</th>\n",
       "      <th>Country</th>\n",
       "      <th>Date</th>\n",
       "    </tr>\n",
       "  </thead>\n",
       "  <tbody>\n",
       "  </tbody>\n",
       "</table>\n",
       "</div>"
      ],
      "text/plain": [
       "Empty DataFrame\n",
       "Columns: [City, Lat, Lng, Temp Max, Humidity, Cloudiness, Wind Speed, Country, Date]\n",
       "Index: []"
      ]
     },
     "execution_count": 9,
     "metadata": {},
     "output_type": "execute_result"
    }
   ],
   "source": [
    "print(\"Exhibit 3: List of cities removed from project because humidity was greater than 100% (blank if none)\")\n",
    "humidoutliers = cities_df.loc[cities_df[\"Humidity\"] > 100]\n",
    "humidoutliers.head()"
   ]
  },
  {
   "cell_type": "code",
   "execution_count": 10,
   "metadata": {},
   "outputs": [],
   "source": [
    "# Export the data frame to a csv file\n",
    "dehumidified.to_csv(\"output_data/2ex_cleancitydata.csv\", index=False, header=True)\n",
    "humidoutliers.to_csv(\"output_data/3ex_citieswithtoomuchhumidity.csv\", index=False, header=True)"
   ]
  },
  {
   "cell_type": "markdown",
   "metadata": {},
   "source": [
    "## Plotting the Data\n",
    "* Use proper labeling of the plots using plot titles (including date of analysis) and axes labels.\n",
    "* Save the plotted figures as .pngs."
   ]
  },
  {
   "cell_type": "markdown",
   "metadata": {},
   "source": [
    "## Latitude vs. Temperature Plot"
   ]
  },
  {
   "cell_type": "code",
   "execution_count": 11,
   "metadata": {
    "scrolled": true
   },
   "outputs": [
    {
     "data": {
      "image/png": "[encoded data removed]",
      "text/plain": [
       "<Figure size 432x288 with 1 Axes>"
      ]
     },
     "metadata": {
      "needs_background": "light"
     },
     "output_type": "display_data"
    }
   ],
   "source": [
    "# Compare latitude to temperature\n",
    "x_axis = dehumidified[\"Lat\"]\n",
    "y_axis = dehumidified[\"Temp Max\"]\n",
    "   \n",
    "plt.title(\"Ex. 4: Relationship Between Lattitude and Maximum Temperature\")\n",
    "plt.xlabel(\"Latitude\")\n",
    "plt.ylabel(\"Maximum Temperature\")\n",
    "\n",
    "plt.scatter(x_axis, y_axis, marker=\"o\", color=\"blue\")\n",
    "\n",
    "#(slope, intercept, rvalue, pvalue, stderr) = linregress(x_axis, y_axis)\n",
    "#regress_values = x_axis * slope + intercept\n",
    "#line_eq = \"y = \" + str(round(slope,2)) + \"x + \" + str(round(intercept,2))\n",
    "#plt.plot(x_axis,regress_values,\"r-\")\n",
    "#plt.annotate(line_eq,(0,50),fontsize=15,color=\"red\")\n",
    "\n",
    "plt.savefig(\"output_data/4chart_lat2temp.png\")\n",
    "plt.show()\n",
    "# print(f\"The correlation coefficient is {round(st.pearsonr(x_axis,y_axis)[0],2)}\")\n",
    "# print(f\"The line equation is as follows:  {line_eq}\")"
   ]
  },
  {
   "cell_type": "markdown",
   "metadata": {},
   "source": [
    "## Latitude vs. Humidity Plot"
   ]
  },
  {
   "cell_type": "code",
   "execution_count": 12,
   "metadata": {},
   "outputs": [
    {
     "data": {
      "image/png": "[encoded data removed]",
      "text/plain": [
       "<Figure size 432x288 with 1 Axes>"
      ]
     },
     "metadata": {
      "needs_background": "light"
     },
     "output_type": "display_data"
    }
   ],
   "source": [
    "# Compare latitude to humidity\n",
    "x_axis = dehumidified[\"Lat\"]\n",
    "y_axis = dehumidified[\"Humidity\"]\n",
    "   \n",
    "plt.title(\"Ex. 5: Relationship Between Lattitude and Humidity\")\n",
    "plt.xlabel(\"Latitude\")\n",
    "plt.ylabel(\"Humidity\")\n",
    "\n",
    "plt.scatter(x_axis, y_axis, marker=\"o\", color=\"blue\")\n",
    "\n",
    "#(slope, intercept, rvalue, pvalue, stderr) = linregress(x_axis, y_axis)\n",
    "#regress_values = x_axis * slope + intercept\n",
    "#line_eq = \"y = \" + str(round(slope,2)) + \"x + \" + str(round(intercept,2))\n",
    "#plt.plot(x_axis,regress_values,\"r-\")\n",
    "#plt.annotate(line_eq,(0,50),fontsize=15,color=\"red\")\n",
    "\n",
    "plt.savefig(\"output_data/5chart_lat2humidity.png\")\n",
    "plt.show()\n",
    "# print(f\"The correlation coefficient is {round(st.pearsonr(x_axis,y_axis)[0],2)}\")\n",
    "# print(f\"The line equation is as follows:  {line_eq}\")"
   ]
  },
  {
   "cell_type": "markdown",
   "metadata": {},
   "source": [
    "## Latitude vs. Cloudiness Plot"
   ]
  },
  {
   "cell_type": "code",
   "execution_count": 13,
   "metadata": {},
   "outputs": [
    {
     "data": {
      "image/png": "[encoded data removed]",
      "text/plain": [
       "<Figure size 432x288 with 1 Axes>"
      ]
     },
     "metadata": {
      "needs_background": "light"
     },
     "output_type": "display_data"
    }
   ],
   "source": [
    "# Compare latitude to cloudiness\n",
    "x_axis = dehumidified[\"Lat\"]\n",
    "y_axis = dehumidified[\"Cloudiness\"]\n",
    "   \n",
    "plt.title(\"Ex. 6: Relationship Between Lattitude and Cloudiness\")\n",
    "plt.xlabel(\"Latitude\")\n",
    "plt.ylabel(\"Cloudiness\")\n",
    "\n",
    "plt.scatter(x_axis, y_axis, marker=\"o\", color=\"blue\")\n",
    "\n",
    "# (slope, intercept, rvalue, pvalue, stderr) = linregress(x_axis, y_axis)\n",
    "# regress_values = x_axis * slope + intercept\n",
    "# line_eq = \"y = \" + str(round(slope,2)) + \"x + \" + str(round(intercept,2))\n",
    "# plt.plot(x_axis,regress_values,\"r-\")\n",
    "# plt.annotate(line_eq,(0,50),fontsize=15,color=\"red\")\n",
    "\n",
    "plt.savefig(\"output_data/6chart_lat2cloudiness.png\")\n",
    "plt.show()\n",
    "# print(f\"The correlation coefficient is {round(st.pearsonr(x_axis,y_axis)[0],2)}\")\n",
    "# print(f\"The line equation is as follows:  {line_eq}\")"
   ]
  },
  {
   "cell_type": "markdown",
   "metadata": {},
   "source": [
    "## Latitude vs. Wind Speed Plot"
   ]
  },
  {
   "cell_type": "code",
   "execution_count": 14,
   "metadata": {},
   "outputs": [
    {
     "data": {
      "image/png": "[encoded data removed]",
      "text/plain": [
       "<Figure size 432x288 with 1 Axes>"
      ]
     },
     "metadata": {
      "needs_background": "light"
     },
     "output_type": "display_data"
    }
   ],
   "source": [
    "# Compare latitude to wind speed\n",
    "x_axis = dehumidified[\"Lat\"]\n",
    "y_axis = dehumidified[\"Wind Speed\"]\n",
    "   \n",
    "plt.title(\"Ex. 7: Relationship Between Lattitude and Wind Speed\")\n",
    "plt.xlabel(\"Latitude\")\n",
    "plt.ylabel(\"Wind Speed\")\n",
    "\n",
    "plt.scatter(x_axis, y_axis, marker=\"o\", color=\"blue\")\n",
    "\n",
    "# (slope, intercept, rvalue, pvalue, stderr) = linregress(x_axis, y_axis)\n",
    "# regress_values = x_axis * slope + intercept\n",
    "# line_eq = \"y = \" + str(round(slope,2)) + \"x + \" + str(round(intercept,2))\n",
    "# plt.plot(x_axis,regress_values,\"r-\")\n",
    "# plt.annotate(line_eq,(0,50),fontsize=15,color=\"red\")\n",
    "\n",
    "plt.savefig(\"output_data/7chart_lat2windspeed.png\")\n",
    "plt.show()\n",
    "# print(f\"The correlation coefficient is {round(st.pearsonr(x_axis,y_axis)[0],2)}\")\n",
    "# print(f\"The line equation is as follows:  {line_eq}\")"
   ]
  },
  {
   "cell_type": "markdown",
   "metadata": {},
   "source": [
    "## Linear Regression"
   ]
  },
  {
   "cell_type": "code",
   "execution_count": 15,
   "metadata": {},
   "outputs": [],
   "source": [
    "# See above"
   ]
  },
  {
   "cell_type": "code",
   "execution_count": 16,
   "metadata": {},
   "outputs": [
    {
     "name": "stdout",
     "output_type": "stream",
     "text": [
      "Exhibit 8: Table of cities at or north of equator. (Note: Cities with humidity >100% removed)\n"
     ]
    },
    {
     "data": {
      "text/html": [
       "<div>\n",
       "<style scoped>\n",
       "    .dataframe tbody tr th:only-of-type {\n",
       "        vertical-align: middle;\n",
       "    }\n",
       "\n",
       "    .dataframe tbody tr th {\n",
       "        vertical-align: top;\n",
       "    }\n",
       "\n",
       "    .dataframe thead th {\n",
       "        text-align: right;\n",
       "    }\n",
       "</style>\n",
       "<table border=\"1\" class=\"dataframe\">\n",
       "  <thead>\n",
       "    <tr style=\"text-align: right;\">\n",
       "      <th></th>\n",
       "      <th>City</th>\n",
       "      <th>Lat</th>\n",
       "      <th>Lng</th>\n",
       "      <th>Temp Max</th>\n",
       "      <th>Humidity</th>\n",
       "      <th>Cloudiness</th>\n",
       "      <th>Wind Speed</th>\n",
       "      <th>Country</th>\n",
       "      <th>Date</th>\n",
       "    </tr>\n",
       "  </thead>\n",
       "  <tbody>\n",
       "    <tr>\n",
       "      <th>0</th>\n",
       "      <td>tasiilaq</td>\n",
       "      <td>65.61</td>\n",
       "      <td>-37.64</td>\n",
       "      <td>3.00</td>\n",
       "      <td>64</td>\n",
       "      <td>100</td>\n",
       "      <td>15.40</td>\n",
       "      <td>GL</td>\n",
       "      <td>1603388944</td>\n",
       "    </tr>\n",
       "    <tr>\n",
       "      <th>3</th>\n",
       "      <td>hilo</td>\n",
       "      <td>19.73</td>\n",
       "      <td>-155.09</td>\n",
       "      <td>22.22</td>\n",
       "      <td>52</td>\n",
       "      <td>1</td>\n",
       "      <td>4.10</td>\n",
       "      <td>US</td>\n",
       "      <td>1603388948</td>\n",
       "    </tr>\n",
       "    <tr>\n",
       "      <th>4</th>\n",
       "      <td>chokurdakh</td>\n",
       "      <td>70.63</td>\n",
       "      <td>147.92</td>\n",
       "      <td>-16.54</td>\n",
       "      <td>94</td>\n",
       "      <td>48</td>\n",
       "      <td>4.22</td>\n",
       "      <td>RU</td>\n",
       "      <td>1603388950</td>\n",
       "    </tr>\n",
       "    <tr>\n",
       "      <th>5</th>\n",
       "      <td>victoria</td>\n",
       "      <td>22.29</td>\n",
       "      <td>114.16</td>\n",
       "      <td>23.89</td>\n",
       "      <td>56</td>\n",
       "      <td>100</td>\n",
       "      <td>5.60</td>\n",
       "      <td>HK</td>\n",
       "      <td>1603388752</td>\n",
       "    </tr>\n",
       "    <tr>\n",
       "      <th>7</th>\n",
       "      <td>pangnirtung</td>\n",
       "      <td>66.15</td>\n",
       "      <td>-65.71</td>\n",
       "      <td>-3.00</td>\n",
       "      <td>100</td>\n",
       "      <td>90</td>\n",
       "      <td>2.10</td>\n",
       "      <td>CA</td>\n",
       "      <td>1603388954</td>\n",
       "    </tr>\n",
       "  </tbody>\n",
       "</table>\n",
       "</div>"
      ],
      "text/plain": [
       "          City    Lat     Lng  Temp Max  Humidity  Cloudiness  Wind Speed  \\\n",
       "0     tasiilaq  65.61  -37.64      3.00        64         100       15.40   \n",
       "3         hilo  19.73 -155.09     22.22        52           1        4.10   \n",
       "4   chokurdakh  70.63  147.92    -16.54        94          48        4.22   \n",
       "5     victoria  22.29  114.16     23.89        56         100        5.60   \n",
       "7  pangnirtung  66.15  -65.71     -3.00       100          90        2.10   \n",
       "\n",
       "  Country        Date  \n",
       "0      GL  1603388944  \n",
       "3      US  1603388948  \n",
       "4      RU  1603388950  \n",
       "5      HK  1603388752  \n",
       "7      CA  1603388954  "
      ]
     },
     "execution_count": 16,
     "metadata": {},
     "output_type": "execute_result"
    }
   ],
   "source": [
    "# Build a northern hemisphere data frame\n",
    "northern = dehumidified.loc[dehumidified[\"Lat\"] >= 0]\n",
    "print(\"Exhibit 8: Table of cities at or north of equator. (Note: Cities with humidity >100% removed)\")\n",
    "northern.to_csv(\"output_data/8ex_northernhemisphere.csv\", index=False, header=True)\n",
    "northern.head()"
   ]
  },
  {
   "cell_type": "code",
   "execution_count": 17,
   "metadata": {},
   "outputs": [
    {
     "name": "stdout",
     "output_type": "stream",
     "text": [
      "Exhibit 9: Table of cities south of equator. (Note: Cities with humidity >100% removed)\n"
     ]
    },
    {
     "data": {
      "text/html": [
       "<div>\n",
       "<style scoped>\n",
       "    .dataframe tbody tr th:only-of-type {\n",
       "        vertical-align: middle;\n",
       "    }\n",
       "\n",
       "    .dataframe tbody tr th {\n",
       "        vertical-align: top;\n",
       "    }\n",
       "\n",
       "    .dataframe thead th {\n",
       "        text-align: right;\n",
       "    }\n",
       "</style>\n",
       "<table border=\"1\" class=\"dataframe\">\n",
       "  <thead>\n",
       "    <tr style=\"text-align: right;\">\n",
       "      <th></th>\n",
       "      <th>City</th>\n",
       "      <th>Lat</th>\n",
       "      <th>Lng</th>\n",
       "      <th>Temp Max</th>\n",
       "      <th>Humidity</th>\n",
       "      <th>Cloudiness</th>\n",
       "      <th>Wind Speed</th>\n",
       "      <th>Country</th>\n",
       "      <th>Date</th>\n",
       "    </tr>\n",
       "  </thead>\n",
       "  <tbody>\n",
       "    <tr>\n",
       "      <th>1</th>\n",
       "      <td>antofagasta</td>\n",
       "      <td>-23.65</td>\n",
       "      <td>-70.40</td>\n",
       "      <td>19.44</td>\n",
       "      <td>72</td>\n",
       "      <td>75</td>\n",
       "      <td>5.70</td>\n",
       "      <td>CL</td>\n",
       "      <td>1603388945</td>\n",
       "    </tr>\n",
       "    <tr>\n",
       "      <th>2</th>\n",
       "      <td>port alfred</td>\n",
       "      <td>-33.59</td>\n",
       "      <td>26.89</td>\n",
       "      <td>19.94</td>\n",
       "      <td>88</td>\n",
       "      <td>0</td>\n",
       "      <td>6.52</td>\n",
       "      <td>ZA</td>\n",
       "      <td>1603388946</td>\n",
       "    </tr>\n",
       "    <tr>\n",
       "      <th>6</th>\n",
       "      <td>hobart</td>\n",
       "      <td>-42.88</td>\n",
       "      <td>147.33</td>\n",
       "      <td>11.00</td>\n",
       "      <td>87</td>\n",
       "      <td>90</td>\n",
       "      <td>3.10</td>\n",
       "      <td>AU</td>\n",
       "      <td>1603388913</td>\n",
       "    </tr>\n",
       "    <tr>\n",
       "      <th>8</th>\n",
       "      <td>kruisfontein</td>\n",
       "      <td>-34.00</td>\n",
       "      <td>24.73</td>\n",
       "      <td>21.11</td>\n",
       "      <td>70</td>\n",
       "      <td>0</td>\n",
       "      <td>1.34</td>\n",
       "      <td>ZA</td>\n",
       "      <td>1603388955</td>\n",
       "    </tr>\n",
       "    <tr>\n",
       "      <th>9</th>\n",
       "      <td>katima mulilo</td>\n",
       "      <td>-17.50</td>\n",
       "      <td>24.27</td>\n",
       "      <td>33.00</td>\n",
       "      <td>18</td>\n",
       "      <td>8</td>\n",
       "      <td>3.60</td>\n",
       "      <td>NA</td>\n",
       "      <td>1603388956</td>\n",
       "    </tr>\n",
       "  </tbody>\n",
       "</table>\n",
       "</div>"
      ],
      "text/plain": [
       "            City    Lat     Lng  Temp Max  Humidity  Cloudiness  Wind Speed  \\\n",
       "1    antofagasta -23.65  -70.40     19.44        72          75        5.70   \n",
       "2    port alfred -33.59   26.89     19.94        88           0        6.52   \n",
       "6         hobart -42.88  147.33     11.00        87          90        3.10   \n",
       "8   kruisfontein -34.00   24.73     21.11        70           0        1.34   \n",
       "9  katima mulilo -17.50   24.27     33.00        18           8        3.60   \n",
       "\n",
       "  Country        Date  \n",
       "1      CL  1603388945  \n",
       "2      ZA  1603388946  \n",
       "6      AU  1603388913  \n",
       "8      ZA  1603388955  \n",
       "9      NA  1603388956  "
      ]
     },
     "execution_count": 17,
     "metadata": {},
     "output_type": "execute_result"
    }
   ],
   "source": [
    "# Build a southern hemisphere data frame\n",
    "southern = dehumidified.loc[dehumidified[\"Lat\"] < 0]\n",
    "print(\"Exhibit 9: Table of cities south of equator. (Note: Cities with humidity >100% removed)\")\n",
    "southern.to_csv(\"output_data/9ex_southernhemisphere.csv\", index=False, header=True)\n",
    "southern.head()"
   ]
  },
  {
   "cell_type": "markdown",
   "metadata": {},
   "source": [
    "####  Northern Hemisphere - Max Temp vs. Latitude Linear Regression"
   ]
  },
  {
   "cell_type": "code",
   "execution_count": 18,
   "metadata": {},
   "outputs": [
    {
     "data": {
      "image/png": "[encoded data removed]",
      "text/plain": [
       "<Figure size 432x288 with 1 Axes>"
      ]
     },
     "metadata": {
      "needs_background": "light"
     },
     "output_type": "display_data"
    },
    {
     "name": "stdout",
     "output_type": "stream",
     "text": [
      "The correlation coefficient is 0.18\n",
      "The line equation is as follows:  y = 0.06x + 0.37\n"
     ]
    }
   ],
   "source": [
    "#Compare latitude to temperature\n",
    "\n",
    "x_axis = northern[\"Lat\"]\n",
    "#print(x_axis.dtype)\n",
    "#print(x_axis.head())\n",
    "y_axis = northern[\"Temp Max\"]\n",
    "   \n",
    "plt.title(\"Ex. 10: Northern Hemisphere / Relationship Between Lattitude and Maximum Temperature\")\n",
    "plt.xlabel(\"Latitude\")\n",
    "plt.ylabel(\"Maximum Temperature\")\n",
    "\n",
    "plt.scatter(x_axis, y_axis, marker=\"o\", color=\"blue\")\n",
    "\n",
    "#unable to perform regression because slope does not have a value ... 'float' object has not attribute 'shape'\n",
    "#print(type(x_axis))\n",
    "#print(type(y_axis))\n",
    "\n",
    "#print(y_axis.head())\n",
    "#print(linregress(x_axis.astype(float), y_axis.astype(float))\n",
    "(slope, intercept, rvalue, pvalue, stderr) = linregress(x_axis, y_axis)\n",
    "#(slope, intercept, rvalue, pvalue, stderr) = linregress(x_axis.astype(float), y_axis.astype(float))\n",
    "regress_values = x_axis * slope + intercept\n",
    "line_eq = \"y = \" + str(round(slope,2)) + \"x + \" + str(round(intercept,2))\n",
    "plt.plot(x_axis,regress_values,\"r-\")\n",
    "plt.annotate(line_eq,(0,50),fontsize=15,color=\"red\")\n",
    "\n",
    "plt.savefig(\"output_data/10chart_northlat2temp.png\")\n",
    "plt.show()\n",
    "print(f\"The correlation coefficient is {round(st.pearsonr(x_axis,y_axis)[0],2)}\")\n",
    "print(f\"The line equation is as follows:  {line_eq}\")"
   ]
  },
  {
   "cell_type": "markdown",
   "metadata": {},
   "source": [
    "####  Southern Hemisphere - Max Temp vs. Latitude Linear Regression"
   ]
  },
  {
   "cell_type": "code",
   "execution_count": 19,
   "metadata": {},
   "outputs": [
    {
     "data": {
      "image/png": "[encoded data removed]",
      "text/plain": [
       "<Figure size 432x288 with 1 Axes>"
      ]
     },
     "metadata": {
      "needs_background": "light"
     },
     "output_type": "display_data"
    },
    {
     "name": "stdout",
     "output_type": "stream",
     "text": [
      "The correlation coefficient is 0.75\n",
      "The line equation is as follows:  y = 0.32x + 28.39\n"
     ]
    }
   ],
   "source": [
    "# Compare latitude to temperature\n",
    "\n",
    "x_axis = southern[\"Lat\"]\n",
    "y_axis = southern[\"Temp Max\"]\n",
    "   \n",
    "plt.title(\"Ex. 11: Southern Hemisphere / Relationship Between Lattitude and Maximum Temperature\")\n",
    "plt.xlabel(\"Latitude\")\n",
    "plt.ylabel(\"Maximum Temperature\")\n",
    "\n",
    "plt.scatter(x_axis, y_axis, marker=\"o\", color=\"blue\")\n",
    "\n",
    "# unable to perform regression because slope does not have a value ... 'float' object has not attribute 'shape'\n",
    "(slope, intercept, rvalue, pvalue, stderr) = linregress(x_axis.astype(float), y_axis.astype(float))\n",
    "regress_values = x_axis * slope + intercept\n",
    "line_eq = \"y = \" + str(round(slope,2)) + \"x + \" + str(round(intercept,2))\n",
    "plt.plot(x_axis,regress_values,\"r-\")\n",
    "plt.annotate(line_eq,(0,50),fontsize=15,color=\"red\")\n",
    "plt.savefig(\"output_data/11chart_southlat2temp.png\")\n",
    "plt.show()\n",
    "\n",
    "print(f\"The correlation coefficient is {round(st.pearsonr(x_axis,y_axis)[0],2)}\")\n",
    "print(f\"The line equation is as follows:  {line_eq}\")"
   ]
  },
  {
   "cell_type": "markdown",
   "metadata": {},
   "source": [
    "####  Northern Hemisphere - Humidity (%) vs. Latitude Linear Regression"
   ]
  },
  {
   "cell_type": "code",
   "execution_count": null,
   "metadata": {},
   "outputs": [],
   "source": []
  },
  {
   "cell_type": "markdown",
   "metadata": {},
   "source": [
    "####  Southern Hemisphere - Humidity (%) vs. Latitude Linear Regression"
   ]
  },
  {
   "cell_type": "code",
   "execution_count": null,
   "metadata": {},
   "outputs": [],
   "source": []
  },
  {
   "cell_type": "markdown",
   "metadata": {},
   "source": [
    "####  Northern Hemisphere - Cloudiness (%) vs. Latitude Linear Regression"
   ]
  },
  {
   "cell_type": "code",
   "execution_count": null,
   "metadata": {},
   "outputs": [],
   "source": []
  },
  {
   "cell_type": "markdown",
   "metadata": {},
   "source": [
    "####  Southern Hemisphere - Cloudiness (%) vs. Latitude Linear Regression"
   ]
  },
  {
   "cell_type": "code",
   "execution_count": null,
   "metadata": {},
   "outputs": [],
   "source": []
  },
  {
   "cell_type": "markdown",
   "metadata": {},
   "source": [
    "####  Northern Hemisphere - Wind Speed (mph) vs. Latitude Linear Regression"
   ]
  },
  {
   "cell_type": "code",
   "execution_count": null,
   "metadata": {},
   "outputs": [],
   "source": []
  },
  {
   "cell_type": "markdown",
   "metadata": {},
   "source": [
    "####  Southern Hemisphere - Wind Speed (mph) vs. Latitude Linear Regression"
   ]
  },
  {
   "cell_type": "code",
   "execution_count": null,
   "metadata": {},
   "outputs": [],
   "source": []
  },
  {
   "cell_type": "code",
   "execution_count": null,
   "metadata": {},
   "outputs": [],
   "source": []
  }
 ],
 "metadata": {
  "anaconda-cloud": {},
  "kernel_info": {
   "name": "python3"
  },
  "kernelspec": {
   "display_name": "Python [conda env:PythonData] *",
   "language": "python",
   "name": "conda-env-PythonData-py"
  },
  "language_info": {
   "codemirror_mode": {
    "name": "ipython",
    "version": 3
   },
   "file_extension": ".py",
   "mimetype": "text/x-python",
   "name": "python",
   "nbconvert_exporter": "python",
   "pygments_lexer": "ipython3",
   "version": "3.7.1"
  },
  "latex_envs": {
   "LaTeX_envs_menu_present": true,
   "autoclose": false,
   "autocomplete": true,
   "bibliofile": "biblio.bib",
   "cite_by": "apalike",
   "current_citInitial": 1,
   "eqLabelWithNumbers": true,
   "eqNumInitial": 1,
   "hotkeys": {
    "equation": "Ctrl-E",
    "itemize": "Ctrl-I"
   },
   "labels_anchors": false,
   "latex_user_defs": false,
   "report_style_numbering": false,
   "user_envs_cfg": false
  },
  "nteract": {
   "version": "0.12.3"
  }
 },
 "nbformat": 4,
 "nbformat_minor": 2
}
